{
  "nbformat": 4,
  "nbformat_minor": 0,
  "metadata": {
    "colab": {
      "name": "1900015062_Galang Suryaputra_Function.ipynb",
      "provenance": [],
      "collapsed_sections": [],
      "include_colab_link": true
    },
    "kernelspec": {
      "name": "python3",
      "display_name": "Python 3"
    },
    "language_info": {
      "name": "python"
    }
  },
  "cells": [
    {
      "cell_type": "markdown",
      "metadata": {
        "id": "view-in-github",
        "colab_type": "text"
      },
      "source": [
        "<a href=\"https://colab.research.google.com/github/GalangSuryaputra/Pedjoeang-Data-Sains/blob/main/1900015062_Galang_Suryaputra_Function.ipynb\" target=\"_parent\"><img src=\"https://colab.research.google.com/assets/colab-badge.svg\" alt=\"Open In Colab\"/></a>"
      ]
    },
    {
      "cell_type": "markdown",
      "metadata": {
        "id": "L5m4BxppNomy"
      },
      "source": [
        "#Function\n",
        "Function adalah sebuah blok statement yang hanya akan dijalankan saat ia dipanggil."
      ]
    },
    {
      "cell_type": "code",
      "metadata": {
        "id": "UyTbRBZ2rFIN",
        "colab": {
          "base_uri": "https://localhost:8080/"
        },
        "outputId": "108f8023-1952-4919-8f92-898e670e9a31"
      },
      "source": [
        "genap = [2,4,6,8,10]\n",
        "len(genap)"
      ],
      "execution_count": null,
      "outputs": [
        {
          "output_type": "execute_result",
          "data": {
            "text/plain": [
              "5"
            ]
          },
          "metadata": {},
          "execution_count": 1
        }
      ]
    },
    {
      "cell_type": "code",
      "metadata": {
        "colab": {
          "base_uri": "https://localhost:8080/"
        },
        "id": "XL4kqpzFOLsQ",
        "outputId": "cac82d39-f18a-4c6a-cf2d-463760f4c680"
      },
      "source": [
        "print('Assalamualaikum Dunia')"
      ],
      "execution_count": null,
      "outputs": [
        {
          "output_type": "stream",
          "name": "stdout",
          "text": [
            "Assalamualaikum Dunia\n"
          ]
        }
      ]
    },
    {
      "cell_type": "markdown",
      "metadata": {
        "id": "x1yhMy0uOVVL"
      },
      "source": [
        "##Keyword & Argument\n",
        "**Keyword/Parameter** : Variable yang digunakan dalam deklarasi fungsi\n",
        "\n",
        "**Argument** : Nilai yang diberikan saat pemanggilan fungsi"
      ]
    },
    {
      "cell_type": "code",
      "metadata": {
        "colab": {
          "base_uri": "https://localhost:8080/"
        },
        "id": "zXubi7KBOR06",
        "outputId": "c4161a2f-04e8-414b-a15e-8cf5be6d1cab"
      },
      "source": [
        "# sep = keyword/argument\n",
        "# '_' = argument\n",
        "\n",
        "print('kata1','kata2', sep='/')"
      ],
      "execution_count": null,
      "outputs": [
        {
          "output_type": "stream",
          "name": "stdout",
          "text": [
            "kata1/kata2\n"
          ]
        }
      ]
    },
    {
      "cell_type": "code",
      "metadata": {
        "id": "Zww_NH82Pv8p"
      },
      "source": [
        ""
      ],
      "execution_count": null,
      "outputs": []
    },
    {
      "cell_type": "markdown",
      "metadata": {
        "id": "4Y-OwU6HQD40"
      },
      "source": [
        "##Membuat Fungsi\n",
        "Python mengizinkan untuk mendeklarasikan fungsi dalam kode yang dituliskan yang dikenal dengan **user defined function**\n",
        "\n",
        "\n",
        "\n",
        "```\n",
        "def nama_fungsi(argument):\n",
        "  pernyataan_1\n",
        "  ...\n",
        "  pernyataan_n\n",
        "  return nilai keluaran\n",
        "```\n",
        "\n"
      ]
    },
    {
      "cell_type": "code",
      "metadata": {
        "id": "OlItxMgtQUne"
      },
      "source": [
        "#Pendefinisian fungsi_kuadrat\n",
        "def fungsi_kuadrat(x):\n",
        "  hasil = x**2\n",
        "  return hasil\n"
      ],
      "execution_count": null,
      "outputs": []
    },
    {
      "cell_type": "code",
      "metadata": {
        "id": "4uWpYt3hQ6O7"
      },
      "source": [
        "#Alternatif Pendefinisian fungsi_kuadrat\n",
        "def fungsi_kuadrat(x):\n",
        "  return x**2"
      ],
      "execution_count": null,
      "outputs": []
    },
    {
      "cell_type": "code",
      "metadata": {
        "colab": {
          "base_uri": "https://localhost:8080/"
        },
        "id": "1ouWt7ReRIfe",
        "outputId": "bcacb82c-16bb-444b-d392-ba18dce69ea9"
      },
      "source": [
        "#Pemanggilan fungsi_kuadrat\n",
        "fungsi_kuadrat(6)"
      ],
      "execution_count": null,
      "outputs": [
        {
          "output_type": "execute_result",
          "data": {
            "text/plain": [
              "36"
            ]
          },
          "metadata": {},
          "execution_count": 6
        }
      ]
    },
    {
      "cell_type": "markdown",
      "metadata": {
        "id": "umFnjQ8KWMk2"
      },
      "source": [
        "##Positional Argument dan Keyword\n",
        "Kita bisa menyatakan sebagai positional argument atau keyword. Beberapa manfaat argument kata kunci dapat berupa :\n",
        "\n",
        "* Kita dapat menyebut argumen dengan nama mereka untuk memperjelas apa yang mereka wakili\n",
        "* Kita dapat mengatur ulang argumen dengan cara yang membuatnya paling mudah dibaca"
      ]
    },
    {
      "cell_type": "code",
      "metadata": {
        "id": "_r4gHEkXROjt"
      },
      "source": [
        "#Mendefinisikan fungsi dengan beberapa argumen\n",
        "def tampilkan_kata(a,b,c):\n",
        "  print(a,b,c)"
      ],
      "execution_count": null,
      "outputs": []
    },
    {
      "cell_type": "code",
      "metadata": {
        "colab": {
          "base_uri": "https://localhost:8080/"
        },
        "id": "l26b_221Xk-O",
        "outputId": "6ef63a51-7c72-4216-e48e-90293feeabb0"
      },
      "source": [
        "#Positional Arguments\n",
        "tampilkan_kata('aku','kau','dia')"
      ],
      "execution_count": null,
      "outputs": [
        {
          "output_type": "stream",
          "name": "stdout",
          "text": [
            "aku kau dia\n"
          ]
        }
      ]
    },
    {
      "cell_type": "code",
      "metadata": {
        "colab": {
          "base_uri": "https://localhost:8080/"
        },
        "id": "nToXJihoX7Ug",
        "outputId": "38e0750b-cfa1-4c67-892c-b19c2935d2cd"
      },
      "source": [
        "tampilkan_kata('kau','aku','dia')"
      ],
      "execution_count": null,
      "outputs": [
        {
          "output_type": "stream",
          "name": "stdout",
          "text": [
            "kau aku dia\n"
          ]
        }
      ]
    },
    {
      "cell_type": "code",
      "metadata": {
        "colab": {
          "base_uri": "https://localhost:8080/"
        },
        "id": "g6fk_N8eYMu7",
        "outputId": "4f292887-4b75-4ec4-ed72-03348a431833"
      },
      "source": [
        "#argumen berdasarkan keyword-nya\n",
        "tampilkan_kata(a='aku', b='kau', c='dia')\n",
        "tampilkan_kata(c='dia', b='kau', a='aku')\n",
        "\n",
        "#Catatan : Jika sudah diberi kunci maka urutan tidak menjadi penting"
      ],
      "execution_count": null,
      "outputs": [
        {
          "output_type": "stream",
          "name": "stdout",
          "text": [
            "aku kau dia\n",
            "aku kau dia\n"
          ]
        }
      ]
    },
    {
      "cell_type": "code",
      "metadata": {
        "colab": {
          "base_uri": "https://localhost:8080/"
        },
        "id": "qaDhhr4tYyZF",
        "outputId": "5eb011f2-13b2-4785-9b3a-d075656232ce"
      },
      "source": [
        "#Campuran antara argumen posisi dan argumen kata kunci\n",
        "tampilkan_kata('aku', b='kau', c='dia')"
      ],
      "execution_count": null,
      "outputs": [
        {
          "output_type": "stream",
          "name": "stdout",
          "text": [
            "aku kau dia\n"
          ]
        }
      ]
    },
    {
      "cell_type": "markdown",
      "metadata": {
        "id": "uBGVVpMmarH2"
      },
      "source": [
        "Ini tidak diijinkan:\n",
        "* Positional argument setelah keyword argument\n",
        "    ```\n",
        "    tampilkan_kata('aku', b='kau', 'dia')\n",
        "    ```\n",
        "* Terdapat dua nilai untuk satu keyword argument yang sama\n",
        "    ```\n",
        "    tampilkan_kata(1, b=2, a=3)\n",
        "    ```\n",
        "\n"
      ]
    },
    {
      "cell_type": "markdown",
      "metadata": {
        "id": "DIdb6CdDcCjJ"
      },
      "source": [
        "##Argument Default\n",
        "Fungsi dapat memiliki argumen default dengan nilai yang telah ditentukan sebelumnya. Argumen ini dapat ditinggalkan dan nilai default kemudian diteruskan ke fungsi, atau argumen dapat dirubah dengan nilai yang berbeda. Perhatikan bahwa argumen default harus ditentukan sebagai parameter terakhir dalam suatu fungsi."
      ]
    },
    {
      "cell_type": "code",
      "metadata": {
        "colab": {
          "base_uri": "https://localhost:8080/"
        },
        "id": "CGsp6Qt3aF1w",
        "outputId": "99486411-f6aa-4cf8-e774-9d9950c95000"
      },
      "source": [
        "#Argumen default\n",
        "def tampilkan_kata(a,b,c,d='sahabat'):\n",
        "  print(a,b,c,d)\n",
        "\n",
        "tampilkan_kata('aku','kau','dia')\n",
        "tampilkan_kata('aku',b='kau',c='dia',d='teman')\n",
        "\n",
        "#catatan : Argumen default harus diletakkan terakhir"
      ],
      "execution_count": null,
      "outputs": [
        {
          "output_type": "stream",
          "name": "stdout",
          "text": [
            "aku kau dia sahabat\n",
            "aku kau dia teman\n"
          ]
        }
      ]
    },
    {
      "cell_type": "markdown",
      "metadata": {
        "id": "WdNn0rVtdv3I"
      },
      "source": [
        "##Contoh User Defined Function"
      ]
    },
    {
      "cell_type": "code",
      "metadata": {
        "colab": {
          "base_uri": "https://localhost:8080/"
        },
        "id": "SPqmI30sdd0Q",
        "outputId": "f42c7806-b578-4e10-b443-bbc0c07aa5ab"
      },
      "source": [
        "#Contoh 1 : Penjumlahan 2 bilangan\n",
        "\n",
        "def penjumlahan(x, y): # input\n",
        "  a=x+y                # proses\n",
        "  return a             # output\n",
        "\n",
        "penjumlahan(1, 2)      # Pemanggilan fungsi"
      ],
      "execution_count": null,
      "outputs": [
        {
          "output_type": "execute_result",
          "data": {
            "text/plain": [
              "3"
            ]
          },
          "metadata": {},
          "execution_count": 16
        }
      ]
    },
    {
      "cell_type": "code",
      "metadata": {
        "colab": {
          "base_uri": "https://localhost:8080/"
        },
        "id": "VOIUCO_0enEK",
        "outputId": "9f33eb28-7e32-4842-de92-f3da5e0e1570"
      },
      "source": [
        "#Contoh 2 : Penjumlahan yang memungkinkan untuk tiga bilangan\n",
        "\n",
        "def penjumlahan(x,y,z=None):\n",
        "  if (z==None):\n",
        "    return x+y\n",
        "  else:\n",
        "    return x+y+z\n",
        "\n",
        "print(penjumlahan(1,2))\n",
        "print(penjumlahan(1,2,3))"
      ],
      "execution_count": null,
      "outputs": [
        {
          "output_type": "stream",
          "name": "stdout",
          "text": [
            "3\n",
            "6\n"
          ]
        }
      ]
    },
    {
      "cell_type": "code",
      "metadata": {
        "colab": {
          "base_uri": "https://localhost:8080/"
        },
        "id": "shZLnbwqfSw8",
        "outputId": "1cd87e6c-a69e-4163-eda3-20d7c5b68d78"
      },
      "source": [
        "#Contoh 3  : Menghitung luas dan keliling persegi\n",
        "\n",
        "def luas_dan_keliling_presegi(s):\n",
        "  luas = s**2\n",
        "  keliling = 4*s\n",
        "  return luas, keliling\n",
        "\n",
        "luas, keliling = luas_dan_keliling_presegi(2)\n",
        "print('luas:', luas)\n",
        "print('keliling:', keliling)"
      ],
      "execution_count": null,
      "outputs": [
        {
          "output_type": "stream",
          "name": "stdout",
          "text": [
            "luas: 4\n",
            "keliling: 8\n"
          ]
        }
      ]
    },
    {
      "cell_type": "markdown",
      "metadata": {
        "id": "ldFhL881g11k"
      },
      "source": [
        "##Latihan"
      ]
    },
    {
      "cell_type": "code",
      "metadata": {
        "colab": {
          "base_uri": "https://localhost:8080/"
        },
        "id": "g_5mAcx7gnEy",
        "outputId": "04a39f95-c705-43f9-fb9b-d7849983ecdf"
      },
      "source": [
        "# 1. Buatlah sebuah fungsi untuk menghitung luas dan keliling lingkaran dengan input jari2\n",
        "\n",
        "def luas_dan_keliling_lingkaran(r):\n",
        "  luas = 3.14*r**2\n",
        "  keliling = 2*3.14*r\n",
        "  return luas, keliling\n",
        "\n",
        "luas, keliling = luas_dan_keliling_lingkaran(100)\n",
        "\n",
        "print('luas:', luas)\n",
        "print('keliling:', keliling)"
      ],
      "execution_count": null,
      "outputs": [
        {
          "output_type": "stream",
          "name": "stdout",
          "text": [
            "luas: 31400.0\n",
            "keliling: 628.0\n"
          ]
        }
      ]
    },
    {
      "cell_type": "code",
      "metadata": {
        "colab": {
          "base_uri": "https://localhost:8080/"
        },
        "id": "9HRpXfDnjVHb",
        "outputId": "c35017e1-d398-4ba2-be7d-b3e7fdf8bebd"
      },
      "source": [
        "'''2. Buatlah sebuah fungsi untuk menggabungkan dua kata dalam bentuk string bebas\n",
        "menjadi satu kata tanpa spasi dengan huruf kecil'''\n",
        "\n",
        "print('tangkuban','perahu',sep='')"
      ],
      "execution_count": null,
      "outputs": [
        {
          "output_type": "stream",
          "name": "stdout",
          "text": [
            "tangkubanperahu\n"
          ]
        }
      ]
    },
    {
      "cell_type": "code",
      "metadata": {
        "colab": {
          "base_uri": "https://localhost:8080/"
        },
        "id": "ol_3kawun6O2",
        "outputId": "d1ae2637-1e9b-40c1-a032-7e0b2fac7223"
      },
      "source": [
        "'''3. Buatlah sebuah fungsi awal_akhir(list_input) untuk menukar elemen pertama pada\n",
        "sebuah list dengan elemen terakhir pada list yang sama'''\n",
        "\n",
        "def awal_akhir(a,b,c,d):\n",
        "  return [d,b,c,a]\n",
        "\n",
        "awal_akhir(1,2,3,4)"
      ],
      "execution_count": null,
      "outputs": [
        {
          "output_type": "execute_result",
          "data": {
            "text/plain": [
              "[4, 2, 3, 1]"
            ]
          },
          "metadata": {},
          "execution_count": 35
        }
      ]
    },
    {
      "cell_type": "code",
      "metadata": {
        "id": "fgo0HdVUsU65"
      },
      "source": [
        ""
      ],
      "execution_count": null,
      "outputs": []
    }
  ]
}