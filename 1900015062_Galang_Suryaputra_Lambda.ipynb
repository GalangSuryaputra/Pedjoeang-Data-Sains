{
  "nbformat": 4,
  "nbformat_minor": 0,
  "metadata": {
    "colab": {
      "name": "1900015062_Galang Suryaputra_Lambda.ipynb",
      "provenance": [],
      "collapsed_sections": [],
      "include_colab_link": true
    },
    "kernelspec": {
      "name": "python3",
      "display_name": "Python 3"
    },
    "language_info": {
      "name": "python"
    }
  },
  "cells": [
    {
      "cell_type": "markdown",
      "metadata": {
        "id": "view-in-github",
        "colab_type": "text"
      },
      "source": [
        "<a href=\"https://colab.research.google.com/github/GalangSuryaputra/Pedjoeang-Data-Sains/blob/main/1900015062_Galang_Suryaputra_Lambda.ipynb\" target=\"_parent\"><img src=\"https://colab.research.google.com/assets/colab-badge.svg\" alt=\"Open In Colab\"/></a>"
      ]
    },
    {
      "cell_type": "markdown",
      "metadata": {
        "id": "LAwX2UzG2Z4I"
      },
      "source": [
        "#Lambda\n",
        "Fungsi lambda adalah fungsi anonim one line yang didefinisikan tanpa nama. Fungsi lambda dapat mengambil sejumlah arguments, tetapi hanya dapat memiliki satu expression. sementara fungsi normal didefinisikan menggunakan kata kunci lambda.\n",
        "\n",
        "Fungsi lambda digunakan ketika fungsi sederhana hanya digunakan sekali atau untuk waktu yang singkat dalam kode kita. penggunaannya yang paling umum adalah sebagai argumen untuk fungsi tingkat tinggi (fungsi yang menggunakan fugnsi lain sebagai argumen)"
      ]
    },
    {
      "cell_type": "code",
      "metadata": {
        "colab": {
          "base_uri": "https://localhost:8080/"
        },
        "id": "2yKLsr46yzkO",
        "outputId": "1b89dc97-0517-45ac-beb9-8f15f876fd7c"
      },
      "source": [
        "# Misalkan kita punya fungsi penjumlahan kuadrat seperti ini:\n",
        "\n",
        "def penjumlahan_kuadrat(x,y):\n",
        "  return x**2 + y**2\n",
        "\n",
        "# dengan lambda kita tidak perlu menggunakan def dan return, bahkan kita juga tidak perlu menuliskan namanya\n",
        "\n",
        "lambda x,y : x**2 + y**2"
      ],
      "execution_count": null,
      "outputs": [
        {
          "output_type": "execute_result",
          "data": {
            "text/plain": [
              "<function __main__.<lambda>>"
            ]
          },
          "metadata": {},
          "execution_count": 1
        }
      ]
    },
    {
      "cell_type": "markdown",
      "metadata": {
        "id": "u2KqoZ0k6EK3"
      },
      "source": [
        "## Menggunakan Lambda Expression\n",
        "Lambda digunakan untuk membuat fungsi dalam satu baris ekspresi. format untuk membuat fungsi lambda :\n",
        "```\n",
        "lambda args : expression\n",
        "```\n",
        "* lambda : kata kunci untuk membuat fungsi lambda\n",
        "* args : Argumen atau parameter\n",
        "* expression : isi fungsi\n",
        "\n",
        "Lambda bisa memiliki lebih dari satu argumen atau parameter, tapi hanya bisa memiliki satu ekspresi atau isi"
      ]
    },
    {
      "cell_type": "code",
      "metadata": {
        "colab": {
          "base_uri": "https://localhost:8080/"
        },
        "id": "8zfsHOBj5YfE",
        "outputId": "11932020-3157-41ff-d7fb-ab0ec7865e4e"
      },
      "source": [
        "greeting = lambda name : print(f\"Hello, {name}\")\n",
        "\n",
        "#karena fungsi lambda tidak memiliki nama, jadi kita butuh variabel untuk menyimpannya\n",
        "#nanti saat kita mau panggil, kita tinggal tuliskan saja nama variabelnya, contoh :\n",
        "\n",
        "greeting('Rizal')\n",
        "greeting('Dian')\n",
        "greeting('Ayu')"
      ],
      "execution_count": null,
      "outputs": [
        {
          "output_type": "stream",
          "name": "stdout",
          "text": [
            "Hello, Rizal\n",
            "Hello, Dian\n",
            "Hello, Ayu\n"
          ]
        }
      ]
    },
    {
      "cell_type": "code",
      "metadata": {
        "colab": {
          "base_uri": "https://localhost:8080/"
        },
        "id": "9G-TDd7LBidn",
        "outputId": "51ce3965-706b-44e6-ac54-6a9d7b0d3ad3"
      },
      "source": [
        "#Contoh lain\n",
        "#Fungsi lambda untuk menambahkan angka 10 kepada argument input\n",
        "\n",
        "f = lambda x : x+10\n",
        "val1 = f(5)\n",
        "val2 = f(100)\n",
        "print(val1,val2)"
      ],
      "execution_count": null,
      "outputs": [
        {
          "output_type": "stream",
          "name": "stdout",
          "text": [
            "15 110\n"
          ]
        }
      ]
    },
    {
      "cell_type": "code",
      "metadata": {
        "colab": {
          "base_uri": "https://localhost:8080/"
        },
        "id": "WleSGhLzB4zl",
        "outputId": "810d9c30-c796-4774-b2bf-16f5c214f16c"
      },
      "source": [
        "# Fungsi lambda untuk mengalikan dua argumen input dan menampilkan hasilnya\n",
        "f = lambda x,y : x*y\n",
        "val3 = f(2,10)\n",
        "val4 = f(7,5)\n",
        "print(val3,val4)"
      ],
      "execution_count": null,
      "outputs": [
        {
          "output_type": "stream",
          "name": "stdout",
          "text": [
            "20 35\n"
          ]
        }
      ]
    },
    {
      "cell_type": "markdown",
      "metadata": {
        "id": "rkekJTO5D9gK"
      },
      "source": [
        "##Anonymous Function\n",
        "karena lambda adalah anonymous function, ia akan bebas menggunakan nama apa saja. Dengan kata lain, fungsi lambda bisa disimpan di variabel mana pun. ini tentunya tidak bisa dilakukan oleh fungsi yang dibuat dengan def"
      ]
    },
    {
      "cell_type": "code",
      "metadata": {
        "colab": {
          "base_uri": "https://localhost:8080/",
          "height": 201
        },
        "id": "PTyajsVaDm0l",
        "outputId": "8aa7b3d5-e86f-42c7-d4d0-9dfcbe2e5110"
      },
      "source": [
        "def say_hello(nama):\n",
        "  print(f\"Hello {nama}, apa kabar?\")\n",
        "\n",
        "ucapin = say_hello(nama)\n",
        "\n",
        "# ini akan terjadi error karena fungsi ini (def) bukanlah fungsi anonymous yang boleh diubah ubah namanya"
      ],
      "execution_count": null,
      "outputs": [
        {
          "output_type": "error",
          "ename": "NameError",
          "evalue": "ignored",
          "traceback": [
            "\u001b[0;31m---------------------------------------------------------------------------\u001b[0m",
            "\u001b[0;31mNameError\u001b[0m                                 Traceback (most recent call last)",
            "\u001b[0;32m<ipython-input-5-71af2e88b3b4>\u001b[0m in \u001b[0;36m<module>\u001b[0;34m()\u001b[0m\n\u001b[1;32m      2\u001b[0m   \u001b[0mprint\u001b[0m\u001b[0;34m(\u001b[0m\u001b[0;34mf\"Hello {nama}, apa kabar?\"\u001b[0m\u001b[0;34m)\u001b[0m\u001b[0;34m\u001b[0m\u001b[0;34m\u001b[0m\u001b[0m\n\u001b[1;32m      3\u001b[0m \u001b[0;34m\u001b[0m\u001b[0m\n\u001b[0;32m----> 4\u001b[0;31m \u001b[0mucapin\u001b[0m \u001b[0;34m=\u001b[0m \u001b[0msay_hello\u001b[0m\u001b[0;34m(\u001b[0m\u001b[0mnama\u001b[0m\u001b[0;34m)\u001b[0m\u001b[0;34m\u001b[0m\u001b[0;34m\u001b[0m\u001b[0m\n\u001b[0m",
            "\u001b[0;31mNameError\u001b[0m: name 'nama' is not defined"
          ]
        }
      ]
    },
    {
      "cell_type": "code",
      "metadata": {
        "id": "o6Q4IQp7GJVn",
        "colab": {
          "base_uri": "https://localhost:8080/",
          "height": 35
        },
        "outputId": "14061ada-0489-4f9e-e6e3-3ece0ada7c15"
      },
      "source": [
        "greeting = lambda name : (f\"Hello, {name}\")\n",
        "sapa = greeting\n",
        "greeting('Andi')"
      ],
      "execution_count": null,
      "outputs": [
        {
          "output_type": "execute_result",
          "data": {
            "application/vnd.google.colaboratory.intrinsic+json": {
              "type": "string"
            },
            "text/plain": [
              "'Hello, Andi'"
            ]
          },
          "metadata": {},
          "execution_count": 6
        }
      ]
    },
    {
      "cell_type": "code",
      "metadata": {
        "id": "tPedxL2tIyZS",
        "colab": {
          "base_uri": "https://localhost:8080/",
          "height": 35
        },
        "outputId": "d6db5d05-0ad7-4573-d970-f60ab1d04f61"
      },
      "source": [
        "sapa(\"Neli\")\n",
        "\n",
        "# hasilnya tidak error walaupun fungsinya kita simpan lagi dalam variabel karena fungsi lambda ini merupakan fungsi anonymous"
      ],
      "execution_count": null,
      "outputs": [
        {
          "output_type": "execute_result",
          "data": {
            "application/vnd.google.colaboratory.intrinsic+json": {
              "type": "string"
            },
            "text/plain": [
              "'Hello, Neli'"
            ]
          },
          "metadata": {},
          "execution_count": 7
        }
      ]
    },
    {
      "cell_type": "markdown",
      "metadata": {
        "id": "3yNEvV0wKcO2"
      },
      "source": [
        "## Eksekusi Lambda Secara langsung\n",
        "Eksekusi Lambda secara langsung kelebihan fungsi lambda dibandingkan def adalah bisa kita eksekusi langsung"
      ]
    },
    {
      "cell_type": "code",
      "metadata": {
        "colab": {
          "base_uri": "https://localhost:8080/"
        },
        "id": "Tdvb5dwZJnvw",
        "outputId": "ea5613e9-2a3a-4d81-b53c-4e615fd1a905"
      },
      "source": [
        "(lambda x,y : x**2 + y**2)(4,6)\n",
        "\n",
        "# tanda kurung lambda adalah fungsi yang akan dieksekusi langsung\n",
        "# tanda kurung berikutnya adalah argument, dimana 4 dan 6 adalah argument untuk x dan y yang akan dimasukan ke fungsi lambda"
      ],
      "execution_count": null,
      "outputs": [
        {
          "output_type": "execute_result",
          "data": {
            "text/plain": [
              "52"
            ]
          },
          "metadata": {},
          "execution_count": 8
        }
      ]
    },
    {
      "cell_type": "code",
      "metadata": {
        "id": "BBLxNgy7Mykj"
      },
      "source": [
        "hasil = (lambda x,y : x**2 + y**2)(4,6)"
      ],
      "execution_count": null,
      "outputs": []
    },
    {
      "cell_type": "markdown",
      "metadata": {
        "id": "DHgmmWjKPq3o"
      },
      "source": [
        "##Mengapa harus pakai Lambda\n",
        "kita memang tidak harus selalu menggunakan lambda, tapi dalam kasus tertentu lambda lebih baik dibandingkan fungsi biasa. lambda biasanya dibutuhkan saat kita ingin membuat fungsi dalam suatu baris.\n",
        "\n",
        "biasanya saat menggunakan fungsi fungsi seperti filter(), map(), dan reduce() kita akan membutuhkan lambda. karena fungsi fungsi tersebut membutuhkan parameter fungsi."
      ]
    },
    {
      "cell_type": "code",
      "metadata": {
        "colab": {
          "base_uri": "https://localhost:8080/"
        },
        "id": "s8cdsNWyO5ef",
        "outputId": "60bfa0bb-5ba4-4186-f1df-d6ac763e87f5"
      },
      "source": [
        "bilangan = [10,2,8,7,5,4,3,11,0,1]\n",
        "filtered_result = map(lambda x : x*x, bilangan)\n",
        "print(list(filtered_result))\n",
        "\n",
        "''' pada fungsi map() kita memberikan parameter dengan fungsi lambda. karena\n",
        "lambda bisa disimpan ke dalam variabel, otomatis dia akan bisa juga menjadi parameter'''"
      ],
      "execution_count": null,
      "outputs": [
        {
          "output_type": "stream",
          "name": "stdout",
          "text": [
            "[100, 4, 64, 49, 25, 16, 9, 121, 0, 1]\n"
          ]
        }
      ]
    },
    {
      "cell_type": "code",
      "metadata": {
        "colab": {
          "base_uri": "https://localhost:8080/"
        },
        "id": "uKspkw48RWad",
        "outputId": "01cda7ca-9188-41c8-b069-74d86dfadf95"
      },
      "source": [
        "# menentukan bilangan genap\n",
        "genap = lambda x : x%2 == 0\n",
        "list(filter(genap, range(11)))"
      ],
      "execution_count": null,
      "outputs": [
        {
          "output_type": "execute_result",
          "data": {
            "text/plain": [
              "[0, 2, 4, 6, 8, 10]"
            ]
          },
          "metadata": {},
          "execution_count": 11
        }
      ]
    },
    {
      "cell_type": "markdown",
      "metadata": {
        "id": "a7zQD4l0SXVi"
      },
      "source": [
        "## Contoh Pemakaian Fungsi Lambda\n",
        "1. Melakukan filter tertentu pada suatu limit"
      ]
    },
    {
      "cell_type": "code",
      "metadata": {
        "colab": {
          "base_uri": "https://localhost:8080/"
        },
        "id": "WIq4hSvfR_YL",
        "outputId": "a60bf539-fa11-4cfe-f54c-dd034287f538"
      },
      "source": [
        "list_nama_provinsi = ['Jawa Barat','Jawa Timur','Jawa Tengah','DKI Jakarta','Banten']\n",
        "\n",
        "#Mengambil nama provinsi dengan kata 'Jawa'\n",
        "pilih_jawa = lambda k: 'jawa' in k.lower()\n",
        "\n",
        "list(filter(pilih_jawa, list_nama_provinsi))"
      ],
      "execution_count": null,
      "outputs": [
        {
          "output_type": "execute_result",
          "data": {
            "text/plain": [
              "['Jawa Barat', 'Jawa Timur', 'Jawa Tengah']"
            ]
          },
          "metadata": {},
          "execution_count": 21
        }
      ]
    },
    {
      "cell_type": "markdown",
      "metadata": {
        "id": "V4yBYT6fT2w9"
      },
      "source": [
        "2. Mendefinisikan kolom baru dengan fungsi tertentu pada DataFrame"
      ]
    },
    {
      "cell_type": "code",
      "metadata": {
        "colab": {
          "base_uri": "https://localhost:8080/",
          "height": 238
        },
        "id": "TMWmr776TjrH",
        "outputId": "70f719a1-b038-4b01-9f16-acecc1f8d2a1"
      },
      "source": [
        "# Impor Library Pandas\n",
        "import pandas as pd\n",
        "# Membuat list yang memuat data\n",
        "hasil_ekspor= [['Rohan',455],['Elvan',250],['Irpan',495],\n",
        "['Soni',400],['Radhika',350],['Joni',450]]\n",
        "# Membuat Pandas DataFrame\n",
        "df = pd.DataFrame(hasil_ekspor,columns=['Eksportir','Total_Ekspor_TON'])\n",
        "# Target Ekspor adalah 500 Ton\n",
        "# Persentase hasil ekspor diperoleh dari Total_Ekspor_TON dibagi target X 100%\n",
        "# diterapkan pada dataframe dengan bantuan method df.assign()\n",
        "df = df.assign(Persentase = lambda x: (x['Total_Ekspor_TON'] /500 * 100))\n",
        "# Menampilkan DataFRame\n",
        "df"
      ],
      "execution_count": null,
      "outputs": [
        {
          "output_type": "execute_result",
          "data": {
            "text/html": [
              "<div>\n",
              "<style scoped>\n",
              "    .dataframe tbody tr th:only-of-type {\n",
              "        vertical-align: middle;\n",
              "    }\n",
              "\n",
              "    .dataframe tbody tr th {\n",
              "        vertical-align: top;\n",
              "    }\n",
              "\n",
              "    .dataframe thead th {\n",
              "        text-align: right;\n",
              "    }\n",
              "</style>\n",
              "<table border=\"1\" class=\"dataframe\">\n",
              "  <thead>\n",
              "    <tr style=\"text-align: right;\">\n",
              "      <th></th>\n",
              "      <th>Eksportir</th>\n",
              "      <th>Total_Ekspor_TON</th>\n",
              "      <th>Persentase</th>\n",
              "    </tr>\n",
              "  </thead>\n",
              "  <tbody>\n",
              "    <tr>\n",
              "      <th>0</th>\n",
              "      <td>Rohan</td>\n",
              "      <td>455</td>\n",
              "      <td>91.0</td>\n",
              "    </tr>\n",
              "    <tr>\n",
              "      <th>1</th>\n",
              "      <td>Elvan</td>\n",
              "      <td>250</td>\n",
              "      <td>50.0</td>\n",
              "    </tr>\n",
              "    <tr>\n",
              "      <th>2</th>\n",
              "      <td>Irpan</td>\n",
              "      <td>495</td>\n",
              "      <td>99.0</td>\n",
              "    </tr>\n",
              "    <tr>\n",
              "      <th>3</th>\n",
              "      <td>Soni</td>\n",
              "      <td>400</td>\n",
              "      <td>80.0</td>\n",
              "    </tr>\n",
              "    <tr>\n",
              "      <th>4</th>\n",
              "      <td>Radhika</td>\n",
              "      <td>350</td>\n",
              "      <td>70.0</td>\n",
              "    </tr>\n",
              "    <tr>\n",
              "      <th>5</th>\n",
              "      <td>Joni</td>\n",
              "      <td>450</td>\n",
              "      <td>90.0</td>\n",
              "    </tr>\n",
              "  </tbody>\n",
              "</table>\n",
              "</div>"
            ],
            "text/plain": [
              "  Eksportir  Total_Ekspor_TON  Persentase\n",
              "0     Rohan               455        91.0\n",
              "1     Elvan               250        50.0\n",
              "2     Irpan               495        99.0\n",
              "3      Soni               400        80.0\n",
              "4   Radhika               350        70.0\n",
              "5      Joni               450        90.0"
            ]
          },
          "metadata": {},
          "execution_count": 14
        }
      ]
    },
    {
      "cell_type": "markdown",
      "metadata": {
        "id": "SYeKgTg_U86g"
      },
      "source": [
        "##Latihan\n",
        "1. Buatlah fungsi lambda untuk melakukan filter pada data range(n) untuk data-data yang berupa bilangan\n",
        "kelipatan 3!"
      ]
    },
    {
      "cell_type": "code",
      "metadata": {
        "colab": {
          "base_uri": "https://localhost:8080/"
        },
        "id": "9sh6hKvJUzrU",
        "outputId": "2d3bd825-9cf1-49b8-cddb-b216b8234e0b"
      },
      "source": [
        "genap = lambda x : x%3 == 0\n",
        "list(filter(genap, range(11)))"
      ],
      "execution_count": null,
      "outputs": [
        {
          "output_type": "execute_result",
          "data": {
            "text/plain": [
              "[0, 3, 6, 9]"
            ]
          },
          "metadata": {},
          "execution_count": 15
        }
      ]
    },
    {
      "cell_type": "markdown",
      "metadata": {
        "id": "hWjqHuZOVKBo"
      },
      "source": [
        "2. Buatlah fungsi lambda untuk memilih kata-kata dengan jumlah karakter lebih dari sama dengan 6 pada list\n",
        "inputnya."
      ]
    },
    {
      "cell_type": "code",
      "metadata": {
        "colab": {
          "base_uri": "https://localhost:8080/"
        },
        "id": "XRFGA5C3VITq",
        "outputId": "2badc459-f1c9-4ca7-b4b0-3bf5599334a2"
      },
      "source": [
        "list_input = ['saya', 'adalah', 'seorang', 'kapiten']\n",
        "\n",
        "#Memilih \n",
        "pilih_input = lambda x : x>x[:5]\n",
        "\n",
        "list(filter(pilih_input, list_input))\n"
      ],
      "execution_count": null,
      "outputs": [
        {
          "output_type": "execute_result",
          "data": {
            "text/plain": [
              "['adalah', 'seorang', 'kapiten']"
            ]
          },
          "metadata": {},
          "execution_count": 24
        }
      ]
    },
    {
      "cell_type": "code",
      "metadata": {
        "id": "jNVmJsB9W2uK"
      },
      "source": [
        ""
      ],
      "execution_count": null,
      "outputs": []
    }
  ]
}