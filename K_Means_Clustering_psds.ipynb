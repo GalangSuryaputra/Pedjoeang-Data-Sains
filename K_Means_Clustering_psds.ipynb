{
  "nbformat": 4,
  "nbformat_minor": 0,
  "metadata": {
    "colab": {
      "name": "K_Means_Clustering psds.ipynb",
      "provenance": [],
      "include_colab_link": true
    },
    "kernelspec": {
      "display_name": "Python 3",
      "language": "python",
      "name": "python3"
    },
    "language_info": {
      "codemirror_mode": {
        "name": "ipython",
        "version": 3
      },
      "file_extension": ".py",
      "mimetype": "text/x-python",
      "name": "python",
      "nbconvert_exporter": "python",
      "pygments_lexer": "ipython3",
      "version": "3.7.4"
    }
  },
  "cells": [
    {
      "cell_type": "markdown",
      "metadata": {
        "id": "view-in-github",
        "colab_type": "text"
      },
      "source": [
        "<a href=\"https://colab.research.google.com/github/GalangSuryaputra/Pedjoeang-Data-Sains/blob/main/K_Means_Clustering_psds.ipynb\" target=\"_parent\"><img src=\"https://colab.research.google.com/assets/colab-badge.svg\" alt=\"Open In Colab\"/></a>"
      ]
    },
    {
      "cell_type": "markdown",
      "metadata": {
        "id": "ULJQBTE6jkiP"
      },
      "source": [
        "## Pembuka"
      ]
    },
    {
      "cell_type": "markdown",
      "metadata": {
        "id": "jQ4ojh9ZjkiR"
      },
      "source": [
        "Assalamu'alaikum warahmatullahi wabarakatuh.\n",
        "Puji syukur kehadirat Allah Subhana Wata'ala atas limpahan Rahmat dan HidayahNya kepada kita semua.\n",
        "Sholawat serta salam senantiasa tercurah limpahkan kepada baginda Muhammad Rasulullah Salallahualaihiwassalam.\n",
        "\n",
        "Halo para **Pejuang Data**. Selamat berjumpa di pertemuan kesembilan Program Training **Algoritma Machine Learning** Kelas Mahir.\n",
        "\n",
        "Pada pertemuan ini kamu akan belajar:\n",
        "* K Means Clustering\n",
        "* Algoritma K Means Clustering\n",
        "* Contoh K Means Clustering\n",
        "* Fungsi K Means Clustering\n",
        "* K Means Clustering dengan Scikit Learn"
      ]
    },
    {
      "cell_type": "markdown",
      "metadata": {
        "id": "n7xc8G9lbeuP"
      },
      "source": [
        "## K Means Clustering"
      ]
    },
    {
      "cell_type": "markdown",
      "metadata": {
        "id": "4lXHlRSjbeuT"
      },
      "source": [
        "K-means (MacQueen, 1967) adalah salah satu algoritma pembelajaran tanpa pengawasan paling sederhana yang memecahkan masalah pengelompokan yang terkenal. Prosedurnya mengikuti cara sederhana dan mudah untuk mengklasifikasikan kumpulan data yang diberikan melalui sejumlah cluster tertentu (asumsikan k cluster) tetap secara apriori. Ide utamanya adalah mendefinisikan k centroid, satu untuk setiap cluster. Centroid ini harus ditempatkan dengan cara yang licik karena lokasi yang berbeda menyebabkan hasil yang berbeda. Jadi, pilihan yang lebih baik adalah menempatkan mereka sejauh mungkin dari satu sama lain. Langkah selanjutnya adalah mengambil setiap titik milik kumpulan data yang diberikan dan mengaitkannya ke centroid terdekat. Ketika tidak ada poin yang tertunda, langkah pertama selesai dan pengelompokan awal dilakukan. Pada titik ini kita perlu menghitung ulang k centroid baru sebagai barycenter dari cluster yang dihasilkan dari langkah sebelumnya. Setelah kita memiliki k centroid baru ini, pengikatan baru harus dilakukan antara titik set data yang sama dan centroid baru terdekat. Sebuah loop telah dibuat. Sebagai hasil dari loop ini kita dapat melihat bahwa k centroid mengubah lokasinya langkah demi langkah sampai tidak ada lagi perubahan yang dilakukan. Dengan kata lain centroid tidak bergerak lagi.\n",
        "Terakhir, algoritma ini bertujuan untuk meminimalkan fungsi tujuan, dalam hal ini fungsi kesalahan kuadrat. Fungsi tujuan\n",
        "\n",
        "$$J=\\sum \\limits_{j=1} ^{k} \\sum \\limits_{i=1} ^{n} \\begin{Vmatrix} x_{i} ^{(j)} - c_{j}\\end{Vmatrix} ^{2} $$\n",
        "\n",
        "di mana $ \\begin{Vmatrix} x_{i} ^{(j)} - c_{j}\\end{Vmatrix} ^{2} $ adalah ukuran jarak yang dipilih antara titik data $ x_{i} ^{(j )} $ dan pusat cluster $c_{j}$, merupakan indikator jarak n titik data dari masing-masing pusat cluster.\n"
      ]
    },
    {
      "cell_type": "markdown",
      "metadata": {
        "id": "JGRSyyk8beuU"
      },
      "source": [
        "## Algoritma K-Means Clustering\n",
        "1. Tentukan parameter k\n",
        "2. Tentukan pusat cluster awal secara acak\n",
        "3. Hitung jarak setiap data ke pusat cluster\n",
        "4. Tetapkan cluster data berdasarkan pusat cluster terdekat\n",
        "5. Memperbarui pusat cluster dengan menghitung nilai rata-rata setiap cluster\n",
        "6. Ulangi langkah 3-5 sampai kriteria berhenti terpenuhi:\n",
        "     1. Jumlah iterasi tertentu tercapai, ATAU\n",
        "     2. Tidak ada (atau minimal) perbedaan anggota cluster pada dua iterasi terakhir, OR\n",
        "     3. Tidak ada (atau minimum) perbedaan pusat cluster, ATAU\n",
        "     4. Selisih SSE (Sum of Squared Error) minimum\n"
      ]
    },
    {
      "cell_type": "markdown",
      "metadata": {
        "id": "zpI65x7PbeuU"
      },
      "source": [
        "## Contoh Implementasi K Means"
      ]
    },
    {
      "cell_type": "markdown",
      "metadata": {
        "id": "4-DeWjIMbeuV"
      },
      "source": [
        "**0. Dataset**"
      ]
    },
    {
      "cell_type": "markdown",
      "metadata": {
        "id": "SdNp_9GkbeuV"
      },
      "source": [
        "| $$x_1$$ | $$x_2$$ |\n",
        "| :---: | :---: |\n",
        "|   1   |   1   |\n",
        "|   2   |   3   |\n",
        "|   7   |   8   |\n",
        "|   8   |   8   |"
      ]
    },
    {
      "cell_type": "code",
      "metadata": {
        "id": "4yMp7AnnbeuW"
      },
      "source": [
        "import pandas as pd\n",
        "import numpy as np\n",
        "import matplotlib.pyplot as plt"
      ],
      "execution_count": null,
      "outputs": []
    },
    {
      "cell_type": "code",
      "metadata": {
        "colab": {
          "base_uri": "https://localhost:8080/",
          "height": 173
        },
        "id": "556Irq6WbeuX",
        "outputId": "db3d2ee9-b334-403a-970c-13c70d31af5f"
      },
      "source": [
        "data=pd.DataFrame({\"x1\":[1,2,7,8], \"x2\":[1,3,8,8]})\n",
        "data"
      ],
      "execution_count": null,
      "outputs": [
        {
          "data": {
            "text/html": [
              "<div>\n",
              "<style scoped>\n",
              "    .dataframe tbody tr th:only-of-type {\n",
              "        vertical-align: middle;\n",
              "    }\n",
              "\n",
              "    .dataframe tbody tr th {\n",
              "        vertical-align: top;\n",
              "    }\n",
              "\n",
              "    .dataframe thead th {\n",
              "        text-align: right;\n",
              "    }\n",
              "</style>\n",
              "<table border=\"1\" class=\"dataframe\">\n",
              "  <thead>\n",
              "    <tr style=\"text-align: right;\">\n",
              "      <th></th>\n",
              "      <th>x1</th>\n",
              "      <th>x2</th>\n",
              "    </tr>\n",
              "  </thead>\n",
              "  <tbody>\n",
              "    <tr>\n",
              "      <td>0</td>\n",
              "      <td>1</td>\n",
              "      <td>1</td>\n",
              "    </tr>\n",
              "    <tr>\n",
              "      <td>1</td>\n",
              "      <td>2</td>\n",
              "      <td>3</td>\n",
              "    </tr>\n",
              "    <tr>\n",
              "      <td>2</td>\n",
              "      <td>7</td>\n",
              "      <td>8</td>\n",
              "    </tr>\n",
              "    <tr>\n",
              "      <td>3</td>\n",
              "      <td>8</td>\n",
              "      <td>8</td>\n",
              "    </tr>\n",
              "  </tbody>\n",
              "</table>\n",
              "</div>"
            ],
            "text/plain": [
              "   x1  x2\n",
              "0   1   1\n",
              "1   2   3\n",
              "2   7   8\n",
              "3   8   8"
            ]
          },
          "execution_count": 2,
          "metadata": {},
          "output_type": "execute_result"
        }
      ]
    },
    {
      "cell_type": "code",
      "metadata": {
        "colab": {
          "base_uri": "https://localhost:8080/",
          "height": 282
        },
        "id": "4Vj5eAJobeuZ",
        "outputId": "487da3a0-163c-483a-ff72-83e634e6063d"
      },
      "source": [
        "plt.scatter(data.x1, data.x2)"
      ],
      "execution_count": null,
      "outputs": [
        {
          "data": {
            "text/plain": [
              "<matplotlib.collections.PathCollection at 0x2781e1bb048>"
            ]
          },
          "execution_count": 3,
          "metadata": {},
          "output_type": "execute_result"
        },
        {
          "data": {
            "image/png": "[encoded data removed]",
            "text/plain": [
              "<Figure size 432x288 with 1 Axes>"
            ]
          },
          "metadata": {
            "needs_background": "light"
          },
          "output_type": "display_data"
        }
      ]
    },
    {
      "cell_type": "markdown",
      "metadata": {
        "id": "R1aaLgNEbeua"
      },
      "source": [
        "**1. Tentukan parameternya $k$**\n",
        "\n",
        "$$k=2$$"
      ]
    },
    {
      "cell_type": "code",
      "metadata": {
        "id": "Q9grO0pybeua"
      },
      "source": [
        "k=2"
      ],
      "execution_count": null,
      "outputs": []
    },
    {
      "cell_type": "markdown",
      "metadata": {
        "id": "p--DUFysbeub"
      },
      "source": [
        "**2. Tentukan pusat cluster awal secara acak**"
      ]
    },
    {
      "cell_type": "markdown",
      "metadata": {
        "id": "hyXYU1BSbeuc"
      },
      "source": [
        "|Centroid | $$x_1$$ | $$x_2$$ |\n",
        "| :---:   | :---: | :---: |\n",
        "| $$c_1$$ |   1   |   1   |\n",
        "| $$c_2$$ |   2   |   3   |"
      ]
    },
    {
      "cell_type": "code",
      "metadata": {
        "colab": {
          "base_uri": "https://localhost:8080/"
        },
        "id": "MRnKiEc8beuc",
        "outputId": "4be160ba-a368-4c87-9ccc-850528daaa9d"
      },
      "source": [
        "pusat_klaster = np.array([[1,1],[2,3]])\n",
        "pusat_klaster"
      ],
      "execution_count": null,
      "outputs": [
        {
          "data": {
            "text/plain": [
              "array([[1, 1],\n",
              "       [2, 3]])"
            ]
          },
          "execution_count": 5,
          "metadata": {},
          "output_type": "execute_result"
        }
      ]
    },
    {
      "cell_type": "code",
      "metadata": {
        "id": "xr7BkhPabeud"
      },
      "source": [
        "# Determine the initial cluster center randomly\n",
        "import random\n",
        "def pusat_klaster_awal(k, data):\n",
        "    X=np.array(data)\n",
        "    n=len(X)\n",
        "    list_1=np.arange(0,n)\n",
        "    pusat_klaster_index = random.choices(list_1, k=k)\n",
        "    pusat_klaster=X[pusat_klaster_index]\n",
        "    return pusat_klaster"
      ],
      "execution_count": null,
      "outputs": []
    },
    {
      "cell_type": "markdown",
      "metadata": {
        "id": "ZkHM-AQobeue"
      },
      "source": [
        "**3. Hitung jarak setiap data ke pusat cluster**"
      ]
    },
    {
      "cell_type": "code",
      "metadata": {
        "id": "plWS5SDbbeue"
      },
      "source": [
        "# Define the euclidean distance function\n",
        "def jarak_euclidean(x,y):\n",
        "    return np.sqrt(sum(pow(a-b, 2) for a, b in zip(x,y)))"
      ],
      "execution_count": null,
      "outputs": []
    },
    {
      "cell_type": "code",
      "metadata": {
        "id": "5cOqo1P3beue"
      },
      "source": [
        "def jarak_centroid_euclidean(data,pusat_klaster):\n",
        "    n=len(data)\n",
        "    k=np.array(pusat_klaster).shape[0]\n",
        "    jarak=[]\n",
        "    for i in range(n):\n",
        "        x = list(data.iloc[i,::])\n",
        "        jrk = [jarak_euclidean(x, pusat_klaster[j]) for j in range(k)]\n",
        "        jarak.append(jrk)\n",
        "    return jarak"
      ],
      "execution_count": null,
      "outputs": []
    },
    {
      "cell_type": "code",
      "metadata": {
        "colab": {
          "base_uri": "https://localhost:8080/"
        },
        "id": "leMz5fGQbeue",
        "outputId": "1428e70f-25f8-41bb-a772-29a2a91d90b6"
      },
      "source": [
        "jarak_centroid=jarak_centroid_euclidean(data,pusat_klaster)\n",
        "jarak_centroid"
      ],
      "execution_count": null,
      "outputs": [
        {
          "data": {
            "text/plain": [
              "[[0.0, 2.23606797749979],\n",
              " [2.23606797749979, 0.0],\n",
              " [9.219544457292887, 7.0710678118654755],\n",
              " [9.899494936611665, 7.810249675906654]]"
            ]
          },
          "execution_count": 9,
          "metadata": {},
          "output_type": "execute_result"
        }
      ]
    },
    {
      "cell_type": "markdown",
      "metadata": {
        "id": "qEBmzXtEbeuf"
      },
      "source": [
        "**4. Tetapkan klaster data berdasarkan pusat klaster terdekat**"
      ]
    },
    {
      "cell_type": "code",
      "metadata": {
        "id": "F0T53TIwbeuf"
      },
      "source": [
        "def menentukan_klaster(jarak_centroid):\n",
        "    n=len(jarak_centroid)\n",
        "    label_klaster=list()\n",
        "    for i in range(n):\n",
        "        max_val, idx = min((val, idx) for (idx, val) in enumerate(jarak_centroid[i]))\n",
        "        label_klaster.append(idx)\n",
        "    return label_klaster"
      ],
      "execution_count": null,
      "outputs": []
    },
    {
      "cell_type": "code",
      "metadata": {
        "colab": {
          "base_uri": "https://localhost:8080/"
        },
        "id": "CtPR161lbeuf",
        "outputId": "9f0a28e7-c5c4-4c03-8d74-c7cb76c6f6f6"
      },
      "source": [
        "klaster=menentukan_klaster(jarak_centroid)\n",
        "klaster"
      ],
      "execution_count": null,
      "outputs": [
        {
          "data": {
            "text/plain": [
              "[0, 1, 1, 1]"
            ]
          },
          "execution_count": 11,
          "metadata": {},
          "output_type": "execute_result"
        }
      ]
    },
    {
      "cell_type": "markdown",
      "metadata": {
        "id": "Rvtp3Sj4beuf"
      },
      "source": [
        "**5. Memperbarui pusat cluster dengan menghitung nilai rata-rata setiap cluster**"
      ]
    },
    {
      "cell_type": "code",
      "metadata": {
        "id": "BcI2EwvVbeug"
      },
      "source": [
        "def menghitung_pusat_klaster(data, klaster):\n",
        "    data['label']=klaster\n",
        "    pusat_barudf=data.groupby('label', as_index=False).mean()\n",
        "    pusat_barudf=pusat_barudf.iloc[::,1:]\n",
        "    pusat_klaster_baru=np.array(pusat_barudf)\n",
        "    return pusat_klaster_baru"
      ],
      "execution_count": null,
      "outputs": []
    },
    {
      "cell_type": "code",
      "metadata": {
        "colab": {
          "base_uri": "https://localhost:8080/"
        },
        "id": "JIADFiFGbeug",
        "outputId": "4b29e797-37b7-416e-f2f0-8587ee791113"
      },
      "source": [
        "pusat_klaster_baru=menghitung_pusat_klaster(data, klaster)\n",
        "pusat_klaster_baru"
      ],
      "execution_count": null,
      "outputs": [
        {
          "data": {
            "text/plain": [
              "array([[1.        , 1.        ],\n",
              "       [5.66666667, 6.33333333]])"
            ]
          },
          "execution_count": 13,
          "metadata": {},
          "output_type": "execute_result"
        }
      ]
    },
    {
      "cell_type": "markdown",
      "metadata": {
        "id": "G3wT1ueybeug"
      },
      "source": [
        "**6. Ulangi langkah 2 - 5 hingga kriteria henti dipenuhi:**"
      ]
    },
    {
      "cell_type": "code",
      "metadata": {
        "id": "ZZBkr_5Sbeug"
      },
      "source": [
        "def perubahan_pusat_klaster_euclidean(pusat_klaster_lama, pusat_klaster_baru):\n",
        "    perubahan = 0\n",
        "    for a,b in zip(pusat_klaster_lama, pusat_klaster_baru):\n",
        "        perubahan+=jarak_euclidean(a,b)\n",
        "    return perubahan"
      ],
      "execution_count": null,
      "outputs": []
    },
    {
      "cell_type": "code",
      "metadata": {
        "colab": {
          "base_uri": "https://localhost:8080/"
        },
        "id": "dlQjlz_sbeug",
        "outputId": "108f64fd-8d06-46a5-c90d-d296e03380c4"
      },
      "source": [
        "perubahan_pusat_klaster_euclidean(pusat_klaster, pusat_klaster_baru)"
      ],
      "execution_count": null,
      "outputs": [
        {
          "data": {
            "text/plain": [
              "4.955356249106169"
            ]
          },
          "execution_count": 15,
          "metadata": {},
          "output_type": "execute_result"
        }
      ]
    },
    {
      "cell_type": "markdown",
      "metadata": {
        "id": "YJDoJtt9beug"
      },
      "source": [
        "## Fungsi K Means Clustering"
      ]
    },
    {
      "cell_type": "code",
      "metadata": {
        "id": "4O0O6cgPbeuh"
      },
      "source": [
        "def plot_klaster(X, klaster, pusat_klaster):\n",
        "    df = pd.DataFrame(dict(x=X[:,0], y=X[:,1], label=klaster))\n",
        "    colors = {0:'blue', 1:'orange', 2:'green'}\n",
        "    fig, ax = plt.subplots(figsize=(8, 8))\n",
        "    grouped = df.groupby('label')\n",
        "    for key, group in grouped:\n",
        "        group.plot(ax=ax, kind='scatter', x='x', y='y', label=key, color=colors[key])\n",
        "    ax.scatter(pusat_klaster[:, 0], pusat_klaster[:, 1], marker='*', s=150, c='#ff2222')\n",
        "    plt.xlabel('X_1')\n",
        "    plt.ylabel('X_2')\n",
        "    plt.show()"
      ],
      "execution_count": null,
      "outputs": []
    },
    {
      "cell_type": "code",
      "metadata": {
        "id": "8UpkJMXQbeuh"
      },
      "source": [
        "def k_means(k, df):\n",
        "    X=np.array(df)\n",
        "    pusat_klaster_lama = pusat_klaster_awal(k, X)\n",
        "    klaster = [0]*len(X)\n",
        "    epsilon = 100\n",
        "    iterasi = -1\n",
        "    while epsilon>.001:\n",
        "        jarak_ke_pusat_klaster=jarak_centroid_euclidean(df,pusat_klaster_lama)\n",
        "        klaster = menentukan_klaster(jarak_ke_pusat_klaster)\n",
        "        plot_klaster(X, klaster, pusat_klaster_lama)\n",
        "        pusat_klaster_baru = menghitung_pusat_klaster(df, klaster)\n",
        "        epsilon = perubahan_pusat_klaster_euclidean(pusat_klaster_lama, pusat_klaster_baru)\n",
        "        pusat_klaster_lama = pusat_klaster_baru\n",
        "        iterasi += 1\n",
        "    return iterasi, klaster, pusat_klaster_baru"
      ],
      "execution_count": null,
      "outputs": []
    },
    {
      "cell_type": "code",
      "metadata": {
        "colab": {
          "base_uri": "https://localhost:8080/",
          "height": 1000
        },
        "id": "fk8Hfqx7beuh",
        "scrolled": true,
        "outputId": "3dfe8e0f-42ea-40b6-b913-08081dc4eb4a"
      },
      "source": [
        "iterasi, klaster, pusat_klaster= k_means(2, data)"
      ],
      "execution_count": null,
      "outputs": [
        {
          "data": {
            "image/png": "[encoded data removed]",
            "text/plain": [
              "<Figure size 576x576 with 1 Axes>"
            ]
          },
          "metadata": {
            "needs_background": "light"
          },
          "output_type": "display_data"
        },
        {
          "data": {
            "image/png": "[encoded data removed]",
            "text/plain": [
              "<Figure size 576x576 with 1 Axes>"
            ]
          },
          "metadata": {
            "needs_background": "light"
          },
          "output_type": "display_data"
        },
        {
          "data": {
            "image/png": "[encoded data removed]",
            "text/plain": [
              "<Figure size 576x576 with 1 Axes>"
            ]
          },
          "metadata": {
            "needs_background": "light"
          },
          "output_type": "display_data"
        }
      ]
    },
    {
      "cell_type": "code",
      "metadata": {
        "colab": {
          "base_uri": "https://localhost:8080/"
        },
        "id": "v05pk7LV7lhf",
        "outputId": "9b27f1ab-b8cc-4eeb-f320-0a2374d86f17"
      },
      "source": [
        "pusat_klaster"
      ],
      "execution_count": null,
      "outputs": [
        {
          "data": {
            "text/plain": [
              "array([[7.5, 8. ],\n",
              "       [1.5, 2. ]])"
            ]
          },
          "execution_count": 19,
          "metadata": {},
          "output_type": "execute_result"
        }
      ]
    },
    {
      "cell_type": "markdown",
      "metadata": {
        "id": "EarGuG9gVIn4"
      },
      "source": [
        "## K-Means Clustering menggunakan Python Scikit Learn"
      ]
    },
    {
      "cell_type": "code",
      "metadata": {
        "colab": {
          "base_uri": "https://localhost:8080/"
        },
        "id": "0pu6xfe_YSOM",
        "outputId": "c08aa38d-ebe6-41ef-a865-1b891f9a0454"
      },
      "source": [
        "from sklearn.cluster import KMeans\n",
        "import numpy as np\n",
        "\n",
        "data=pd.DataFrame({\"x1\":[1,2,7,8], \"x2\":[1,3,8,8]})\n",
        "\n",
        "X=np.array(data)\n",
        "X"
      ],
      "execution_count": null,
      "outputs": [
        {
          "data": {
            "text/plain": [
              "array([[1, 1],\n",
              "       [2, 3],\n",
              "       [7, 8],\n",
              "       [8, 8]], dtype=int64)"
            ]
          },
          "execution_count": 20,
          "metadata": {},
          "output_type": "execute_result"
        }
      ]
    },
    {
      "cell_type": "code",
      "metadata": {
        "id": "pqSXAT85Yl7l"
      },
      "source": [
        "kmeans = KMeans(n_clusters=2, random_state=0).fit(X)"
      ],
      "execution_count": null,
      "outputs": []
    },
    {
      "cell_type": "code",
      "metadata": {
        "colab": {
          "base_uri": "https://localhost:8080/"
        },
        "id": "F_5bV3LUYSRK",
        "outputId": "6709d970-a4b4-41bd-fe6e-1d74171cdd75"
      },
      "source": [
        "kmeans.labels_"
      ],
      "execution_count": null,
      "outputs": [
        {
          "data": {
            "text/plain": [
              "array([0, 0, 1, 1])"
            ]
          },
          "execution_count": 22,
          "metadata": {},
          "output_type": "execute_result"
        }
      ]
    },
    {
      "cell_type": "code",
      "metadata": {
        "colab": {
          "base_uri": "https://localhost:8080/"
        },
        "id": "QNLRc2wvYSUG",
        "outputId": "cae233b0-8b01-4845-e808-981e230824cd"
      },
      "source": [
        "kmeans.predict([[0, 0], [12, 3]])"
      ],
      "execution_count": null,
      "outputs": [
        {
          "data": {
            "text/plain": [
              "array([0, 1])"
            ]
          },
          "execution_count": 23,
          "metadata": {},
          "output_type": "execute_result"
        }
      ]
    },
    {
      "cell_type": "code",
      "metadata": {
        "colab": {
          "base_uri": "https://localhost:8080/"
        },
        "id": "piErV9FAYSXC",
        "outputId": "8cb11011-56f1-4e0e-cc9d-7a589c48f15f"
      },
      "source": [
        "kmeans.cluster_centers_"
      ],
      "execution_count": null,
      "outputs": [
        {
          "data": {
            "text/plain": [
              "array([[1.5, 2. ],\n",
              "       [7.5, 8. ]])"
            ]
          },
          "execution_count": 24,
          "metadata": {},
          "output_type": "execute_result"
        }
      ]
    },
    {
      "cell_type": "markdown",
      "metadata": {
        "id": "BDfe8Pmo0M8v"
      },
      "source": [
        "## Latihan"
      ]
    },
    {
      "cell_type": "markdown",
      "metadata": {
        "id": "BkCKbf2z0bvE"
      },
      "source": [
        "Diberikan Dataset"
      ]
    },
    {
      "cell_type": "code",
      "metadata": {
        "colab": {
          "base_uri": "https://localhost:8080/",
          "height": 419
        },
        "id": "dhIwKvMs0dlM",
        "outputId": "95fcbb9e-946a-4059-d086-3e54d7750734"
      },
      "source": [
        "data=pd.read_csv('Super-Store-Dataset.csv',sep=',')\n",
        "data_used=data[[ \"sales\", \"quantity\",\"profit\"]]\n",
        "data_used"
      ],
      "execution_count": null,
      "outputs": [
        {
          "data": {
            "text/html": [
              "<div>\n",
              "<style scoped>\n",
              "    .dataframe tbody tr th:only-of-type {\n",
              "        vertical-align: middle;\n",
              "    }\n",
              "\n",
              "    .dataframe tbody tr th {\n",
              "        vertical-align: top;\n",
              "    }\n",
              "\n",
              "    .dataframe thead th {\n",
              "        text-align: right;\n",
              "    }\n",
              "</style>\n",
              "<table border=\"1\" class=\"dataframe\">\n",
              "  <thead>\n",
              "    <tr style=\"text-align: right;\">\n",
              "      <th></th>\n",
              "      <th>sales</th>\n",
              "      <th>quantity</th>\n",
              "      <th>profit</th>\n",
              "    </tr>\n",
              "  </thead>\n",
              "  <tbody>\n",
              "    <tr>\n",
              "      <td>0</td>\n",
              "      <td>261.9600</td>\n",
              "      <td>2</td>\n",
              "      <td>41.9136</td>\n",
              "    </tr>\n",
              "    <tr>\n",
              "      <td>1</td>\n",
              "      <td>731.9400</td>\n",
              "      <td>3</td>\n",
              "      <td>219.5820</td>\n",
              "    </tr>\n",
              "    <tr>\n",
              "      <td>2</td>\n",
              "      <td>14.6200</td>\n",
              "      <td>2</td>\n",
              "      <td>6.8714</td>\n",
              "    </tr>\n",
              "    <tr>\n",
              "      <td>3</td>\n",
              "      <td>957.5775</td>\n",
              "      <td>5</td>\n",
              "      <td>-383.0310</td>\n",
              "    </tr>\n",
              "    <tr>\n",
              "      <td>4</td>\n",
              "      <td>22.3680</td>\n",
              "      <td>2</td>\n",
              "      <td>2.5164</td>\n",
              "    </tr>\n",
              "    <tr>\n",
              "      <td>...</td>\n",
              "      <td>...</td>\n",
              "      <td>...</td>\n",
              "      <td>...</td>\n",
              "    </tr>\n",
              "    <tr>\n",
              "      <td>9983</td>\n",
              "      <td>25.2480</td>\n",
              "      <td>3</td>\n",
              "      <td>4.1028</td>\n",
              "    </tr>\n",
              "    <tr>\n",
              "      <td>9984</td>\n",
              "      <td>91.9600</td>\n",
              "      <td>2</td>\n",
              "      <td>15.6332</td>\n",
              "    </tr>\n",
              "    <tr>\n",
              "      <td>9985</td>\n",
              "      <td>258.5760</td>\n",
              "      <td>2</td>\n",
              "      <td>19.3932</td>\n",
              "    </tr>\n",
              "    <tr>\n",
              "      <td>9986</td>\n",
              "      <td>29.6000</td>\n",
              "      <td>4</td>\n",
              "      <td>13.3200</td>\n",
              "    </tr>\n",
              "    <tr>\n",
              "      <td>9987</td>\n",
              "      <td>243.1600</td>\n",
              "      <td>2</td>\n",
              "      <td>72.9480</td>\n",
              "    </tr>\n",
              "  </tbody>\n",
              "</table>\n",
              "<p>9988 rows × 3 columns</p>\n",
              "</div>"
            ],
            "text/plain": [
              "         sales  quantity    profit\n",
              "0     261.9600         2   41.9136\n",
              "1     731.9400         3  219.5820\n",
              "2      14.6200         2    6.8714\n",
              "3     957.5775         5 -383.0310\n",
              "4      22.3680         2    2.5164\n",
              "...        ...       ...       ...\n",
              "9983   25.2480         3    4.1028\n",
              "9984   91.9600         2   15.6332\n",
              "9985  258.5760         2   19.3932\n",
              "9986   29.6000         4   13.3200\n",
              "9987  243.1600         2   72.9480\n",
              "\n",
              "[9988 rows x 3 columns]"
            ]
          },
          "execution_count": 25,
          "metadata": {},
          "output_type": "execute_result"
        }
      ]
    },
    {
      "cell_type": "code",
      "metadata": {
        "colab": {
          "base_uri": "https://localhost:8080/"
        },
        "id": "VMzTCW3KloCh",
        "outputId": "edc0dc61-20a1-459e-db0f-cc63d345e639"
      },
      "source": [
        "data_used.info()"
      ],
      "execution_count": null,
      "outputs": [
        {
          "name": "stdout",
          "output_type": "stream",
          "text": [
            "<class 'pandas.core.frame.DataFrame'>\n",
            "RangeIndex: 9988 entries, 0 to 9987\n",
            "Data columns (total 3 columns):\n",
            "sales       9988 non-null float64\n",
            "quantity    9988 non-null int64\n",
            "profit      9988 non-null float64\n",
            "dtypes: float64(2), int64(1)\n",
            "memory usage: 234.2 KB\n"
          ]
        }
      ]
    },
    {
      "cell_type": "markdown",
      "metadata": {
        "id": "9dhN7xBYgjuy"
      },
      "source": [
        "**Menentukan k terbaik dengan Metode Elbow**"
      ]
    },
    {
      "cell_type": "code",
      "metadata": {
        "id": "x6g-pyN1gaCC"
      },
      "source": [
        "distortions = []\n",
        "K = range(1,10)\n",
        "for k in K:\n",
        "    kmeanModel = KMeans(n_clusters=k)\n",
        "    kmeanModel.fit(data_used)\n",
        "    distortions.append(kmeanModel.inertia_)"
      ],
      "execution_count": null,
      "outputs": []
    },
    {
      "cell_type": "code",
      "metadata": {
        "colab": {
          "base_uri": "https://localhost:8080/",
          "height": 512
        },
        "id": "V476Y9MBge36",
        "outputId": "82251a6d-5480-4397-de8b-86368e7af998"
      },
      "source": [
        "plt.figure(figsize=(16,8))\n",
        "plt.plot(K, distortions, 'go-')\n",
        "plt.xlabel('k')\n",
        "plt.ylabel('Distortion')\n",
        "plt.title('Metode Elbow untuk menunjukkan nilai k optimum')\n",
        "plt.show()"
      ],
      "execution_count": null,
      "outputs": [
        {
          "data": {
            "image/png": "[encoded data removed]",
            "text/plain": [
              "<Figure size 1152x576 with 1 Axes>"
            ]
          },
          "metadata": {
            "needs_background": "light"
          },
          "output_type": "display_data"
        }
      ]
    },
    {
      "cell_type": "markdown",
      "metadata": {
        "id": "GSCp6PRbgo-P"
      },
      "source": [
        "Dari grafik diatas dapat kita lihat bahwa titik elbow (siku) terdapat pada k = 3 untuk kasus ini.\n",
        "\n",
        "Sehingga dapat kita gunakan untuk menjalankan n_clusters dengan input 3."
      ]
    },
    {
      "cell_type": "code",
      "metadata": {
        "id": "aR0NI37zgsUy"
      },
      "source": [
        "#Membentuk fungsi k_means\n",
        "def k_means(k, df):\n",
        "    X=np.array(df)\n",
        "    pusat_klaster_lama = pusat_klaster_awal(k, X)\n",
        "    klaster = [0]*len(X)\n",
        "    epsilon = 100\n",
        "    iterasi = -1\n",
        "    while epsilon>.001:\n",
        "        jarak_ke_pusat_klaster=jarak_centroid_euclidean(df,pusat_klaster_lama)\n",
        "        klaster = menentukan_klaster(jarak_ke_pusat_klaster)\n",
        "        pusat_klaster_baru = menghitung_pusat_klaster(df, klaster)\n",
        "        epsilon = perubahan_pusat_klaster_euclidean(pusat_klaster_lama, pusat_klaster_baru)\n",
        "        pusat_klaster_lama = pusat_klaster_baru\n",
        "        iterasi += 1\n",
        "    return iterasi, klaster, pusat_klaster_baru"
      ],
      "execution_count": null,
      "outputs": []
    },
    {
      "cell_type": "code",
      "metadata": {
        "colab": {
          "base_uri": "https://localhost:8080/"
        },
        "id": "LB9MsU9hgzjc",
        "outputId": "8ec27e24-79da-454e-fe90-43ed7d952c45"
      },
      "source": [
        "# Mengklasterisasi data dengan 3 klaster.\n",
        "iterasi, klaster, pusat_klaster= k_means(3, data_used)"
      ],
      "execution_count": null,
      "outputs": [
        {
          "name": "stderr",
          "output_type": "stream",
          "text": [
            "C:\\Users\\asus\\AppData\\Local\\Continuum\\anaconda3\\lib\\site-packages\\ipykernel_launcher.py:2: SettingWithCopyWarning: \n",
            "A value is trying to be set on a copy of a slice from a DataFrame.\n",
            "Try using .loc[row_indexer,col_indexer] = value instead\n",
            "\n",
            "See the caveats in the documentation: http://pandas.pydata.org/pandas-docs/stable/user_guide/indexing.html#returning-a-view-versus-a-copy\n",
            "  \n"
          ]
        }
      ]
    },
    {
      "cell_type": "code",
      "metadata": {
        "colab": {
          "base_uri": "https://localhost:8080/",
          "height": 419
        },
        "id": "ed6T8-gag-6d",
        "outputId": "36ea812c-23a2-4049-ad80-b0dfa88cb35b"
      },
      "source": [
        "data_used_aftercluster = data_used\n",
        "data_used_aftercluster"
      ],
      "execution_count": null,
      "outputs": [
        {
          "data": {
            "text/html": [
              "<div>\n",
              "<style scoped>\n",
              "    .dataframe tbody tr th:only-of-type {\n",
              "        vertical-align: middle;\n",
              "    }\n",
              "\n",
              "    .dataframe tbody tr th {\n",
              "        vertical-align: top;\n",
              "    }\n",
              "\n",
              "    .dataframe thead th {\n",
              "        text-align: right;\n",
              "    }\n",
              "</style>\n",
              "<table border=\"1\" class=\"dataframe\">\n",
              "  <thead>\n",
              "    <tr style=\"text-align: right;\">\n",
              "      <th></th>\n",
              "      <th>sales</th>\n",
              "      <th>quantity</th>\n",
              "      <th>profit</th>\n",
              "      <th>label</th>\n",
              "    </tr>\n",
              "  </thead>\n",
              "  <tbody>\n",
              "    <tr>\n",
              "      <td>0</td>\n",
              "      <td>261.9600</td>\n",
              "      <td>2</td>\n",
              "      <td>41.9136</td>\n",
              "      <td>1</td>\n",
              "    </tr>\n",
              "    <tr>\n",
              "      <td>1</td>\n",
              "      <td>731.9400</td>\n",
              "      <td>3</td>\n",
              "      <td>219.5820</td>\n",
              "      <td>0</td>\n",
              "    </tr>\n",
              "    <tr>\n",
              "      <td>2</td>\n",
              "      <td>14.6200</td>\n",
              "      <td>2</td>\n",
              "      <td>6.8714</td>\n",
              "      <td>1</td>\n",
              "    </tr>\n",
              "    <tr>\n",
              "      <td>3</td>\n",
              "      <td>957.5775</td>\n",
              "      <td>5</td>\n",
              "      <td>-383.0310</td>\n",
              "      <td>0</td>\n",
              "    </tr>\n",
              "    <tr>\n",
              "      <td>4</td>\n",
              "      <td>22.3680</td>\n",
              "      <td>2</td>\n",
              "      <td>2.5164</td>\n",
              "      <td>1</td>\n",
              "    </tr>\n",
              "    <tr>\n",
              "      <td>...</td>\n",
              "      <td>...</td>\n",
              "      <td>...</td>\n",
              "      <td>...</td>\n",
              "      <td>...</td>\n",
              "    </tr>\n",
              "    <tr>\n",
              "      <td>9983</td>\n",
              "      <td>25.2480</td>\n",
              "      <td>3</td>\n",
              "      <td>4.1028</td>\n",
              "      <td>1</td>\n",
              "    </tr>\n",
              "    <tr>\n",
              "      <td>9984</td>\n",
              "      <td>91.9600</td>\n",
              "      <td>2</td>\n",
              "      <td>15.6332</td>\n",
              "      <td>1</td>\n",
              "    </tr>\n",
              "    <tr>\n",
              "      <td>9985</td>\n",
              "      <td>258.5760</td>\n",
              "      <td>2</td>\n",
              "      <td>19.3932</td>\n",
              "      <td>1</td>\n",
              "    </tr>\n",
              "    <tr>\n",
              "      <td>9986</td>\n",
              "      <td>29.6000</td>\n",
              "      <td>4</td>\n",
              "      <td>13.3200</td>\n",
              "      <td>1</td>\n",
              "    </tr>\n",
              "    <tr>\n",
              "      <td>9987</td>\n",
              "      <td>243.1600</td>\n",
              "      <td>2</td>\n",
              "      <td>72.9480</td>\n",
              "      <td>1</td>\n",
              "    </tr>\n",
              "  </tbody>\n",
              "</table>\n",
              "<p>9988 rows × 4 columns</p>\n",
              "</div>"
            ],
            "text/plain": [
              "         sales  quantity    profit  label\n",
              "0     261.9600         2   41.9136      1\n",
              "1     731.9400         3  219.5820      0\n",
              "2      14.6200         2    6.8714      1\n",
              "3     957.5775         5 -383.0310      0\n",
              "4      22.3680         2    2.5164      1\n",
              "...        ...       ...       ...    ...\n",
              "9983   25.2480         3    4.1028      1\n",
              "9984   91.9600         2   15.6332      1\n",
              "9985  258.5760         2   19.3932      1\n",
              "9986   29.6000         4   13.3200      1\n",
              "9987  243.1600         2   72.9480      1\n",
              "\n",
              "[9988 rows x 4 columns]"
            ]
          },
          "execution_count": 31,
          "metadata": {},
          "output_type": "execute_result"
        }
      ]
    },
    {
      "cell_type": "code",
      "metadata": {
        "id": "CZEnGVS1jQTs"
      },
      "source": [
        "data_used_aftercluster.to_csv('klasterisasi_data_retail.csv', index=False)"
      ],
      "execution_count": null,
      "outputs": []
    },
    {
      "cell_type": "code",
      "metadata": {
        "colab": {
          "base_uri": "https://localhost:8080/"
        },
        "id": "mZuHb_3GhbzY",
        "outputId": "9d09e1c5-30fd-4871-b4af-22655da7c093"
      },
      "source": [
        "data_used_aftercluster.info()"
      ],
      "execution_count": null,
      "outputs": [
        {
          "name": "stdout",
          "output_type": "stream",
          "text": [
            "<class 'pandas.core.frame.DataFrame'>\n",
            "RangeIndex: 9988 entries, 0 to 9987\n",
            "Data columns (total 4 columns):\n",
            "sales       9988 non-null float64\n",
            "quantity    9988 non-null int64\n",
            "profit      9988 non-null float64\n",
            "label       9988 non-null int64\n",
            "dtypes: float64(2), int64(2)\n",
            "memory usage: 312.2 KB\n"
          ]
        }
      ]
    },
    {
      "cell_type": "code",
      "metadata": {
        "id": "qaumn3O6i85I"
      },
      "source": [
        ""
      ],
      "execution_count": null,
      "outputs": []
    }
  ]
}