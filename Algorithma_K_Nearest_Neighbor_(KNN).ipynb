{
  "nbformat": 4,
  "nbformat_minor": 0,
  "metadata": {
    "colab": {
      "name": "Algorithma K-Nearest Neighbor (KNN).ipynb",
      "provenance": [],
      "collapsed_sections": [
        "QlhHuuILjltN",
        "BkEtz_h1lxDV",
        "OGfTScUfqz5-"
      ],
      "include_colab_link": true
    },
    "kernelspec": {
      "name": "python3",
      "display_name": "Python 3"
    },
    "language_info": {
      "name": "python"
    }
  },
  "cells": [
    {
      "cell_type": "markdown",
      "metadata": {
        "id": "view-in-github",
        "colab_type": "text"
      },
      "source": [
        "<a href=\"https://colab.research.google.com/github/GalangSuryaputra/Pedjoeang-Data-Sains/blob/main/Algorithma_K_Nearest_Neighbor_(KNN).ipynb\" target=\"_parent\"><img src=\"https://colab.research.google.com/assets/colab-badge.svg\" alt=\"Open In Colab\"/></a>"
      ]
    },
    {
      "cell_type": "markdown",
      "metadata": {
        "id": "QlhHuuILjltN"
      },
      "source": [
        "Assalamu'alaikum warahmatullahi wabarakatuh. Puji syukur kehadirat Allah Subhana Wata'ala atas limpahan Rahmat dan HidayahNya kepada kita semua. Sholawat serta salam senantiasa tercurah limpahkan kepada baginda Muhammad Rasulullah Shalallahu'alaihiwassalam.\n",
        "\n",
        "Halo para **Pejuang Data**. Selamat berjumpa di pertemuan kelima Program Training **Algoritma Machine Learning** Kelas Mahir.\n",
        "\n",
        "Pada pertemuan ini kamu akan belajar:\n",
        "*   Algoritma KNN\n",
        "*   Contoh Perhitungan Manual Algoritma KNN\n",
        "*   KNN Python From Scratch\n",
        "\n"
      ]
    },
    {
      "cell_type": "markdown",
      "metadata": {
        "id": "duw2bc09ky31"
      },
      "source": [
        "#**Algoritma K-Nearest Neighbor(KNN)**\n",
        "Algoritma K-Nearest Neighbors adalah algoritma Machine Learning yang melakukan klasifikasi sebuah data didasarkan pada sifat-sifat data didekatnya. Sebuah ungkapan yang bisa membantu dengan mudah memahami ide dasar dari algoritma ini adalah: \"Jika kamu ingin mengetahui sifat seseorang, lihatlah sifat-sifat orang terdekatnya. Sifatnya tidak akan jauh berbeda dari mereka\".\n",
        "\n",
        "Gambar di bawah ini dapat mengilustrasikan hal di atas dengan jelas.\n",
        "![capture.png](data:image/png;base64,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)\n",
        "\n"
      ]
    },
    {
      "cell_type": "markdown",
      "metadata": {
        "id": "ircNe6xildPC"
      },
      "source": [
        "Data baru yang dilmbangkan dengan simbol segitiga biru dapat diklasifikasikan sebagai kelompok kotak hijau atau bintang merah jambu. Jika dilihat berdasarkan kriteria jumlah k=1 maka data segitiga biru diklasifikasikan ke dalam kelompok kotak hijau. Sedangkan jika dilihat berdasarkan kriteria jumlah k=3 maka data tersebut maka diklasifikasikan sebagai kelompok bintang merah jambu. Hal yang sama juga dapat diterapkan untuk k=9. Sebenarnya, kita telah melakukan klasifikasi berdasarkan jarak. Kedekatan yang dimaksud ketika k=1, k=3, dan k=9, kita selalu mengukur kedekatan antara data baru(segitiga biru) dengan data-data berlabel kelompok sebelumnya. Berdasarkan ide dasar di atas, maka diturunkanlah dalam sebuah algoritma untuk menentukan kelompok data dari sebuah inputan data baru(segitiga biru)."
      ]
    },
    {
      "cell_type": "markdown",
      "metadata": {
        "id": "BkEtz_h1lxDV"
      },
      "source": [
        "#**Algoritma KNN**\n",
        "1. Menentukan parameter k (jumlah tetangga paling dekat).\n",
        "2. Menghitung jarak eucliden objek terhadap data training yang diberikan.\n",
        "3. Mengurutkan hasil no 2 secara ascending (berurutan dari nilai tinggi ke rendah)\n",
        "4. Mengumpulkan kategori data (Klasifikasi nearest neighbor berdasarkan nilai k)\n",
        "5. Dengan menggunakan kategori nearest neighbor yang paling mayoritas maka dapat dipredisikan kategori\n",
        "objek."
      ]
    },
    {
      "cell_type": "markdown",
      "metadata": {
        "id": "OGfTScUfqz5-"
      },
      "source": [
        "#**Contoh Perhitungan K-Nearest Neighbor**\n",
        "Diketahui data $x_1$ dan $x_2$ adalah sebagai berikut:\n",
        "\n",
        "\\begin{matrix}\n",
        " x_1 & x_2 & Kelas\\\\\n",
        "1 & 1 & 0\\\\\n",
        "2 & 2 & 0\\\\\n",
        "3 & 2 & 0\\\\\n",
        "12 & 11 & 1\\\\\n",
        "11 & 13 & 1\\\\\n",
        "14 & 15 & 1\\\\\n",
        "\\end{matrix}\n",
        "\n",
        "Kita diminta menentukan kelas dari data baru yaitu (9,10) dengan parameter k=3\n",
        "\n",
        "**Langkah 1:**\n",
        "\n",
        "Menentukan parameter k (jumlah tetangga paling dekat)\n",
        "\n",
        "k=3\n",
        "\n",
        "**Langkah 2:**\n",
        "\n",
        "Menghitung jarak eucliden objek terhadap data training yang diberikan. \n",
        "\n",
        "Formula jarak Euclidean:\n",
        "\n",
        "$$ d,j = \\sqrt{(x1_i - x1j)^2+(x2_i - x2_j)^2} \\ untuk, j= 1,2,3,....n $$\n",
        "\n",
        "\\begin{matrix}\n",
        " x_1 & x_2 & Jarak Euclidendengan(9,10)\\\\ \n",
        "1 & 1 & \\sqrt{(9-1)^2+(10-1)^2}= 12.04\\\\\n",
        "2 & 2 & \\sqrt{(9-2)^2+(10-2)^2}= 10.63\\\\\n",
        "3 & 2 & \\sqrt{(9-3)^2+(10-2)^2}= 10\\\\\n",
        "12 & 11 & \\sqrt{(9-12)^2+(10-11)^2} = 3.16\\\\\n",
        "11 & 13 & \\sqrt{(9-11)^2+(9-13)^2} = 3.60\\\\\n",
        "14 & 15 & \\sqrt{(9-14)^2+(9-15)^2} = 7.07\\\\\n",
        "\\end{matrix}\n",
        "\n",
        "**Langkah 3:**\n",
        "\n",
        "Mengurutkan hasil langkah 2 secara ascending (berurutan dari nilai tinggi ke rendah)\n",
        "\n",
        "\\begin{matrix}\n",
        " x_1 & x_2 & Jarak \\ Eucliden\\ dengan\\ (9,10) & Urutan(Jarak\\ terpendek)\\\\ \n",
        "1 & 1 & \\sqrt{(9-1)^2+(10-1)^2}= 12.04 & 6\\\\\n",
        "2 & 2 & \\sqrt{(9-2)^2+(10-2)^2}= 10.63 & 5\\\\\n",
        "3 & 2 & \\sqrt{(9-3)^2+(10-2)^2}= 10 & 4\\\\\n",
        "12 & 11 & \\sqrt{(9-12)^2+(10-11)^2} = 3.16 & 1\\\\\n",
        "11 & 13 & \\sqrt{(9-11)^2+(9-13)^2} = 3.60 & 2\\\\\n",
        "14 & 15 & \\sqrt{(9-14)^2+(9-15)^2} = 7.07 & 3\\\\\n",
        "\\end{matrix}\n",
        "\n",
        "**Langkah 4:**\n",
        "\n",
        "Mengumpulkan kategori data(klasifikasi nearest neighbor berdasarkan nilai k)\n",
        "\n",
        "Kelas data 3 data terdekat (k=3)\n",
        "\n",
        "$(12,11)=1, (11,13)=1, (14,15)=1$\n",
        "\n",
        "**Langkah 5:**\n",
        "\n",
        "Dengan menggunakan kategori nearest neighbor yang paling mayoritas maka dapat dipredisikan kategori objek.\n",
        "\n",
        "Kelas data untuk k=3\n",
        "\n",
        "$'0'=0,\\ '1'=3$\n",
        "\n",
        "Maka disimpulkan bahwa data (9,10) diklasifikasikan ke kelas '1'.\n",
        "\n"
      ]
    },
    {
      "cell_type": "markdown",
      "metadata": {
        "id": "VkFyQtRkkrid"
      },
      "source": [
        "#**KNN Python From Scratch**\n",
        "\n",
        "##**Membangun Model KNN**\n",
        "Pertama, import library python yang dibutuhkan yaitu:\n",
        "\n",
        "\n",
        "*   Numpy\n",
        "*   Pandas\n",
        "*   Matplotlib\n",
        "\n",
        "\n",
        "\n",
        "\n"
      ]
    },
    {
      "cell_type": "code",
      "metadata": {
        "id": "_gt9l7Rer2QM"
      },
      "source": [
        "import numpy as np\n",
        "import pandas as pd\n",
        "import matplotlib.pyplot as plt\n",
        "%matplotlib inline"
      ],
      "execution_count": 1,
      "outputs": []
    },
    {
      "cell_type": "markdown",
      "metadata": {
        "id": "IZBnXI4gsV0l"
      },
      "source": [
        "Untuk memahami konsep, kita akan menggunakan data X dan Y seperti yang kita tunjukkan pada proses\n",
        "penghitungan manual."
      ]
    },
    {
      "cell_type": "code",
      "metadata": {
        "id": "LQ1iMKRGsYqE"
      },
      "source": [
        "X=np.array([[1,1], [2,2], [3,2], [12,11], [11,13], [14,15]])\n",
        "y=np.array([0,0,0,1,1,1])\n",
        "x_baru=np.array([9,10])"
      ],
      "execution_count": 2,
      "outputs": []
    },
    {
      "cell_type": "code",
      "metadata": {
        "colab": {
          "base_uri": "https://localhost:8080/"
        },
        "id": "eHxpMQbkseUX",
        "outputId": "b6fb10a9-ccc9-4ece-d34a-816ff5beb5d8"
      },
      "source": [
        "X"
      ],
      "execution_count": 3,
      "outputs": [
        {
          "output_type": "execute_result",
          "data": {
            "text/plain": [
              "array([[ 1,  1],\n",
              "       [ 2,  2],\n",
              "       [ 3,  2],\n",
              "       [12, 11],\n",
              "       [11, 13],\n",
              "       [14, 15]])"
            ]
          },
          "metadata": {},
          "execution_count": 3
        }
      ]
    },
    {
      "cell_type": "code",
      "metadata": {
        "colab": {
          "base_uri": "https://localhost:8080/"
        },
        "id": "dJ1eyzxxskND",
        "outputId": "92961a2f-4168-4daa-a1ab-c373452636fa"
      },
      "source": [
        "y"
      ],
      "execution_count": 4,
      "outputs": [
        {
          "output_type": "execute_result",
          "data": {
            "text/plain": [
              "array([0, 0, 0, 1, 1, 1])"
            ]
          },
          "metadata": {},
          "execution_count": 4
        }
      ]
    },
    {
      "cell_type": "code",
      "metadata": {
        "colab": {
          "base_uri": "https://localhost:8080/"
        },
        "id": "E0JnHJKIsmhX",
        "outputId": "e7c776ba-85c3-47fc-cad0-569beaaa3b86"
      },
      "source": [
        "x_baru\n"
      ],
      "execution_count": 5,
      "outputs": [
        {
          "output_type": "execute_result",
          "data": {
            "text/plain": [
              "array([ 9, 10])"
            ]
          },
          "metadata": {},
          "execution_count": 5
        }
      ]
    },
    {
      "cell_type": "markdown",
      "metadata": {
        "id": "iIhurXKEsqGs"
      },
      "source": [
        "**Langkah 1:**\n",
        "\n",
        "Menentukan parameter k (jumlah tetangga paling dekat)"
      ]
    },
    {
      "cell_type": "code",
      "metadata": {
        "id": "wB7l018Ds04X"
      },
      "source": [
        "k=3"
      ],
      "execution_count": 6,
      "outputs": []
    },
    {
      "cell_type": "markdown",
      "metadata": {
        "id": "nuZTHobSs5CN"
      },
      "source": [
        "**Langkah 2:**\n",
        "\n",
        "Menghitung kuadrat jarak eucliden objek terhadap data training yang diberikan."
      ]
    },
    {
      "cell_type": "code",
      "metadata": {
        "id": "AOftH3gSvVlV"
      },
      "source": [
        "def jarak_euclidean(x,y):\n",
        " return np.sqrt(sum(pow(a-b, 2) for a, b in zip(x,y)))"
      ],
      "execution_count": 7,
      "outputs": []
    },
    {
      "cell_type": "code",
      "metadata": {
        "colab": {
          "base_uri": "https://localhost:8080/"
        },
        "id": "9Juief39vaX5",
        "outputId": "b3f54bd0-b735-464b-820a-aafaf5b45c17"
      },
      "source": [
        "jarak=[]\n",
        "for x_i in X:\n",
        " jarak_euclid=jarak_euclidean(x_i,x_baru)\n",
        " jarak.append(jarak_euclid)\n",
        " print(jarak)\n",
        "print(jarak)"
      ],
      "execution_count": 8,
      "outputs": [
        {
          "output_type": "stream",
          "name": "stdout",
          "text": [
            "[12.041594578792296]\n",
            "[12.041594578792296, 10.63014581273465]\n",
            "[12.041594578792296, 10.63014581273465, 10.0]\n",
            "[12.041594578792296, 10.63014581273465, 10.0, 3.1622776601683795]\n",
            "[12.041594578792296, 10.63014581273465, 10.0, 3.1622776601683795, 3.605551275463989]\n",
            "[12.041594578792296, 10.63014581273465, 10.0, 3.1622776601683795, 3.605551275463989, 7.0710678118654755]\n",
            "[12.041594578792296, 10.63014581273465, 10.0, 3.1622776601683795, 3.605551275463989, 7.0710678118654755]\n"
          ]
        }
      ]
    },
    {
      "cell_type": "markdown",
      "metadata": {
        "id": "BaIaTrjmvlb0"
      },
      "source": [
        "**Langkah 3:**\n",
        "\n",
        "Mengurutkan hasil langkah 2 secara ascending (berurutan dari nilai tinggi ke rendah)"
      ]
    },
    {
      "cell_type": "code",
      "metadata": {
        "colab": {
          "base_uri": "https://localhost:8080/"
        },
        "id": "gdmL5i3UvrRK",
        "outputId": "a4de8862-9ab7-4e7f-ed8d-18622216954a"
      },
      "source": [
        "urut=np.sort(jarak)\n",
        "list_urut=[]\n",
        "for i in range(len(urut)):\n",
        " list_urut.append(urut[i])\n",
        "print(list_urut)"
      ],
      "execution_count": 9,
      "outputs": [
        {
          "output_type": "stream",
          "name": "stdout",
          "text": [
            "[3.1622776601683795, 3.605551275463989, 7.0710678118654755, 10.0, 10.63014581273465, 12.041594578792296]\n"
          ]
        }
      ]
    },
    {
      "cell_type": "code",
      "metadata": {
        "colab": {
          "base_uri": "https://localhost:8080/"
        },
        "id": "-I2I3KYjvwVS",
        "outputId": "9f296d9e-1a7a-4195-9a2b-8bad0809d80e"
      },
      "source": [
        "urutan=[]\n",
        "for i in list_urut:\n",
        " urtn=jarak.index(i)\n",
        " urutan.append(urtn)\n",
        "print(urutan)"
      ],
      "execution_count": 10,
      "outputs": [
        {
          "output_type": "stream",
          "name": "stdout",
          "text": [
            "[3, 4, 5, 2, 1, 0]\n"
          ]
        }
      ]
    },
    {
      "cell_type": "markdown",
      "metadata": {
        "id": "QLYKS4N5v61u"
      },
      "source": [
        "atau dengan sederhana dapat menggunakan np.argsort seperti berikut:"
      ]
    },
    {
      "cell_type": "code",
      "metadata": {
        "colab": {
          "base_uri": "https://localhost:8080/"
        },
        "id": "CGZDs3eLv-zJ",
        "outputId": "56d5b322-359b-4292-88fc-b7691dbd74a7"
      },
      "source": [
        "np.argsort(jarak)"
      ],
      "execution_count": 11,
      "outputs": [
        {
          "output_type": "execute_result",
          "data": {
            "text/plain": [
              "array([3, 4, 5, 2, 1, 0])"
            ]
          },
          "metadata": {},
          "execution_count": 11
        }
      ]
    },
    {
      "cell_type": "markdown",
      "metadata": {
        "id": "-NQr4czuwGkN"
      },
      "source": [
        "**Langkah 4:**\n",
        "\n",
        "Mengumpulkan kategori data (Klasifikasi nearest neighbor berdasarkan nilai k)\n",
        "\n",
        "Kelas data 3 data terdekat(k=3)"
      ]
    },
    {
      "cell_type": "code",
      "metadata": {
        "colab": {
          "base_uri": "https://localhost:8080/"
        },
        "id": "-WZyvwxnwMp7",
        "outputId": "4cb4a630-efad-4f9d-91d0-f056c38ece30"
      },
      "source": [
        "ambil=urutan[:k]\n",
        "print(y[ambil])"
      ],
      "execution_count": 12,
      "outputs": [
        {
          "output_type": "stream",
          "name": "stdout",
          "text": [
            "[1 1 1]\n"
          ]
        }
      ]
    },
    {
      "cell_type": "markdown",
      "metadata": {
        "id": "tLKSlrLyway9"
      },
      "source": [
        "**Langkah 5:**\n",
        "\n",
        "Dengan menggunakan kategori nearest neighbor yang paling mayoritas maka dapat dipredisikan kategori\n",
        "objek.\n"
      ]
    },
    {
      "cell_type": "code",
      "metadata": {
        "colab": {
          "base_uri": "https://localhost:8080/"
        },
        "id": "kYQvjwhzwhBA",
        "outputId": "d121c8ca-ce24-4132-cc03-df742c2040d4"
      },
      "source": [
        "from collections import Counter\n",
        "kelas_paling_banyak = Counter(y[ambil]).most_common(1)\n",
        "kelas_paling_banyak\n"
      ],
      "execution_count": 13,
      "outputs": [
        {
          "output_type": "execute_result",
          "data": {
            "text/plain": [
              "[(1, 3)]"
            ]
          },
          "metadata": {},
          "execution_count": 13
        }
      ]
    },
    {
      "cell_type": "code",
      "metadata": {
        "colab": {
          "base_uri": "https://localhost:8080/"
        },
        "id": "kkOBYyN1wkhB",
        "outputId": "daf8eeb7-f6d0-4ede-efed-836024467cd4"
      },
      "source": [
        "kelas_paling_banyak[0][0]\n"
      ],
      "execution_count": 14,
      "outputs": [
        {
          "output_type": "execute_result",
          "data": {
            "text/plain": [
              "1"
            ]
          },
          "metadata": {},
          "execution_count": 14
        }
      ]
    },
    {
      "cell_type": "code",
      "metadata": {
        "colab": {
          "base_uri": "https://localhost:8080/",
          "height": 280
        },
        "id": "x5mBS5kqwpAr",
        "outputId": "99f829ca-16d5-42e3-ccc0-a8b9bf67a014"
      },
      "source": [
        "# Plot Data\n",
        "df = pd.DataFrame(X, columns =['x1', 'x2'])\n",
        "colormap = np.array(['g', 'b'])\n",
        "label=['A', 'A', 'A', 'B', 'B', 'B']\n",
        "# Plot Titik Data\n",
        "plt.scatter(df['x1'], df['x2'], color=colormap[y])\n",
        "\n",
        "plt.scatter(x_baru[0], x_baru[1], color='r', label='Data Baru')\n",
        "# Label sumbu\n",
        "plt.xlabel('x_1')\n",
        "\n",
        "# Label sumbu y\n",
        "plt.ylabel('x_2')\n",
        "\n",
        "# Menampilkan Legenda\n",
        "plt.legend()\n",
        "\n",
        "# Menampilkan Gambar Hasil Plot\n",
        "plt.show()\n"
      ],
      "execution_count": 15,
      "outputs": [
        {
          "output_type": "display_data",
          "data": {
            "image/png": "[encoded data removed]",
            "text/plain": [
              "<Figure size 432x288 with 1 Axes>"
            ]
          },
          "metadata": {
            "needs_background": "light"
          }
        }
      ]
    },
    {
      "cell_type": "markdown",
      "metadata": {
        "id": "66gICDW3w5Is"
      },
      "source": [
        "Maka disimpulkan bahwa data (9,10) diklasifikasikan ke kelas '1'."
      ]
    },
    {
      "cell_type": "markdown",
      "metadata": {
        "id": "KJD09uDzxHoD"
      },
      "source": [
        "#**Implementasi Model KNN Pada Data Real**\n",
        "\n",
        "Kita akan menggunakan dataset Iris yang tersedia di sklearn dataset.\n"
      ]
    },
    {
      "cell_type": "code",
      "metadata": {
        "colab": {
          "base_uri": "https://localhost:8080/"
        },
        "id": "YkE2ax1hxSGP",
        "outputId": "52bd288b-fe2c-413b-d677-1a2384052c20"
      },
      "source": [
        "from matplotlib.colors import ListedColormap\n",
        "from sklearn import datasets\n",
        "from sklearn.model_selection import train_test_split\n",
        "iris = datasets.load_iris()\n",
        "iris\n"
      ],
      "execution_count": 16,
      "outputs": [
        {
          "output_type": "execute_result",
          "data": {
            "text/plain": [
              "{'DESCR': '.. _iris_dataset:\\n\\nIris plants dataset\\n--------------------\\n\\n**Data Set Characteristics:**\\n\\n    :Number of Instances: 150 (50 in each of three classes)\\n    :Number of Attributes: 4 numeric, predictive attributes and the class\\n    :Attribute Information:\\n        - sepal length in cm\\n        - sepal width in cm\\n        - petal length in cm\\n        - petal width in cm\\n        - class:\\n                - Iris-Setosa\\n                - Iris-Versicolour\\n                - Iris-Virginica\\n                \\n    :Summary Statistics:\\n\\n    ============== ==== ==== ======= ===== ====================\\n                    Min  Max   Mean    SD   Class Correlation\\n    ============== ==== ==== ======= ===== ====================\\n    sepal length:   4.3  7.9   5.84   0.83    0.7826\\n    sepal width:    2.0  4.4   3.05   0.43   -0.4194\\n    petal length:   1.0  6.9   3.76   1.76    0.9490  (high!)\\n    petal width:    0.1  2.5   1.20   0.76    0.9565  (high!)\\n    ============== ==== ==== ======= ===== ====================\\n\\n    :Missing Attribute Values: None\\n    :Class Distribution: 33.3% for each of 3 classes.\\n    :Creator: R.A. Fisher\\n    :Donor: Michael Marshall (MARSHALL%PLU@io.arc.nasa.gov)\\n    :Date: July, 1988\\n\\nThe famous Iris database, first used by Sir R.A. Fisher. The dataset is taken\\nfrom Fisher\\'s paper. Note that it\\'s the same as in R, but not as in the UCI\\nMachine Learning Repository, which has two wrong data points.\\n\\nThis is perhaps the best known database to be found in the\\npattern recognition literature.  Fisher\\'s paper is a classic in the field and\\nis referenced frequently to this day.  (See Duda & Hart, for example.)  The\\ndata set contains 3 classes of 50 instances each, where each class refers to a\\ntype of iris plant.  One class is linearly separable from the other 2; the\\nlatter are NOT linearly separable from each other.\\n\\n.. topic:: References\\n\\n   - Fisher, R.A. \"The use of multiple measurements in taxonomic problems\"\\n     Annual Eugenics, 7, Part II, 179-188 (1936); also in \"Contributions to\\n     Mathematical Statistics\" (John Wiley, NY, 1950).\\n   - Duda, R.O., & Hart, P.E. (1973) Pattern Classification and Scene Analysis.\\n     (Q327.D83) John Wiley & Sons.  ISBN 0-471-22361-1.  See page 218.\\n   - Dasarathy, B.V. (1980) \"Nosing Around the Neighborhood: A New System\\n     Structure and Classification Rule for Recognition in Partially Exposed\\n     Environments\".  IEEE Transactions on Pattern Analysis and Machine\\n     Intelligence, Vol. PAMI-2, No. 1, 67-71.\\n   - Gates, G.W. (1972) \"The Reduced Nearest Neighbor Rule\".  IEEE Transactions\\n     on Information Theory, May 1972, 431-433.\\n   - See also: 1988 MLC Proceedings, 54-64.  Cheeseman et al\"s AUTOCLASS II\\n     conceptual clustering system finds 3 classes in the data.\\n   - Many, many more ...',\n",
              " 'data': array([[5.1, 3.5, 1.4, 0.2],\n",
              "        [4.9, 3. , 1.4, 0.2],\n",
              "        [4.7, 3.2, 1.3, 0.2],\n",
              "        [4.6, 3.1, 1.5, 0.2],\n",
              "        [5. , 3.6, 1.4, 0.2],\n",
              "        [5.4, 3.9, 1.7, 0.4],\n",
              "        [4.6, 3.4, 1.4, 0.3],\n",
              "        [5. , 3.4, 1.5, 0.2],\n",
              "        [4.4, 2.9, 1.4, 0.2],\n",
              "        [4.9, 3.1, 1.5, 0.1],\n",
              "        [5.4, 3.7, 1.5, 0.2],\n",
              "        [4.8, 3.4, 1.6, 0.2],\n",
              "        [4.8, 3. , 1.4, 0.1],\n",
              "        [4.3, 3. , 1.1, 0.1],\n",
              "        [5.8, 4. , 1.2, 0.2],\n",
              "        [5.7, 4.4, 1.5, 0.4],\n",
              "        [5.4, 3.9, 1.3, 0.4],\n",
              "        [5.1, 3.5, 1.4, 0.3],\n",
              "        [5.7, 3.8, 1.7, 0.3],\n",
              "        [5.1, 3.8, 1.5, 0.3],\n",
              "        [5.4, 3.4, 1.7, 0.2],\n",
              "        [5.1, 3.7, 1.5, 0.4],\n",
              "        [4.6, 3.6, 1. , 0.2],\n",
              "        [5.1, 3.3, 1.7, 0.5],\n",
              "        [4.8, 3.4, 1.9, 0.2],\n",
              "        [5. , 3. , 1.6, 0.2],\n",
              "        [5. , 3.4, 1.6, 0.4],\n",
              "        [5.2, 3.5, 1.5, 0.2],\n",
              "        [5.2, 3.4, 1.4, 0.2],\n",
              "        [4.7, 3.2, 1.6, 0.2],\n",
              "        [4.8, 3.1, 1.6, 0.2],\n",
              "        [5.4, 3.4, 1.5, 0.4],\n",
              "        [5.2, 4.1, 1.5, 0.1],\n",
              "        [5.5, 4.2, 1.4, 0.2],\n",
              "        [4.9, 3.1, 1.5, 0.2],\n",
              "        [5. , 3.2, 1.2, 0.2],\n",
              "        [5.5, 3.5, 1.3, 0.2],\n",
              "        [4.9, 3.6, 1.4, 0.1],\n",
              "        [4.4, 3. , 1.3, 0.2],\n",
              "        [5.1, 3.4, 1.5, 0.2],\n",
              "        [5. , 3.5, 1.3, 0.3],\n",
              "        [4.5, 2.3, 1.3, 0.3],\n",
              "        [4.4, 3.2, 1.3, 0.2],\n",
              "        [5. , 3.5, 1.6, 0.6],\n",
              "        [5.1, 3.8, 1.9, 0.4],\n",
              "        [4.8, 3. , 1.4, 0.3],\n",
              "        [5.1, 3.8, 1.6, 0.2],\n",
              "        [4.6, 3.2, 1.4, 0.2],\n",
              "        [5.3, 3.7, 1.5, 0.2],\n",
              "        [5. , 3.3, 1.4, 0.2],\n",
              "        [7. , 3.2, 4.7, 1.4],\n",
              "        [6.4, 3.2, 4.5, 1.5],\n",
              "        [6.9, 3.1, 4.9, 1.5],\n",
              "        [5.5, 2.3, 4. , 1.3],\n",
              "        [6.5, 2.8, 4.6, 1.5],\n",
              "        [5.7, 2.8, 4.5, 1.3],\n",
              "        [6.3, 3.3, 4.7, 1.6],\n",
              "        [4.9, 2.4, 3.3, 1. ],\n",
              "        [6.6, 2.9, 4.6, 1.3],\n",
              "        [5.2, 2.7, 3.9, 1.4],\n",
              "        [5. , 2. , 3.5, 1. ],\n",
              "        [5.9, 3. , 4.2, 1.5],\n",
              "        [6. , 2.2, 4. , 1. ],\n",
              "        [6.1, 2.9, 4.7, 1.4],\n",
              "        [5.6, 2.9, 3.6, 1.3],\n",
              "        [6.7, 3.1, 4.4, 1.4],\n",
              "        [5.6, 3. , 4.5, 1.5],\n",
              "        [5.8, 2.7, 4.1, 1. ],\n",
              "        [6.2, 2.2, 4.5, 1.5],\n",
              "        [5.6, 2.5, 3.9, 1.1],\n",
              "        [5.9, 3.2, 4.8, 1.8],\n",
              "        [6.1, 2.8, 4. , 1.3],\n",
              "        [6.3, 2.5, 4.9, 1.5],\n",
              "        [6.1, 2.8, 4.7, 1.2],\n",
              "        [6.4, 2.9, 4.3, 1.3],\n",
              "        [6.6, 3. , 4.4, 1.4],\n",
              "        [6.8, 2.8, 4.8, 1.4],\n",
              "        [6.7, 3. , 5. , 1.7],\n",
              "        [6. , 2.9, 4.5, 1.5],\n",
              "        [5.7, 2.6, 3.5, 1. ],\n",
              "        [5.5, 2.4, 3.8, 1.1],\n",
              "        [5.5, 2.4, 3.7, 1. ],\n",
              "        [5.8, 2.7, 3.9, 1.2],\n",
              "        [6. , 2.7, 5.1, 1.6],\n",
              "        [5.4, 3. , 4.5, 1.5],\n",
              "        [6. , 3.4, 4.5, 1.6],\n",
              "        [6.7, 3.1, 4.7, 1.5],\n",
              "        [6.3, 2.3, 4.4, 1.3],\n",
              "        [5.6, 3. , 4.1, 1.3],\n",
              "        [5.5, 2.5, 4. , 1.3],\n",
              "        [5.5, 2.6, 4.4, 1.2],\n",
              "        [6.1, 3. , 4.6, 1.4],\n",
              "        [5.8, 2.6, 4. , 1.2],\n",
              "        [5. , 2.3, 3.3, 1. ],\n",
              "        [5.6, 2.7, 4.2, 1.3],\n",
              "        [5.7, 3. , 4.2, 1.2],\n",
              "        [5.7, 2.9, 4.2, 1.3],\n",
              "        [6.2, 2.9, 4.3, 1.3],\n",
              "        [5.1, 2.5, 3. , 1.1],\n",
              "        [5.7, 2.8, 4.1, 1.3],\n",
              "        [6.3, 3.3, 6. , 2.5],\n",
              "        [5.8, 2.7, 5.1, 1.9],\n",
              "        [7.1, 3. , 5.9, 2.1],\n",
              "        [6.3, 2.9, 5.6, 1.8],\n",
              "        [6.5, 3. , 5.8, 2.2],\n",
              "        [7.6, 3. , 6.6, 2.1],\n",
              "        [4.9, 2.5, 4.5, 1.7],\n",
              "        [7.3, 2.9, 6.3, 1.8],\n",
              "        [6.7, 2.5, 5.8, 1.8],\n",
              "        [7.2, 3.6, 6.1, 2.5],\n",
              "        [6.5, 3.2, 5.1, 2. ],\n",
              "        [6.4, 2.7, 5.3, 1.9],\n",
              "        [6.8, 3. , 5.5, 2.1],\n",
              "        [5.7, 2.5, 5. , 2. ],\n",
              "        [5.8, 2.8, 5.1, 2.4],\n",
              "        [6.4, 3.2, 5.3, 2.3],\n",
              "        [6.5, 3. , 5.5, 1.8],\n",
              "        [7.7, 3.8, 6.7, 2.2],\n",
              "        [7.7, 2.6, 6.9, 2.3],\n",
              "        [6. , 2.2, 5. , 1.5],\n",
              "        [6.9, 3.2, 5.7, 2.3],\n",
              "        [5.6, 2.8, 4.9, 2. ],\n",
              "        [7.7, 2.8, 6.7, 2. ],\n",
              "        [6.3, 2.7, 4.9, 1.8],\n",
              "        [6.7, 3.3, 5.7, 2.1],\n",
              "        [7.2, 3.2, 6. , 1.8],\n",
              "        [6.2, 2.8, 4.8, 1.8],\n",
              "        [6.1, 3. , 4.9, 1.8],\n",
              "        [6.4, 2.8, 5.6, 2.1],\n",
              "        [7.2, 3. , 5.8, 1.6],\n",
              "        [7.4, 2.8, 6.1, 1.9],\n",
              "        [7.9, 3.8, 6.4, 2. ],\n",
              "        [6.4, 2.8, 5.6, 2.2],\n",
              "        [6.3, 2.8, 5.1, 1.5],\n",
              "        [6.1, 2.6, 5.6, 1.4],\n",
              "        [7.7, 3. , 6.1, 2.3],\n",
              "        [6.3, 3.4, 5.6, 2.4],\n",
              "        [6.4, 3.1, 5.5, 1.8],\n",
              "        [6. , 3. , 4.8, 1.8],\n",
              "        [6.9, 3.1, 5.4, 2.1],\n",
              "        [6.7, 3.1, 5.6, 2.4],\n",
              "        [6.9, 3.1, 5.1, 2.3],\n",
              "        [5.8, 2.7, 5.1, 1.9],\n",
              "        [6.8, 3.2, 5.9, 2.3],\n",
              "        [6.7, 3.3, 5.7, 2.5],\n",
              "        [6.7, 3. , 5.2, 2.3],\n",
              "        [6.3, 2.5, 5. , 1.9],\n",
              "        [6.5, 3. , 5.2, 2. ],\n",
              "        [6.2, 3.4, 5.4, 2.3],\n",
              "        [5.9, 3. , 5.1, 1.8]]),\n",
              " 'feature_names': ['sepal length (cm)',\n",
              "  'sepal width (cm)',\n",
              "  'petal length (cm)',\n",
              "  'petal width (cm)'],\n",
              " 'filename': '/usr/local/lib/python3.7/dist-packages/sklearn/datasets/data/iris.csv',\n",
              " 'target': array([0, 0, 0, 0, 0, 0, 0, 0, 0, 0, 0, 0, 0, 0, 0, 0, 0, 0, 0, 0, 0, 0,\n",
              "        0, 0, 0, 0, 0, 0, 0, 0, 0, 0, 0, 0, 0, 0, 0, 0, 0, 0, 0, 0, 0, 0,\n",
              "        0, 0, 0, 0, 0, 0, 1, 1, 1, 1, 1, 1, 1, 1, 1, 1, 1, 1, 1, 1, 1, 1,\n",
              "        1, 1, 1, 1, 1, 1, 1, 1, 1, 1, 1, 1, 1, 1, 1, 1, 1, 1, 1, 1, 1, 1,\n",
              "        1, 1, 1, 1, 1, 1, 1, 1, 1, 1, 1, 1, 2, 2, 2, 2, 2, 2, 2, 2, 2, 2,\n",
              "        2, 2, 2, 2, 2, 2, 2, 2, 2, 2, 2, 2, 2, 2, 2, 2, 2, 2, 2, 2, 2, 2,\n",
              "        2, 2, 2, 2, 2, 2, 2, 2, 2, 2, 2, 2, 2, 2, 2, 2, 2, 2]),\n",
              " 'target_names': array(['setosa', 'versicolor', 'virginica'], dtype='<U10')}"
            ]
          },
          "metadata": {},
          "execution_count": 16
        }
      ]
    },
    {
      "cell_type": "markdown",
      "metadata": {
        "id": "opVUZEKwxg2j"
      },
      "source": [
        "Memilih dataset X(iris.data) dan dataset y(iris.target).\n"
      ]
    },
    {
      "cell_type": "code",
      "metadata": {
        "id": "xkg7c0E2xke7"
      },
      "source": [
        "X, y = iris.data, iris.target"
      ],
      "execution_count": 17,
      "outputs": []
    },
    {
      "cell_type": "markdown",
      "metadata": {
        "id": "0Xqu2XiEytEp"
      },
      "source": [
        "Membagi dataset menjadi data latih dan data uji"
      ]
    },
    {
      "cell_type": "code",
      "metadata": {
        "id": "uLFmd6qwyxZt"
      },
      "source": [
        "X_latih, X_uji, y_latih, y_uji = train_test_split(X, y, test_size=0.20, random_state=1234)\n"
      ],
      "execution_count": 18,
      "outputs": []
    },
    {
      "cell_type": "markdown",
      "metadata": {
        "id": "knn7-TJ0zBJn"
      },
      "source": [
        "Menuliskan algoritma KNN dalam bentuk fungsi"
      ]
    },
    {
      "cell_type": "code",
      "metadata": {
        "id": "UvRAS_m1zHQy"
      },
      "source": [
        "def _knn(x):\n",
        " # Menghitung jarak antara x baru dengan semua sampel di data latih\n",
        " jarak = [jarak_euclidean(x, x_latih) for x_latih in X_latih]\n",
        " # Mengurutkan data dan mengambil sejumlah k objek\n",
        " k_idx = np.argsort(jarak)[: k]\n",
        " # Mengambil kelas dari k tetangga terdekat dari data latih\n",
        " k_neighbor_labels = [y_latih[i] for i in k_idx]\n",
        " # Mengambil kelas yang paling sering muncul\n",
        " kelas_paling_banyak = Counter(k_neighbor_labels).most_common(1)\n",
        " return kelas_paling_banyak[0][0]\n",
        " \n",
        "def KNN(X_latih, y_latih, k, x_baru):\n",
        " y_pred= [_knn(x_i) for x_i in x_baru]\n",
        " return np.array(y_pred)"
      ],
      "execution_count": 19,
      "outputs": []
    },
    {
      "cell_type": "code",
      "metadata": {
        "colab": {
          "base_uri": "https://localhost:8080/"
        },
        "id": "hNeWs70FzWui",
        "outputId": "44fc5ebc-1d70-4487-c562-728f1bb3ca3f"
      },
      "source": [
        "y_pred=KNN(X_latih, y_latih, k, X_uji)\n",
        "y_pred"
      ],
      "execution_count": 20,
      "outputs": [
        {
          "output_type": "execute_result",
          "data": {
            "text/plain": [
              "array([1, 1, 2, 0, 1, 0, 0, 0, 1, 2, 1, 0, 2, 1, 0, 1, 2, 0, 2, 1, 1, 1,\n",
              "       1, 1, 2, 0, 2, 1, 2, 0])"
            ]
          },
          "metadata": {},
          "execution_count": 20
        }
      ]
    },
    {
      "cell_type": "code",
      "metadata": {
        "colab": {
          "base_uri": "https://localhost:8080/"
        },
        "id": "5OrerphazcUC",
        "outputId": "09153f3c-e2e3-4a72-9800-7e895699a24d"
      },
      "source": [
        "y_uji"
      ],
      "execution_count": 21,
      "outputs": [
        {
          "output_type": "execute_result",
          "data": {
            "text/plain": [
              "array([1, 1, 2, 0, 1, 0, 0, 0, 1, 2, 1, 0, 2, 1, 0, 1, 2, 0, 2, 1, 1, 1,\n",
              "       1, 1, 2, 0, 2, 1, 2, 0])"
            ]
          },
          "metadata": {},
          "execution_count": 21
        }
      ]
    },
    {
      "cell_type": "markdown",
      "metadata": {
        "id": "QypPCCukzf00"
      },
      "source": [
        "#**Evaluasi Model**\n",
        "\n",
        "Evaluasi model digunakan untuk melihat seberapa baik metode ini bekerja pada data uji yang diberikan. Salah\n",
        "satu metrik yang dapat digunakan adalah akurasi. Metrik ini menghitung jumlah hasil prediksi yang sesuai\n",
        "dengan label sesungguhnya kemudian dibagi dengan jumlah keseluruhan label. Menggunakan bahasa python\n",
        "akurasi dapat dituliskan sebagai berikut."
      ]
    },
    {
      "cell_type": "code",
      "metadata": {
        "id": "yBq5ZMkP0FL8"
      },
      "source": [
        "def akurasi(y_asli, y_pred):\n",
        " akurasi = np.sum(y_asli == y_pred) / len(y_asli)\n",
        " return akurasi"
      ],
      "execution_count": 22,
      "outputs": []
    },
    {
      "cell_type": "code",
      "metadata": {
        "colab": {
          "base_uri": "https://localhost:8080/"
        },
        "id": "en7id_fx0H_D",
        "outputId": "77678002-d1ac-4b8d-b618-caf5160cd35d"
      },
      "source": [
        "akurasi(y_uji , y_pred)\n"
      ],
      "execution_count": 23,
      "outputs": [
        {
          "output_type": "execute_result",
          "data": {
            "text/plain": [
              "1.0"
            ]
          },
          "metadata": {},
          "execution_count": 23
        }
      ]
    },
    {
      "cell_type": "markdown",
      "metadata": {
        "id": "u6V0iCct0M2Q"
      },
      "source": [
        "Diperoleh hasil akurasi 1.0 artinya metode KNN dapat melakukan prediksi dengan tepat untuk semua data uji\n",
        "yang digunakan"
      ]
    },
    {
      "cell_type": "markdown",
      "metadata": {
        "id": "Lp9Apg_2dyN-"
      },
      "source": [
        "#**Latihan!**\n",
        "Mengganti data yang digunakan pada bagian implementasi"
      ]
    },
    {
      "cell_type": "code",
      "metadata": {
        "colab": {
          "base_uri": "https://localhost:8080/",
          "height": 203
        },
        "id": "rzo-mODgXE94",
        "outputId": "8f4730fb-6c44-4097-de7e-6f637578c65e"
      },
      "source": [
        "from matplotlib.colors import ListedColormap\n",
        "from sklearn import datasets\n",
        "from sklearn.model_selection import train_test_split\n",
        "\n",
        "data=pd.read_csv('https://raw.githubusercontent.com/GalangSuryaputra/Pedjoeang-Data-Sains/main/Iris.csv')\n",
        "data.head()"
      ],
      "execution_count": 26,
      "outputs": [
        {
          "output_type": "execute_result",
          "data": {
            "text/html": [
              "<div>\n",
              "<style scoped>\n",
              "    .dataframe tbody tr th:only-of-type {\n",
              "        vertical-align: middle;\n",
              "    }\n",
              "\n",
              "    .dataframe tbody tr th {\n",
              "        vertical-align: top;\n",
              "    }\n",
              "\n",
              "    .dataframe thead th {\n",
              "        text-align: right;\n",
              "    }\n",
              "</style>\n",
              "<table border=\"1\" class=\"dataframe\">\n",
              "  <thead>\n",
              "    <tr style=\"text-align: right;\">\n",
              "      <th></th>\n",
              "      <th>Id</th>\n",
              "      <th>SepalLengthCm</th>\n",
              "      <th>SepalWidthCm</th>\n",
              "      <th>PetalLengthCm</th>\n",
              "      <th>PetalWidthCm</th>\n",
              "      <th>Species</th>\n",
              "    </tr>\n",
              "  </thead>\n",
              "  <tbody>\n",
              "    <tr>\n",
              "      <th>0</th>\n",
              "      <td>1</td>\n",
              "      <td>5.1</td>\n",
              "      <td>3.5</td>\n",
              "      <td>1.4</td>\n",
              "      <td>0.2</td>\n",
              "      <td>Iris-setosa</td>\n",
              "    </tr>\n",
              "    <tr>\n",
              "      <th>1</th>\n",
              "      <td>2</td>\n",
              "      <td>4.9</td>\n",
              "      <td>3.0</td>\n",
              "      <td>1.4</td>\n",
              "      <td>0.2</td>\n",
              "      <td>Iris-setosa</td>\n",
              "    </tr>\n",
              "    <tr>\n",
              "      <th>2</th>\n",
              "      <td>3</td>\n",
              "      <td>4.7</td>\n",
              "      <td>3.2</td>\n",
              "      <td>1.3</td>\n",
              "      <td>0.2</td>\n",
              "      <td>Iris-setosa</td>\n",
              "    </tr>\n",
              "    <tr>\n",
              "      <th>3</th>\n",
              "      <td>4</td>\n",
              "      <td>4.6</td>\n",
              "      <td>3.1</td>\n",
              "      <td>1.5</td>\n",
              "      <td>0.2</td>\n",
              "      <td>Iris-setosa</td>\n",
              "    </tr>\n",
              "    <tr>\n",
              "      <th>4</th>\n",
              "      <td>5</td>\n",
              "      <td>5.0</td>\n",
              "      <td>3.6</td>\n",
              "      <td>1.4</td>\n",
              "      <td>0.2</td>\n",
              "      <td>Iris-setosa</td>\n",
              "    </tr>\n",
              "  </tbody>\n",
              "</table>\n",
              "</div>"
            ],
            "text/plain": [
              "   Id  SepalLengthCm  SepalWidthCm  PetalLengthCm  PetalWidthCm      Species\n",
              "0   1            5.1           3.5            1.4           0.2  Iris-setosa\n",
              "1   2            4.9           3.0            1.4           0.2  Iris-setosa\n",
              "2   3            4.7           3.2            1.3           0.2  Iris-setosa\n",
              "3   4            4.6           3.1            1.5           0.2  Iris-setosa\n",
              "4   5            5.0           3.6            1.4           0.2  Iris-setosa"
            ]
          },
          "metadata": {},
          "execution_count": 26
        }
      ]
    },
    {
      "cell_type": "code",
      "metadata": {
        "id": "BB7ptjfpXJ3f"
      },
      "source": [
        "X, y = iris.data, iris.target\n",
        "X_latih, X_uji, y_latih, y_uji = train_test_split(X, y, test_size=0.20, random_state=1234)"
      ],
      "execution_count": 27,
      "outputs": []
    },
    {
      "cell_type": "code",
      "metadata": {
        "id": "-K3qdXXWXOii"
      },
      "source": [
        "def _knn(x):\n",
        "    # Menghitung jarak antara x baru dengan semua sampel di data latih\n",
        "    jarak = [jarak_euclidean(x, x_latih) for x_latih in X_latih]\n",
        "    # Mengurutkan data dan mengambil sejumlah k objek\n",
        "    k_idx = np.argsort(jarak)[: k]\n",
        "    # Mengambil kelas dari k tetangga terdekat dari data latih\n",
        "    k_neighbor_labels = [y_latih[i] for i in k_idx]\n",
        "    # Mengambil kelas yang paling sering muncul\n",
        "    kelas_paling_banyak = Counter(k_neighbor_labels).most_common(1)\n",
        "    return kelas_paling_banyak[0][0]\n",
        " \n",
        "def KNN(X_latih, y_latih, k, x_baru):\n",
        "    y_pred= [_knn(x_i) for x_i in x_baru]\n",
        "    return np.array(y_pred)"
      ],
      "execution_count": 28,
      "outputs": []
    },
    {
      "cell_type": "code",
      "metadata": {
        "colab": {
          "base_uri": "https://localhost:8080/"
        },
        "id": "0phq2OVTXSap",
        "outputId": "8627bbb5-27a3-4d37-f7c1-22a63ebfe2a1"
      },
      "source": [
        "y_pred=KNN(X_latih, y_latih, k, X_uji)\n",
        "y_pred"
      ],
      "execution_count": 29,
      "outputs": [
        {
          "output_type": "execute_result",
          "data": {
            "text/plain": [
              "array([1, 1, 2, 0, 1, 0, 0, 0, 1, 2, 1, 0, 2, 1, 0, 1, 2, 0, 2, 1, 1, 1,\n",
              "       1, 1, 2, 0, 2, 1, 2, 0])"
            ]
          },
          "metadata": {},
          "execution_count": 29
        }
      ]
    },
    {
      "cell_type": "code",
      "metadata": {
        "colab": {
          "base_uri": "https://localhost:8080/"
        },
        "id": "OBtUJuiLXXNJ",
        "outputId": "fff1524a-0e83-4dda-93ca-a22e2a8afe7d"
      },
      "source": [
        "y_uji"
      ],
      "execution_count": 30,
      "outputs": [
        {
          "output_type": "execute_result",
          "data": {
            "text/plain": [
              "array([1, 1, 2, 0, 1, 0, 0, 0, 1, 2, 1, 0, 2, 1, 0, 1, 2, 0, 2, 1, 1, 1,\n",
              "       1, 1, 2, 0, 2, 1, 2, 0])"
            ]
          },
          "metadata": {},
          "execution_count": 30
        }
      ]
    },
    {
      "cell_type": "code",
      "metadata": {
        "id": "BwS2E-rtXbRv"
      },
      "source": [
        "def akurasi(y_asli, y_pred):\n",
        " akurasi = np.sum(y_asli == y_pred) / len(y_asli)\n",
        " return akurasi"
      ],
      "execution_count": 31,
      "outputs": []
    },
    {
      "cell_type": "code",
      "metadata": {
        "colab": {
          "base_uri": "https://localhost:8080/"
        },
        "id": "B3I75fu9Xer9",
        "outputId": "ea151128-1e85-43e2-ff7e-005cefcaae55"
      },
      "source": [
        "akurasi(y_uji , y_pred)"
      ],
      "execution_count": 32,
      "outputs": [
        {
          "output_type": "execute_result",
          "data": {
            "text/plain": [
              "1.0"
            ]
          },
          "metadata": {},
          "execution_count": 32
        }
      ]
    }
  ]
}