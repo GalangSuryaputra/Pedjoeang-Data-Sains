{
 "cells": [
  {
   "cell_type": "markdown",
   "metadata": {
    "id": "hA_leNGqZsSd"
   },
   "source": [
    "#**Pembuka**"
   ]
  },
  {
   "cell_type": "markdown",
   "metadata": {
    "id": "CiIZRkyxZsMo"
   },
   "source": [
    "Bismillahirrahmanirrahim\n",
    "\n",
    "Assalamu'alaikum warahmatullahi wabarakatuh"
   ]
  },
  {
   "cell_type": "markdown",
   "metadata": {
    "id": "qhCEanRZZ2_x"
   },
   "source": [
    "Puji syukur kehadirat Allah Subhana Wata'ala atas limpahan Rahmat dan Hidayah-Nya kepada kita semua. Sholawat serta salam senantiasa tercurah limpahkan kepada baginda Muhammad Rasulullah Salallahualaihiwassalam."
   ]
  },
  {
   "cell_type": "markdown",
   "metadata": {
    "id": "TKgDL3YgZ6r0"
   },
   "source": [
    "Halo para Pejuang Data. Selamat berjumpa di pertemuan pertama Program Training Algoritma Machine Learning Kelas Mahir. Pada model machine learning dibutuhkan variabel x atau disebut features dan variabel y yang disebut label. Kita dapat memodifikasi data teks yang kita miliki menjadi matriks yang terdiri atas variabel x dan y tersebut menggunakan beberapa model representasi teks yaitu:"
   ]
  },
  {
   "cell_type": "markdown",
   "metadata": {
    "id": "7leXwS1yZ9dd"
   },
   "source": [
    "\n",
    "1.   Bag-of-Words\n",
    "2.   TF-IDF\n",
    "\n"
   ]
  },
  {
   "cell_type": "markdown",
   "metadata": {
    "id": "9tQgk_qjaGwg"
   },
   "source": [
    "Namun sebelum ke sana, ada materi dasar dulu yang perlu dipahami sebelum membahas keduanya, yaitu Tokenisasi. Kamu akan mempelajari bagaimana sebuah teks yang dimiliki kita buat tokenisasi baru bisa diproses menjadi features baik itu Bag-of-Words maupun TF-IDF"
   ]
  },
  {
   "cell_type": "markdown",
   "metadata": {
    "id": "97aXDSlVaJZa"
   },
   "source": [
    "#**Tokenisasi**"
   ]
  },
  {
   "cell_type": "markdown",
   "metadata": {
    "id": "omRHLlEVaNr_"
   },
   "source": [
    "Tekonisasi adalah pemecahan serangkaian data teks ke dalam kepingan-kepingan baik kalimat maupun kata. Pemecahan data teks menjadi kalimat biasanya ditandai dengan tanda baca pemisah titik ('.'). Sedangkan untuk peecahan kalimat menjadi kata dapat dicontohkan sebagai berikut. Misalknya kalimat \"Ini baju saya\" akan menjadi\"Ini, baju, saya\"."
   ]
  },
  {
   "cell_type": "markdown",
   "metadata": {
    "id": "BmDuA5i7aQVz"
   },
   "source": [
    "##**Tokenisasi Kalimat**"
   ]
  },
  {
   "cell_type": "markdown",
   "metadata": {
    "id": "HA2ZkPoWaUzd"
   },
   "source": [
    "Kita akan mencoba memecah serangkaian data teks menjadi kalimat-kalimat. Kita dapat menggunakan function sent_tokenize dari libarary $nltk$ untuk melakukannya dengan tujuan kepraktisan."
   ]
  },
  {
   "cell_type": "code",
   "execution_count": 19,
   "metadata": {
    "colab": {
     "base_uri": "https://localhost:8080/"
    },
    "id": "7ohBxSfyaXMI",
    "outputId": "8053c5c0-5e35-462b-ff70-ff615b238fcb"
   },
   "outputs": [
    {
     "name": "stderr",
     "output_type": "stream",
     "text": [
      "[nltk_data] Downloading package punkt to\n",
      "[nltk_data]     C:\\Users\\asus\\AppData\\Roaming\\nltk_data...\n",
      "[nltk_data]   Package punkt is already up-to-date!\n"
     ]
    }
   ],
   "source": [
    "import nltk\n",
    "nltk.download('punkt')\n",
    "from nltk import sent_tokenize"
   ]
  },
  {
   "cell_type": "markdown",
   "metadata": {
    "id": "10neytLEaZ5h"
   },
   "source": [
    "Berikut adalah contoh paragraf yang akan kita gunakan pada notebook ini."
   ]
  },
  {
   "cell_type": "markdown",
   "metadata": {
    "id": "PIciJmX-ajTD"
   },
   "source": [
    "Kemudian akan kita tokenisasi menjadi kalimat-kalimat sebagai berikut:"
   ]
  },
  {
   "cell_type": "code",
   "execution_count": 20,
   "metadata": {
    "colab": {
     "base_uri": "https://localhost:8080/",
     "height": 199
    },
    "id": "UZc1KmeMgrzY",
    "outputId": "689e6f2d-5688-4b34-9a85-f90a46a1acb2"
   },
   "outputs": [
    {
     "data": {
      "text/plain": [
       "'\\nData science adalah topik diskusi yang sangat luas dan subyektif. Data science bukan sebuah bidang yang berdiri sendiri. Bidang ini merupakan kombinasi dari berbagai bidang termasuk Ilmu Komputer, Matematika, Statistik, dan Strategi Bisnis. Tiga komponen yang terlibat dalam data science adalah organising, packaging, dan delivering data (the OPD of data). Organising data adalah proses penyimpanan data yang digabungkan dengan menajemen data. Packaging data merupakan proses manipulasi dan penggabungan data mentah yang akan direpresentasikan. Delivering data merupakan proses untuk memastikan bahwa pesan data telah diakses oleh mereka yang memerlukannya. Menurut research tahun 2011, pada tahun 2020 dunia akan menghasilkan 50 kali lipat data dibandingkan tahun 2011. Jadi dengan peningkatan aliran data yang drastis tersebut, akan muncul alat-alat baru yang dapat digunakan untuk memanfaatkan data mentah dengan tepat. Data science mencakup semua alat, teknik, dan teknologi yang akan membantu kita menangani peningkatan aliran data tersebut. Data science merupakan perpaduan interdisipliner dari penurunan data, pengembanagan algotitma, dan teknologi untuk memecahkan masalah analitik yang kompleks.\\n'"
      ]
     },
     "execution_count": 20,
     "metadata": {},
     "output_type": "execute_result"
    }
   ],
   "source": [
    "paragraph = '''\n",
    "Data science adalah topik diskusi yang sangat luas dan subyektif. Data science bukan sebuah bidang yang berdiri sendiri. Bidang ini merupakan kombinasi dari berbagai bidang termasuk Ilmu Komputer, Matematika, Statistik, dan Strategi Bisnis. Tiga komponen yang terlibat dalam data science adalah organising, packaging, dan delivering data (the OPD of data). Organising data adalah proses penyimpanan data yang digabungkan dengan menajemen data. Packaging data merupakan proses manipulasi dan penggabungan data mentah yang akan direpresentasikan. Delivering data merupakan proses untuk memastikan bahwa pesan data telah diakses oleh mereka yang memerlukannya. Menurut research tahun 2011, pada tahun 2020 dunia akan menghasilkan 50 kali lipat data dibandingkan tahun 2011. Jadi dengan peningkatan aliran data yang drastis tersebut, akan muncul alat-alat baru yang dapat digunakan untuk memanfaatkan data mentah dengan tepat. Data science mencakup semua alat, teknik, dan teknologi yang akan membantu kita menangani peningkatan aliran data tersebut. Data science merupakan perpaduan interdisipliner dari penurunan data, pengembanagan algotitma, dan teknologi untuk memecahkan masalah analitik yang kompleks.\n",
    "'''\n",
    "paragraph"
   ]
  },
  {
   "cell_type": "code",
   "execution_count": 21,
   "metadata": {
    "colab": {
     "base_uri": "https://localhost:8080/"
    },
    "id": "3UASSVO9gx_2",
    "outputId": "98198560-ce25-423f-f4b7-5e03b4280750"
   },
   "outputs": [
    {
     "name": "stdout",
     "output_type": "stream",
     "text": [
      "['\\nData science adalah topik diskusi yang sangat luas dan subyektif.', 'Data science bukan sebuah bidang yang berdiri sendiri.', 'Bidang ini merupakan kombinasi dari berbagai bidang termasuk Ilmu Komputer, Matematika, Statistik, dan Strategi Bisnis.', 'Tiga komponen yang terlibat dalam data science adalah organising, packaging, dan delivering data (the OPD of data).', 'Organising data adalah proses penyimpanan data yang digabungkan dengan menajemen data.', 'Packaging data merupakan proses manipulasi dan penggabungan data mentah yang akan direpresentasikan.', 'Delivering data merupakan proses untuk memastikan bahwa pesan data telah diakses oleh mereka yang memerlukannya.', 'Menurut research tahun 2011, pada tahun 2020 dunia akan menghasilkan 50 kali lipat data dibandingkan tahun 2011.', 'Jadi dengan peningkatan aliran data yang drastis tersebut, akan muncul alat-alat baru yang dapat digunakan untuk memanfaatkan data mentah dengan tepat.', 'Data science mencakup semua alat, teknik, dan teknologi yang akan membantu kita menangani peningkatan aliran data tersebut.', 'Data science merupakan perpaduan interdisipliner dari penurunan data, pengembanagan algotitma, dan teknologi untuk memecahkan masalah analitik yang kompleks.']\n"
     ]
    }
   ],
   "source": [
    "tokenisasi_kalimat = sent_tokenize(paragraph)\n",
    "print(tokenisasi_kalimat)"
   ]
  },
  {
   "cell_type": "markdown",
   "metadata": {
    "id": "CTkYWf5maoWO"
   },
   "source": [
    "Menampilkan kalimat pertama:"
   ]
  },
  {
   "cell_type": "code",
   "execution_count": 22,
   "metadata": {
    "colab": {
     "base_uri": "https://localhost:8080/",
     "height": 35
    },
    "id": "1T7jRBQgasj-",
    "outputId": "e2b9bc53-e443-46c2-de11-17da51f1b076"
   },
   "outputs": [
    {
     "data": {
      "text/plain": [
       "'\\nData science adalah topik diskusi yang sangat luas dan subyektif.'"
      ]
     },
     "execution_count": 22,
     "metadata": {},
     "output_type": "execute_result"
    }
   ],
   "source": [
    "tokenisasi_kalimat[0]"
   ]
  },
  {
   "cell_type": "markdown",
   "metadata": {
    "id": "QN4TfyRXaoQF"
   },
   "source": [
    "##**Tokenisasi Kata-Kata**"
   ]
  },
  {
   "cell_type": "markdown",
   "metadata": {
    "id": "zCNZ8NWZay5f"
   },
   "source": [
    "Jika tokenisasi membagi sekumpulan text menjadi beberapa kalimat dengan pemisah titik, maka tokenisasi kata-kata adalah pemecah string berdasarkan spasi. Sehingga token yang dimaksud merupakan suatu kata pada sebuah kalimat. Untuk kepraktisan kita bisa menggunakan fungsi $word_tokenize$ dari library $nltk$ untuk melakukan hal ini"
   ]
  },
  {
   "cell_type": "code",
   "execution_count": 23,
   "metadata": {
    "id": "GxK993Wqa1UX"
   },
   "outputs": [],
   "source": [
    "import nltk\n",
    "from nltk import word_tokenize"
   ]
  },
  {
   "cell_type": "markdown",
   "metadata": {
    "id": "PV7M40kma3uC"
   },
   "source": [
    "Misal kita akan memecah teks berikuut menjadi tokenisasi kata-kata"
   ]
  },
  {
   "cell_type": "code",
   "execution_count": 24,
   "metadata": {
    "colab": {
     "base_uri": "https://localhost:8080/"
    },
    "id": "FjdOSh22a6IY",
    "outputId": "afb64aba-ede7-4a8e-f9a6-328eb2398fdc"
   },
   "outputs": [
    {
     "name": "stdout",
     "output_type": "stream",
     "text": [
      "['Assalamualaikum', 'dan', 'selamat', 'pagi', 'teman-teman']\n"
     ]
    }
   ],
   "source": [
    "teks = \"Assalamualaikum dan selamat pagi teman-teman\"\n",
    "tekonisasi = word_tokenize(teks)\n",
    "print(tekonisasi)"
   ]
  },
  {
   "cell_type": "markdown",
   "metadata": {
    "id": "AK7imFA4a8vl"
   },
   "source": [
    "#**Representasi Kata Menggunakan Matriks**"
   ]
  },
  {
   "cell_type": "markdown",
   "metadata": {
    "id": "ziFRJgYjbB8x"
   },
   "source": [
    "##**Bag Of Words**"
   ]
  },
  {
   "cell_type": "markdown",
   "metadata": {
    "id": "_MkoXTpqbHqM"
   },
   "source": [
    "Bag of word adalah metode untuk merepresentasikan kata-kata pada sebuah matriks untuk diolah pada metode NLP yang paling sederhana. Ide dasar dari metode ini adalah menghitung kemunculan sebuah kata pada sebuah kalimat tertentu. Misal dalam kalimat:\n"
   ]
  },
  {
   "cell_type": "markdown",
   "metadata": {
    "id": "1y842Q5jbOGz"
   },
   "source": [
    "'Selamat Pagi Matematika UAD'\n"
   ]
  },
  {
   "cell_type": "markdown",
   "metadata": {
    "id": "khIrkJ8jbSjF"
   },
   "source": [
    "Maka kata-kata yang akan muncul pada kalimat di atas adalah Selamat, Pagi, Matematika, dan UAD\n",
    "\n",
    "Representasi ini dilambangkan dengan angka 1 yang bermakna suatu kata muncul dan 0 jika suatu kata tidak muncul"
   ]
  },
  {
   "cell_type": "code",
   "execution_count": 25,
   "metadata": {
    "colab": {
     "base_uri": "https://localhost:8080/",
     "height": 112
    },
    "id": "wJvMNiMjbVc0",
    "outputId": "3aa8d0d6-d75e-4f04-e956-fc477469ba06"
   },
   "outputs": [
    {
     "data": {
      "text/html": [
       "<div>\n",
       "<style scoped>\n",
       "    .dataframe tbody tr th:only-of-type {\n",
       "        vertical-align: middle;\n",
       "    }\n",
       "\n",
       "    .dataframe tbody tr th {\n",
       "        vertical-align: top;\n",
       "    }\n",
       "\n",
       "    .dataframe thead th {\n",
       "        text-align: right;\n",
       "    }\n",
       "</style>\n",
       "<table border=\"1\" class=\"dataframe\">\n",
       "  <thead>\n",
       "    <tr style=\"text-align: right;\">\n",
       "      <th></th>\n",
       "      <th>Selamat</th>\n",
       "      <th>Pagi</th>\n",
       "      <th>Matematika</th>\n",
       "      <th>UAD</th>\n",
       "      <th>Indonesia</th>\n",
       "    </tr>\n",
       "  </thead>\n",
       "  <tbody>\n",
       "    <tr>\n",
       "      <td>Selamat Pagi Matematika UAD</td>\n",
       "      <td>1</td>\n",
       "      <td>1</td>\n",
       "      <td>1</td>\n",
       "      <td>1</td>\n",
       "      <td>0</td>\n",
       "    </tr>\n",
       "    <tr>\n",
       "      <td>Selamat Pagi Indonesia</td>\n",
       "      <td>1</td>\n",
       "      <td>1</td>\n",
       "      <td>0</td>\n",
       "      <td>0</td>\n",
       "      <td>1</td>\n",
       "    </tr>\n",
       "  </tbody>\n",
       "</table>\n",
       "</div>"
      ],
      "text/plain": [
       "                             Selamat  Pagi  Matematika  UAD  Indonesia\n",
       "Selamat Pagi Matematika UAD        1     1           1    1          0\n",
       "Selamat Pagi Indonesia             1     1           0    0          1"
      ]
     },
     "execution_count": 25,
     "metadata": {},
     "output_type": "execute_result"
    }
   ],
   "source": [
    "import pandas as pd\n",
    "df = pd.DataFrame({\"Selamat\":[1,1],\n",
    "                  \"Pagi\": [1,1],\n",
    "                  \"Matematika\":[1,0],\n",
    "                  \"UAD\":[1,0],\n",
    "                  \"Indonesia\": [0,1]}, index=['Selamat Pagi Matematika UAD', 'Selamat Pagi Indonesia'])\n",
    "df"
   ]
  },
  {
   "cell_type": "markdown",
   "metadata": {
    "id": "_Q0_iKjMbZgk"
   },
   "source": [
    "##**Membuat Matriks Bag-Of-Words from Scratch**"
   ]
  },
  {
   "cell_type": "markdown",
   "metadata": {
    "id": "1CeRi9PrbeDX"
   },
   "source": [
    "Import Modul yang diperlukan"
   ]
  },
  {
   "cell_type": "code",
   "execution_count": 26,
   "metadata": {
    "id": "zoeguQH5bgd2"
   },
   "outputs": [],
   "source": [
    "#Import modul yang diperlukan\n",
    "import pandas as pd\n",
    "import numpy as np\n",
    "from nltk.tokenize import word_tokenize"
   ]
  },
  {
   "cell_type": "markdown",
   "metadata": {
    "id": "cH8vG8rJbi8k"
   },
   "source": [
    "DataFrame Teks Input"
   ]
  },
  {
   "cell_type": "code",
   "execution_count": 27,
   "metadata": {
    "colab": {
     "base_uri": "https://localhost:8080/",
     "height": 112
    },
    "id": "zUs-MkeXblQs",
    "outputId": "415a1a4b-baef-4b6b-89ea-75b69d2ac51b"
   },
   "outputs": [
    {
     "data": {
      "text/html": [
       "<div>\n",
       "<style scoped>\n",
       "    .dataframe tbody tr th:only-of-type {\n",
       "        vertical-align: middle;\n",
       "    }\n",
       "\n",
       "    .dataframe tbody tr th {\n",
       "        vertical-align: top;\n",
       "    }\n",
       "\n",
       "    .dataframe thead th {\n",
       "        text-align: right;\n",
       "    }\n",
       "</style>\n",
       "<table border=\"1\" class=\"dataframe\">\n",
       "  <thead>\n",
       "    <tr style=\"text-align: right;\">\n",
       "      <th></th>\n",
       "      <th>Text</th>\n",
       "    </tr>\n",
       "  </thead>\n",
       "  <tbody>\n",
       "    <tr>\n",
       "      <td>0</td>\n",
       "      <td>Selamat Pagi Matematika UAD</td>\n",
       "    </tr>\n",
       "    <tr>\n",
       "      <td>1</td>\n",
       "      <td>Selamat Pagi Indonesia</td>\n",
       "    </tr>\n",
       "  </tbody>\n",
       "</table>\n",
       "</div>"
      ],
      "text/plain": [
       "                          Text\n",
       "0  Selamat Pagi Matematika UAD\n",
       "1       Selamat Pagi Indonesia"
      ]
     },
     "execution_count": 27,
     "metadata": {},
     "output_type": "execute_result"
    }
   ],
   "source": [
    "df_teks = pd.DataFrame({\"Text\": ['Selamat Pagi Matematika UAD', 'Selamat Pagi Indonesia']})\n",
    "df_teks"
   ]
  },
  {
   "cell_type": "markdown",
   "metadata": {
    "id": "sWjOEfMQbw_L"
   },
   "source": [
    "Membuat list kosa kata"
   ]
  },
  {
   "cell_type": "markdown",
   "metadata": {
    "id": "JzYhpMYkbw39"
   },
   "source": []
  },
  {
   "cell_type": "code",
   "execution_count": 28,
   "metadata": {
    "colab": {
     "base_uri": "https://localhost:8080/"
    },
    "id": "KMQRUvzmbuxM",
    "outputId": "a72347e7-c52b-4f4b-d1a8-5d98947eaa6b"
   },
   "outputs": [
    {
     "name": "stdout",
     "output_type": "stream",
     "text": [
      "{'matematika', 'uad', 'selamat', 'pagi'}\n",
      "{'selamat', 'matematika', 'uad', 'indonesia', 'pagi'}\n",
      "['indonesia', 'matematika', 'pagi', 'selamat', 'uad']\n",
      "5\n"
     ]
    }
   ],
   "source": [
    "kosa_kata = set()\n",
    "for i in df_teks.Text:\n",
    "    token_kal=set(word_tokenize(i.lower()))\n",
    "    kosa_kata=set.union(kosa_kata, token_kal)\n",
    "    print(kosa_kata)\n",
    "\n",
    "kosa_kata = sorted(kosa_kata)\n",
    "print(kosa_kata)\n",
    "\n",
    "# Jumlah kata-kata pada list vocab\n",
    "jumlah_kosa_kata = len(kosa_kata)\n",
    "print(jumlah_kosa_kata)"
   ]
  },
  {
   "cell_type": "markdown",
   "metadata": {
    "id": "FxvdndAVbzhW"
   },
   "source": [
    "Membuat dictionary kosa kata untuk membuat baris kosa kata"
   ]
  },
  {
   "cell_type": "code",
   "execution_count": 29,
   "metadata": {
    "colab": {
     "base_uri": "https://localhost:8080/"
    },
    "id": "xcucS7h8b2NM",
    "outputId": "4f198159-35f5-4f8e-a801-ed425656081f"
   },
   "outputs": [
    {
     "name": "stdout",
     "output_type": "stream",
     "text": [
      "{'indonesia': 0, 'matematika': 0, 'pagi': 0, 'selamat': 0, 'uad': 0}\n"
     ]
    }
   ],
   "source": [
    "indeks_kata = {}\n",
    "for kata in kosa_kata:\n",
    "    indeks_kata[kata]=0\n",
    "\n",
    "print(indeks_kata)"
   ]
  },
  {
   "cell_type": "markdown",
   "metadata": {
    "id": "OEvkmRGkb4tl"
   },
   "source": [
    "Membuat matriks kata"
   ]
  },
  {
   "cell_type": "code",
   "execution_count": 30,
   "metadata": {
    "colab": {
     "base_uri": "https://localhost:8080/"
    },
    "id": "GZnvcFk7b70k",
    "outputId": "17c1c7d9-e6de-4313-b802-762b9621c42b"
   },
   "outputs": [
    {
     "name": "stdout",
     "output_type": "stream",
     "text": [
      "Selamat Pagi Matematika UAD\n",
      "baris_kata {'indonesia': 0, 'matematika': 0, 'pagi': 0, 'selamat': 0, 'uad': 0}\n",
      "{'indonesia': 0, 'matematika': 0, 'pagi': 0, 'selamat': 1, 'uad': 0}\n",
      "{'indonesia': 0, 'matematika': 0, 'pagi': 1, 'selamat': 1, 'uad': 0}\n",
      "{'indonesia': 0, 'matematika': 1, 'pagi': 1, 'selamat': 1, 'uad': 0}\n",
      "{'indonesia': 0, 'matematika': 1, 'pagi': 1, 'selamat': 1, 'uad': 1}\n",
      "[0. 1. 1. 1. 1.]\n",
      "Selamat Pagi Indonesia\n",
      "baris_kata {'indonesia': 0, 'matematika': 0, 'pagi': 0, 'selamat': 0, 'uad': 0}\n",
      "{'indonesia': 0, 'matematika': 0, 'pagi': 0, 'selamat': 1, 'uad': 0}\n",
      "{'indonesia': 0, 'matematika': 0, 'pagi': 1, 'selamat': 1, 'uad': 0}\n",
      "{'indonesia': 1, 'matematika': 0, 'pagi': 1, 'selamat': 1, 'uad': 0}\n",
      "[0. 1. 1. 1. 1. 1. 0. 1. 1. 0.]\n"
     ]
    }
   ],
   "source": [
    "vektor_kata=np.array([])\n",
    "for baris_teks in df_teks.Text:\n",
    "    print(baris_teks)\n",
    "    baris_kata = indeks_kata.copy()\n",
    "    print('baris_kata', baris_kata)\n",
    "    for kata in baris_teks.lower().split():\n",
    "        baris_kata[kata]=+1\n",
    "        print(baris_kata)\n",
    "    baris_kata = np.array(list(baris_kata.values()))\n",
    "    vektor_kata = np.concatenate((vektor_kata, baris_kata), axis=0)\n",
    "    print(vektor_kata)\n",
    "\n",
    "matriks_kata = vektor_kata.reshape(df.shape[0], jumlah_kosa_kata)"
   ]
  },
  {
   "cell_type": "code",
   "execution_count": 31,
   "metadata": {
    "colab": {
     "base_uri": "https://localhost:8080/"
    },
    "id": "ZdBdYomlcAUl",
    "outputId": "7ebf827d-2320-4a3f-d548-906eaefc9972"
   },
   "outputs": [
    {
     "name": "stdout",
     "output_type": "stream",
     "text": [
      "[[0. 1. 1. 1. 1.]\n",
      " [1. 0. 1. 1. 0.]]\n"
     ]
    }
   ],
   "source": [
    "print(matriks_kata)"
   ]
  },
  {
   "cell_type": "markdown",
   "metadata": {
    "id": "Mv8unTykcC31"
   },
   "source": [
    "Membuat DataFrame Bag Of Words"
   ]
  },
  {
   "cell_type": "code",
   "execution_count": 32,
   "metadata": {
    "colab": {
     "base_uri": "https://localhost:8080/",
     "height": 112
    },
    "id": "2i5U8_3WcJx5",
    "outputId": "32bac163-977c-4311-c8a9-690dd4963747"
   },
   "outputs": [
    {
     "data": {
      "text/html": [
       "<div>\n",
       "<style scoped>\n",
       "    .dataframe tbody tr th:only-of-type {\n",
       "        vertical-align: middle;\n",
       "    }\n",
       "\n",
       "    .dataframe tbody tr th {\n",
       "        vertical-align: top;\n",
       "    }\n",
       "\n",
       "    .dataframe thead th {\n",
       "        text-align: right;\n",
       "    }\n",
       "</style>\n",
       "<table border=\"1\" class=\"dataframe\">\n",
       "  <thead>\n",
       "    <tr style=\"text-align: right;\">\n",
       "      <th></th>\n",
       "      <th>indonesia</th>\n",
       "      <th>matematika</th>\n",
       "      <th>pagi</th>\n",
       "      <th>selamat</th>\n",
       "      <th>uad</th>\n",
       "    </tr>\n",
       "  </thead>\n",
       "  <tbody>\n",
       "    <tr>\n",
       "      <td>Selamat Pagi Matematika UAD</td>\n",
       "      <td>0</td>\n",
       "      <td>1</td>\n",
       "      <td>1</td>\n",
       "      <td>1</td>\n",
       "      <td>1</td>\n",
       "    </tr>\n",
       "    <tr>\n",
       "      <td>Selamat Pagi Indonesia</td>\n",
       "      <td>1</td>\n",
       "      <td>0</td>\n",
       "      <td>1</td>\n",
       "      <td>1</td>\n",
       "      <td>0</td>\n",
       "    </tr>\n",
       "  </tbody>\n",
       "</table>\n",
       "</div>"
      ],
      "text/plain": [
       "                             indonesia  matematika  pagi  selamat  uad\n",
       "Selamat Pagi Matematika UAD          0           1     1        1    1\n",
       "Selamat Pagi Indonesia               1           0     1        1    0"
      ]
     },
     "execution_count": 32,
     "metadata": {},
     "output_type": "execute_result"
    }
   ],
   "source": [
    "df_BoW = pd.DataFrame(matriks_kata, columns = kosa_kata, index = df_teks.Text.tolist())\n",
    "df_BoW = df_BoW.astype('int')\n",
    "df_BoW"
   ]
  },
  {
   "cell_type": "markdown",
   "metadata": {
    "id": "asEqXDAJcMft"
   },
   "source": [
    "**Membuat Fungsi Bag_Of_Words()**"
   ]
  },
  {
   "cell_type": "code",
   "execution_count": 33,
   "metadata": {
    "id": "_R1Yde16cRdD"
   },
   "outputs": [],
   "source": [
    "# Import Modul yang diperlukan\n",
    "import pandas as pd\n",
    "import numpy as np\n",
    "from nltk.tokenize import word_tokenize\n",
    "\n",
    "def Bag_Of_Words(df_teks):\n",
    "    # Membuat list kosa kata dari seluruh teks input\n",
    "    kosa_kata = set()\n",
    "    for i in df_teks.Text:\n",
    "        token_kal = set(word_tokenize(i.lower()))\n",
    "        kosa_kata=set.union(kosa_kata, token_kal)\n",
    "    kosa_kata = sorted(kosa_kata)\n",
    "    \n",
    "    # Membuat dicionary kata-kata\n",
    "    indeks_kata = {}\n",
    "    for kata in kosa_kata:\n",
    "        indeks_kata[kata]=0\n",
    "    \n",
    "    # Jumlah kosa kata (untuk kolom)\n",
    "    jumlah_kosa_kata = len(kosa_kata)\n",
    "    \n",
    "    # Membangun matriks kata\n",
    "    vektor_kata=np.array([])\n",
    "    for baris_teks in df_teks.Text:\n",
    "        baris_kata = indeks_kata.copy()\n",
    "        for kata in baris_teks.lower().split():\n",
    "            baris_kata[kata]=+1\n",
    "        baris_kata = np.array(list(baris_kata.values()))\n",
    "        vektor_kata = np.concatenate((vektor_kata, baris_kata), axis=0)\n",
    "    matriks_kata = vektor_kata.reshape(df_teks.shape[0], jumlah_kosa_kata)\n",
    "    df_bow = pd.DataFrame(matriks_kata, columns=kosa_kata, index=df_teks.Text.tolist())\n",
    "    df_bow = df_bow.astype('int')\n",
    "    return df_bow"
   ]
  },
  {
   "cell_type": "markdown",
   "metadata": {
    "id": "yPS5WAUmcUR9"
   },
   "source": [
    "**Contoh Implementasi Fungsi Bag_Of_Words()**"
   ]
  },
  {
   "cell_type": "code",
   "execution_count": 35,
   "metadata": {
    "colab": {
     "base_uri": "https://localhost:8080/",
     "height": 595
    },
    "id": "yjg3SGacmZh6",
    "outputId": "9a826eb8-06bc-4afa-fade-64a8cc6de5dc"
   },
   "outputs": [
    {
     "data": {
      "text/html": [
       "<div>\n",
       "<style scoped>\n",
       "    .dataframe tbody tr th:only-of-type {\n",
       "        vertical-align: middle;\n",
       "    }\n",
       "\n",
       "    .dataframe tbody tr th {\n",
       "        vertical-align: top;\n",
       "    }\n",
       "\n",
       "    .dataframe thead th {\n",
       "        text-align: right;\n",
       "    }\n",
       "</style>\n",
       "<table border=\"1\" class=\"dataframe\">\n",
       "  <thead>\n",
       "    <tr style=\"text-align: right;\">\n",
       "      <th></th>\n",
       "      <th>Id</th>\n",
       "      <th>Sentiment</th>\n",
       "      <th>Pasangan Calon</th>\n",
       "      <th>Text Tweet</th>\n",
       "      <th>content_processed</th>\n",
       "    </tr>\n",
       "  </thead>\n",
       "  <tbody>\n",
       "    <tr>\n",
       "      <td>0</td>\n",
       "      <td>1</td>\n",
       "      <td>negative</td>\n",
       "      <td>Agus-Sylvi</td>\n",
       "      <td>Banyak akun kloning seolah2 pendukung # agussi...</td>\n",
       "      <td>akun kloning dukung agussilvy serang paslon an...</td>\n",
       "    </tr>\n",
       "    <tr>\n",
       "      <td>1</td>\n",
       "      <td>2</td>\n",
       "      <td>negative</td>\n",
       "      <td>Agus-Sylvi</td>\n",
       "      <td>#agussilvy bicara apa kasihan yaa...lap itu ai...</td>\n",
       "      <td>agussilvy bicara kasihan lap air mata wkwkwkwk</td>\n",
       "    </tr>\n",
       "    <tr>\n",
       "      <td>2</td>\n",
       "      <td>3</td>\n",
       "      <td>negative</td>\n",
       "      <td>Agus-Sylvi</td>\n",
       "      <td>Kalau aku sih gak nunggu hasil akhir QC tp lag...</td>\n",
       "      <td>enggak memenunggu qc memenunggu motif cuit sby...</td>\n",
       "    </tr>\n",
       "    <tr>\n",
       "      <td>3</td>\n",
       "      <td>4</td>\n",
       "      <td>negative</td>\n",
       "      <td>Agus-Sylvi</td>\n",
       "      <td>Kasian oh kasian dengan peluru 1milyar untuk t...</td>\n",
       "      <td>kasihh oh kasihh peluru rw agussilvy mempan me...</td>\n",
       "    </tr>\n",
       "    <tr>\n",
       "      <td>4</td>\n",
       "      <td>5</td>\n",
       "      <td>negative</td>\n",
       "      <td>Agus-Sylvi</td>\n",
       "      <td>Maaf ya pendukung #AgusSilvy..hayo dukung #Ani...</td>\n",
       "      <td>dukung agussilvy hayo dukung aniessandi putar ...</td>\n",
       "    </tr>\n",
       "    <tr>\n",
       "      <td>...</td>\n",
       "      <td>...</td>\n",
       "      <td>...</td>\n",
       "      <td>...</td>\n",
       "      <td>...</td>\n",
       "      <td>...</td>\n",
       "    </tr>\n",
       "    <tr>\n",
       "      <td>895</td>\n",
       "      <td>896</td>\n",
       "      <td>positive</td>\n",
       "      <td>Anies-Sandi</td>\n",
       "      <td>Kali saja bpk @aniesbaswedan @sandiuno lihat, ...</td>\n",
       "      <td>bpk aniesbaswedan sandiuno lihat rspun selfie ...</td>\n",
       "    </tr>\n",
       "    <tr>\n",
       "      <td>896</td>\n",
       "      <td>897</td>\n",
       "      <td>positive</td>\n",
       "      <td>Anies-Sandi</td>\n",
       "      <td>Kita harus dapat merangkul semua orang tanpa b...</td>\n",
       "      <td>rangkul batas usia kelamin okeoce ok hand sala...</td>\n",
       "    </tr>\n",
       "    <tr>\n",
       "      <td>897</td>\n",
       "      <td>898</td>\n",
       "      <td>positive</td>\n",
       "      <td>Anies-Sandi</td>\n",
       "      <td>Ini jagoanku dibidang digital &lt;Smiling Face Wi...</td>\n",
       "      <td>jago bidang digital smiling face with sunglass...</td>\n",
       "    </tr>\n",
       "    <tr>\n",
       "      <td>898</td>\n",
       "      <td>899</td>\n",
       "      <td>positive</td>\n",
       "      <td>Anies-Sandi</td>\n",
       "      <td>#PesanBijak #OkeOce #GubernurGu3 ...</td>\n",
       "      <td>pesanbijak okeoce</td>\n",
       "    </tr>\n",
       "    <tr>\n",
       "      <td>899</td>\n",
       "      <td>900</td>\n",
       "      <td>positive</td>\n",
       "      <td>Anies-Sandi</td>\n",
       "      <td>Sandiaga: Bangun Rumah DP  Lebih Simpel Diband...</td>\n",
       "      <td>sandiaga bangun rumah dp simpel banding tol ci...</td>\n",
       "    </tr>\n",
       "  </tbody>\n",
       "</table>\n",
       "<p>900 rows × 5 columns</p>\n",
       "</div>"
      ],
      "text/plain": [
       "      Id Sentiment Pasangan Calon  \\\n",
       "0      1  negative     Agus-Sylvi   \n",
       "1      2  negative     Agus-Sylvi   \n",
       "2      3  negative     Agus-Sylvi   \n",
       "3      4  negative     Agus-Sylvi   \n",
       "4      5  negative     Agus-Sylvi   \n",
       "..   ...       ...            ...   \n",
       "895  896  positive    Anies-Sandi   \n",
       "896  897  positive    Anies-Sandi   \n",
       "897  898  positive    Anies-Sandi   \n",
       "898  899  positive    Anies-Sandi   \n",
       "899  900  positive    Anies-Sandi   \n",
       "\n",
       "                                            Text Tweet  \\\n",
       "0    Banyak akun kloning seolah2 pendukung # agussi...   \n",
       "1    #agussilvy bicara apa kasihan yaa...lap itu ai...   \n",
       "2    Kalau aku sih gak nunggu hasil akhir QC tp lag...   \n",
       "3    Kasian oh kasian dengan peluru 1milyar untuk t...   \n",
       "4    Maaf ya pendukung #AgusSilvy..hayo dukung #Ani...   \n",
       "..                                                 ...   \n",
       "895  Kali saja bpk @aniesbaswedan @sandiuno lihat, ...   \n",
       "896  Kita harus dapat merangkul semua orang tanpa b...   \n",
       "897  Ini jagoanku dibidang digital <Smiling Face Wi...   \n",
       "898               #PesanBijak #OkeOce #GubernurGu3 ...   \n",
       "899  Sandiaga: Bangun Rumah DP  Lebih Simpel Diband...   \n",
       "\n",
       "                                     content_processed  \n",
       "0    akun kloning dukung agussilvy serang paslon an...  \n",
       "1       agussilvy bicara kasihan lap air mata wkwkwkwk  \n",
       "2    enggak memenunggu qc memenunggu motif cuit sby...  \n",
       "3    kasihh oh kasihh peluru rw agussilvy mempan me...  \n",
       "4    dukung agussilvy hayo dukung aniessandi putar ...  \n",
       "..                                                 ...  \n",
       "895  bpk aniesbaswedan sandiuno lihat rspun selfie ...  \n",
       "896  rangkul batas usia kelamin okeoce ok hand sala...  \n",
       "897  jago bidang digital smiling face with sunglass...  \n",
       "898                                  pesanbijak okeoce  \n",
       "899  sandiaga bangun rumah dp simpel banding tol ci...  \n",
       "\n",
       "[900 rows x 5 columns]"
      ]
     },
     "execution_count": 35,
     "metadata": {},
     "output_type": "execute_result"
    }
   ],
   "source": [
    "import pandas as pd\n",
    "df = pd.read_csv('Pilkada_DKI.csv')\n",
    "df"
   ]
  },
  {
   "cell_type": "code",
   "execution_count": 36,
   "metadata": {
    "colab": {
     "base_uri": "https://localhost:8080/",
     "height": 422
    },
    "id": "H6n4HnN_u0rD",
    "outputId": "bba9b575-5bcf-432f-97e4-641a131ec5b3"
   },
   "outputs": [
    {
     "data": {
      "text/html": [
       "<div>\n",
       "<style scoped>\n",
       "    .dataframe tbody tr th:only-of-type {\n",
       "        vertical-align: middle;\n",
       "    }\n",
       "\n",
       "    .dataframe tbody tr th {\n",
       "        vertical-align: top;\n",
       "    }\n",
       "\n",
       "    .dataframe thead th {\n",
       "        text-align: right;\n",
       "    }\n",
       "</style>\n",
       "<table border=\"1\" class=\"dataframe\">\n",
       "  <thead>\n",
       "    <tr style=\"text-align: right;\">\n",
       "      <th></th>\n",
       "      <th>content_processed</th>\n",
       "    </tr>\n",
       "  </thead>\n",
       "  <tbody>\n",
       "    <tr>\n",
       "      <td>0</td>\n",
       "      <td>akun kloning dukung agussilvy serang paslon an...</td>\n",
       "    </tr>\n",
       "    <tr>\n",
       "      <td>1</td>\n",
       "      <td>agussilvy bicara kasihan lap air mata wkwkwkwk</td>\n",
       "    </tr>\n",
       "    <tr>\n",
       "      <td>2</td>\n",
       "      <td>enggak memenunggu qc memenunggu motif cuit sby...</td>\n",
       "    </tr>\n",
       "    <tr>\n",
       "      <td>3</td>\n",
       "      <td>kasihh oh kasihh peluru rw agussilvy mempan me...</td>\n",
       "    </tr>\n",
       "    <tr>\n",
       "      <td>4</td>\n",
       "      <td>dukung agussilvy hayo dukung aniessandi putar ...</td>\n",
       "    </tr>\n",
       "    <tr>\n",
       "      <td>...</td>\n",
       "      <td>...</td>\n",
       "    </tr>\n",
       "    <tr>\n",
       "      <td>895</td>\n",
       "      <td>bpk aniesbaswedan sandiuno lihat rspun selfie ...</td>\n",
       "    </tr>\n",
       "    <tr>\n",
       "      <td>896</td>\n",
       "      <td>rangkul batas usia kelamin okeoce ok hand sala...</td>\n",
       "    </tr>\n",
       "    <tr>\n",
       "      <td>897</td>\n",
       "      <td>jago bidang digital smiling face with sunglass...</td>\n",
       "    </tr>\n",
       "    <tr>\n",
       "      <td>898</td>\n",
       "      <td>pesanbijak okeoce</td>\n",
       "    </tr>\n",
       "    <tr>\n",
       "      <td>899</td>\n",
       "      <td>sandiaga bangun rumah dp simpel banding tol ci...</td>\n",
       "    </tr>\n",
       "  </tbody>\n",
       "</table>\n",
       "<p>900 rows × 1 columns</p>\n",
       "</div>"
      ],
      "text/plain": [
       "                                     content_processed\n",
       "0    akun kloning dukung agussilvy serang paslon an...\n",
       "1       agussilvy bicara kasihan lap air mata wkwkwkwk\n",
       "2    enggak memenunggu qc memenunggu motif cuit sby...\n",
       "3    kasihh oh kasihh peluru rw agussilvy mempan me...\n",
       "4    dukung agussilvy hayo dukung aniessandi putar ...\n",
       "..                                                 ...\n",
       "895  bpk aniesbaswedan sandiuno lihat rspun selfie ...\n",
       "896  rangkul batas usia kelamin okeoce ok hand sala...\n",
       "897  jago bidang digital smiling face with sunglass...\n",
       "898                                  pesanbijak okeoce\n",
       "899  sandiaga bangun rumah dp simpel banding tol ci...\n",
       "\n",
       "[900 rows x 1 columns]"
      ]
     },
     "execution_count": 36,
     "metadata": {},
     "output_type": "execute_result"
    }
   ],
   "source": [
    "df_teks = pd.DataFrame(df['content_processed'])\n",
    "df_teks"
   ]
  },
  {
   "cell_type": "code",
   "execution_count": 37,
   "metadata": {
    "id": "THGPNSeecd7V"
   },
   "outputs": [],
   "source": [
    "# Import Modul yang diperlukan\n",
    "import pandas as pd\n",
    "import numpy as np\n",
    "from nltk.tokenize import word_tokenize\n",
    "\n",
    "def Bag_Of_Words(df_teks):\n",
    "    # Membuat list kosa kata dari seluruh teks input\n",
    "    kosa_kata = set()\n",
    "    for i in df_teks.content_processed:\n",
    "        token_kal = set(word_tokenize(i.lower()))\n",
    "        kosa_kata=set.union(kosa_kata, token_kal)\n",
    "    kosa_kata = sorted(kosa_kata)\n",
    "    # Membuat dicionary kata-kata\n",
    "    indeks_kata = {}\n",
    "    for kata in kosa_kata:\n",
    "        indeks_kata[kata]=0\n",
    "    # Jumlah kosa kata (untuk kolom)\n",
    "    jumlah_kosa_kata = len(kosa_kata)\n",
    "    # Membangun matriks kata\n",
    "    vektor_kata=np.array([])\n",
    "    for baris_teks in df_teks.content_processed:\n",
    "        baris_kata = indeks_kata.copy()\n",
    "        for kata in baris_teks.lower().split():\n",
    "            baris_kata[kata]=+1\n",
    "        baris_kata = np.array(list(baris_kata.values()))\n",
    "        vektor_kata = np.concatenate((vektor_kata, baris_kata), axis=0)\n",
    "    matriks_kata = vektor_kata.reshape(df_teks.shape[0], jumlah_kosa_kata)\n",
    "    df_bow = pd.DataFrame(matriks_kata, columns=kosa_kata, index=df_teks.content_processed.tolist())\n",
    "    df_bow = df_bow.astype('int')\n",
    "    return df_bow"
   ]
  },
  {
   "cell_type": "code",
   "execution_count": 38,
   "metadata": {
    "colab": {
     "base_uri": "https://localhost:8080/",
     "height": 995
    },
    "id": "Lu-B7SFNcgeA",
    "outputId": "09996f9e-cd96-48c3-ad76-13435637a8f6"
   },
   "outputs": [
    {
     "data": {
      "text/html": [
       "<div>\n",
       "<style scoped>\n",
       "    .dataframe tbody tr th:only-of-type {\n",
       "        vertical-align: middle;\n",
       "    }\n",
       "\n",
       "    .dataframe tbody tr th {\n",
       "        vertical-align: top;\n",
       "    }\n",
       "\n",
       "    .dataframe thead th {\n",
       "        text-align: right;\n",
       "    }\n",
       "</style>\n",
       "<table border=\"1\" class=\"dataframe\">\n",
       "  <thead>\n",
       "    <tr style=\"text-align: right;\">\n",
       "      <th></th>\n",
       "      <th>a</th>\n",
       "      <th>aa</th>\n",
       "      <th>aagym</th>\n",
       "      <th>abaaah</th>\n",
       "      <th>abal</th>\n",
       "      <th>abang</th>\n",
       "      <th>abdi</th>\n",
       "      <th>absurd</th>\n",
       "      <th>abunawas</th>\n",
       "      <th>aburizal</th>\n",
       "      <th>...</th>\n",
       "      <th>yra</th>\n",
       "      <th>yudhoyono</th>\n",
       "      <th>yuk</th>\n",
       "      <th>yusuf</th>\n",
       "      <th>zalim</th>\n",
       "      <th>zaraz</th>\n",
       "      <th>zarazettirazr</th>\n",
       "      <th>zarazettirazz</th>\n",
       "      <th>zipper</th>\n",
       "      <th>zona</th>\n",
       "    </tr>\n",
       "  </thead>\n",
       "  <tbody>\n",
       "    <tr>\n",
       "      <td>akun kloning dukung agussilvy serang paslon aniessandi opini argumen pmbenaran kecoh</td>\n",
       "      <td>0</td>\n",
       "      <td>0</td>\n",
       "      <td>0</td>\n",
       "      <td>0</td>\n",
       "      <td>0</td>\n",
       "      <td>0</td>\n",
       "      <td>0</td>\n",
       "      <td>0</td>\n",
       "      <td>0</td>\n",
       "      <td>0</td>\n",
       "      <td>...</td>\n",
       "      <td>0</td>\n",
       "      <td>0</td>\n",
       "      <td>0</td>\n",
       "      <td>0</td>\n",
       "      <td>0</td>\n",
       "      <td>0</td>\n",
       "      <td>0</td>\n",
       "      <td>0</td>\n",
       "      <td>0</td>\n",
       "      <td>0</td>\n",
       "    </tr>\n",
       "    <tr>\n",
       "      <td>agussilvy bicara kasihan lap air mata wkwkwkwk</td>\n",
       "      <td>0</td>\n",
       "      <td>0</td>\n",
       "      <td>0</td>\n",
       "      <td>0</td>\n",
       "      <td>0</td>\n",
       "      <td>0</td>\n",
       "      <td>0</td>\n",
       "      <td>0</td>\n",
       "      <td>0</td>\n",
       "      <td>0</td>\n",
       "      <td>...</td>\n",
       "      <td>0</td>\n",
       "      <td>0</td>\n",
       "      <td>0</td>\n",
       "      <td>0</td>\n",
       "      <td>0</td>\n",
       "      <td>0</td>\n",
       "      <td>0</td>\n",
       "      <td>0</td>\n",
       "      <td>0</td>\n",
       "      <td>0</td>\n",
       "    </tr>\n",
       "    <tr>\n",
       "      <td>enggak memenunggu qc memenunggu motif cuit sbyudhoyono pasca agussilvy nyungsep</td>\n",
       "      <td>0</td>\n",
       "      <td>0</td>\n",
       "      <td>0</td>\n",
       "      <td>0</td>\n",
       "      <td>0</td>\n",
       "      <td>0</td>\n",
       "      <td>0</td>\n",
       "      <td>0</td>\n",
       "      <td>0</td>\n",
       "      <td>0</td>\n",
       "      <td>...</td>\n",
       "      <td>0</td>\n",
       "      <td>0</td>\n",
       "      <td>0</td>\n",
       "      <td>0</td>\n",
       "      <td>0</td>\n",
       "      <td>0</td>\n",
       "      <td>0</td>\n",
       "      <td>0</td>\n",
       "      <td>0</td>\n",
       "      <td>0</td>\n",
       "    </tr>\n",
       "    <tr>\n",
       "      <td>kasihh oh kasihh peluru rw agussilvy mempan menangin pilkada quickcount</td>\n",
       "      <td>0</td>\n",
       "      <td>0</td>\n",
       "      <td>0</td>\n",
       "      <td>0</td>\n",
       "      <td>0</td>\n",
       "      <td>0</td>\n",
       "      <td>0</td>\n",
       "      <td>0</td>\n",
       "      <td>0</td>\n",
       "      <td>0</td>\n",
       "      <td>...</td>\n",
       "      <td>0</td>\n",
       "      <td>0</td>\n",
       "      <td>0</td>\n",
       "      <td>0</td>\n",
       "      <td>0</td>\n",
       "      <td>0</td>\n",
       "      <td>0</td>\n",
       "      <td>0</td>\n",
       "      <td>0</td>\n",
       "      <td>0</td>\n",
       "    </tr>\n",
       "    <tr>\n",
       "      <td>dukung agussilvy hayo dukung aniessandi putar ronavioleta netizentofa</td>\n",
       "      <td>0</td>\n",
       "      <td>0</td>\n",
       "      <td>0</td>\n",
       "      <td>0</td>\n",
       "      <td>0</td>\n",
       "      <td>0</td>\n",
       "      <td>0</td>\n",
       "      <td>0</td>\n",
       "      <td>0</td>\n",
       "      <td>0</td>\n",
       "      <td>...</td>\n",
       "      <td>0</td>\n",
       "      <td>0</td>\n",
       "      <td>0</td>\n",
       "      <td>0</td>\n",
       "      <td>0</td>\n",
       "      <td>0</td>\n",
       "      <td>0</td>\n",
       "      <td>0</td>\n",
       "      <td>0</td>\n",
       "      <td>0</td>\n",
       "    </tr>\n",
       "    <tr>\n",
       "      <td>...</td>\n",
       "      <td>...</td>\n",
       "      <td>...</td>\n",
       "      <td>...</td>\n",
       "      <td>...</td>\n",
       "      <td>...</td>\n",
       "      <td>...</td>\n",
       "      <td>...</td>\n",
       "      <td>...</td>\n",
       "      <td>...</td>\n",
       "      <td>...</td>\n",
       "      <td>...</td>\n",
       "      <td>...</td>\n",
       "      <td>...</td>\n",
       "      <td>...</td>\n",
       "      <td>...</td>\n",
       "      <td>...</td>\n",
       "      <td>...</td>\n",
       "      <td>...</td>\n",
       "      <td>...</td>\n",
       "      <td>...</td>\n",
       "      <td>...</td>\n",
       "    </tr>\n",
       "    <tr>\n",
       "      <td>bpk aniesbaswedan sandiuno lihat rspun selfie okeoce ok hand debatpilkadadki ahokpanikahokkalah</td>\n",
       "      <td>0</td>\n",
       "      <td>0</td>\n",
       "      <td>0</td>\n",
       "      <td>0</td>\n",
       "      <td>0</td>\n",
       "      <td>0</td>\n",
       "      <td>0</td>\n",
       "      <td>0</td>\n",
       "      <td>0</td>\n",
       "      <td>0</td>\n",
       "      <td>...</td>\n",
       "      <td>0</td>\n",
       "      <td>0</td>\n",
       "      <td>0</td>\n",
       "      <td>0</td>\n",
       "      <td>0</td>\n",
       "      <td>0</td>\n",
       "      <td>0</td>\n",
       "      <td>0</td>\n",
       "      <td>0</td>\n",
       "      <td>0</td>\n",
       "    </tr>\n",
       "    <tr>\n",
       "      <td>rangkul batas usia kelamin okeoce ok hand salambersama pks temanahok victory hand</td>\n",
       "      <td>0</td>\n",
       "      <td>0</td>\n",
       "      <td>0</td>\n",
       "      <td>0</td>\n",
       "      <td>0</td>\n",
       "      <td>0</td>\n",
       "      <td>0</td>\n",
       "      <td>0</td>\n",
       "      <td>0</td>\n",
       "      <td>0</td>\n",
       "      <td>...</td>\n",
       "      <td>0</td>\n",
       "      <td>0</td>\n",
       "      <td>0</td>\n",
       "      <td>0</td>\n",
       "      <td>0</td>\n",
       "      <td>0</td>\n",
       "      <td>0</td>\n",
       "      <td>0</td>\n",
       "      <td>0</td>\n",
       "      <td>0</td>\n",
       "    </tr>\n",
       "    <tr>\n",
       "      <td>jago bidang digital smiling face with sunglasses ok hand thonyleong okeoce salambersama</td>\n",
       "      <td>0</td>\n",
       "      <td>0</td>\n",
       "      <td>0</td>\n",
       "      <td>0</td>\n",
       "      <td>0</td>\n",
       "      <td>0</td>\n",
       "      <td>0</td>\n",
       "      <td>0</td>\n",
       "      <td>0</td>\n",
       "      <td>0</td>\n",
       "      <td>...</td>\n",
       "      <td>0</td>\n",
       "      <td>0</td>\n",
       "      <td>0</td>\n",
       "      <td>0</td>\n",
       "      <td>0</td>\n",
       "      <td>0</td>\n",
       "      <td>0</td>\n",
       "      <td>0</td>\n",
       "      <td>0</td>\n",
       "      <td>0</td>\n",
       "    </tr>\n",
       "    <tr>\n",
       "      <td>pesanbijak okeoce</td>\n",
       "      <td>0</td>\n",
       "      <td>0</td>\n",
       "      <td>0</td>\n",
       "      <td>0</td>\n",
       "      <td>0</td>\n",
       "      <td>0</td>\n",
       "      <td>0</td>\n",
       "      <td>0</td>\n",
       "      <td>0</td>\n",
       "      <td>0</td>\n",
       "      <td>...</td>\n",
       "      <td>0</td>\n",
       "      <td>0</td>\n",
       "      <td>0</td>\n",
       "      <td>0</td>\n",
       "      <td>0</td>\n",
       "      <td>0</td>\n",
       "      <td>0</td>\n",
       "      <td>0</td>\n",
       "      <td>0</td>\n",
       "      <td>0</td>\n",
       "    </tr>\n",
       "    <tr>\n",
       "      <td>sandiaga bangun rumah dp simpel banding tol cipali aniessandijawarajakarta okeoce</td>\n",
       "      <td>0</td>\n",
       "      <td>0</td>\n",
       "      <td>0</td>\n",
       "      <td>0</td>\n",
       "      <td>0</td>\n",
       "      <td>0</td>\n",
       "      <td>0</td>\n",
       "      <td>0</td>\n",
       "      <td>0</td>\n",
       "      <td>0</td>\n",
       "      <td>...</td>\n",
       "      <td>0</td>\n",
       "      <td>0</td>\n",
       "      <td>0</td>\n",
       "      <td>0</td>\n",
       "      <td>0</td>\n",
       "      <td>0</td>\n",
       "      <td>0</td>\n",
       "      <td>0</td>\n",
       "      <td>0</td>\n",
       "      <td>0</td>\n",
       "    </tr>\n",
       "  </tbody>\n",
       "</table>\n",
       "<p>900 rows × 2458 columns</p>\n",
       "</div>"
      ],
      "text/plain": [
       "                                                    a  aa  aagym  abaaah  \\\n",
       "akun kloning dukung agussilvy serang paslon ani...  0   0      0       0   \n",
       "agussilvy bicara kasihan lap air mata wkwkwkwk      0   0      0       0   \n",
       "enggak memenunggu qc memenunggu motif cuit sbyu...  0   0      0       0   \n",
       "kasihh oh kasihh peluru rw agussilvy mempan men...  0   0      0       0   \n",
       "dukung agussilvy hayo dukung aniessandi putar r...  0   0      0       0   \n",
       "...                                                ..  ..    ...     ...   \n",
       "bpk aniesbaswedan sandiuno lihat rspun selfie o...  0   0      0       0   \n",
       "rangkul batas usia kelamin okeoce ok hand salam...  0   0      0       0   \n",
       "jago bidang digital smiling face with sunglasse...  0   0      0       0   \n",
       "pesanbijak okeoce                                   0   0      0       0   \n",
       "sandiaga bangun rumah dp simpel banding tol cip...  0   0      0       0   \n",
       "\n",
       "                                                    abal  abang  abdi  absurd  \\\n",
       "akun kloning dukung agussilvy serang paslon ani...     0      0     0       0   \n",
       "agussilvy bicara kasihan lap air mata wkwkwkwk         0      0     0       0   \n",
       "enggak memenunggu qc memenunggu motif cuit sbyu...     0      0     0       0   \n",
       "kasihh oh kasihh peluru rw agussilvy mempan men...     0      0     0       0   \n",
       "dukung agussilvy hayo dukung aniessandi putar r...     0      0     0       0   \n",
       "...                                                  ...    ...   ...     ...   \n",
       "bpk aniesbaswedan sandiuno lihat rspun selfie o...     0      0     0       0   \n",
       "rangkul batas usia kelamin okeoce ok hand salam...     0      0     0       0   \n",
       "jago bidang digital smiling face with sunglasse...     0      0     0       0   \n",
       "pesanbijak okeoce                                      0      0     0       0   \n",
       "sandiaga bangun rumah dp simpel banding tol cip...     0      0     0       0   \n",
       "\n",
       "                                                    abunawas  aburizal  ...  \\\n",
       "akun kloning dukung agussilvy serang paslon ani...         0         0  ...   \n",
       "agussilvy bicara kasihan lap air mata wkwkwkwk             0         0  ...   \n",
       "enggak memenunggu qc memenunggu motif cuit sbyu...         0         0  ...   \n",
       "kasihh oh kasihh peluru rw agussilvy mempan men...         0         0  ...   \n",
       "dukung agussilvy hayo dukung aniessandi putar r...         0         0  ...   \n",
       "...                                                      ...       ...  ...   \n",
       "bpk aniesbaswedan sandiuno lihat rspun selfie o...         0         0  ...   \n",
       "rangkul batas usia kelamin okeoce ok hand salam...         0         0  ...   \n",
       "jago bidang digital smiling face with sunglasse...         0         0  ...   \n",
       "pesanbijak okeoce                                          0         0  ...   \n",
       "sandiaga bangun rumah dp simpel banding tol cip...         0         0  ...   \n",
       "\n",
       "                                                    yra  yudhoyono  yuk  \\\n",
       "akun kloning dukung agussilvy serang paslon ani...    0          0    0   \n",
       "agussilvy bicara kasihan lap air mata wkwkwkwk        0          0    0   \n",
       "enggak memenunggu qc memenunggu motif cuit sbyu...    0          0    0   \n",
       "kasihh oh kasihh peluru rw agussilvy mempan men...    0          0    0   \n",
       "dukung agussilvy hayo dukung aniessandi putar r...    0          0    0   \n",
       "...                                                 ...        ...  ...   \n",
       "bpk aniesbaswedan sandiuno lihat rspun selfie o...    0          0    0   \n",
       "rangkul batas usia kelamin okeoce ok hand salam...    0          0    0   \n",
       "jago bidang digital smiling face with sunglasse...    0          0    0   \n",
       "pesanbijak okeoce                                     0          0    0   \n",
       "sandiaga bangun rumah dp simpel banding tol cip...    0          0    0   \n",
       "\n",
       "                                                    yusuf  zalim  zaraz  \\\n",
       "akun kloning dukung agussilvy serang paslon ani...      0      0      0   \n",
       "agussilvy bicara kasihan lap air mata wkwkwkwk          0      0      0   \n",
       "enggak memenunggu qc memenunggu motif cuit sbyu...      0      0      0   \n",
       "kasihh oh kasihh peluru rw agussilvy mempan men...      0      0      0   \n",
       "dukung agussilvy hayo dukung aniessandi putar r...      0      0      0   \n",
       "...                                                   ...    ...    ...   \n",
       "bpk aniesbaswedan sandiuno lihat rspun selfie o...      0      0      0   \n",
       "rangkul batas usia kelamin okeoce ok hand salam...      0      0      0   \n",
       "jago bidang digital smiling face with sunglasse...      0      0      0   \n",
       "pesanbijak okeoce                                       0      0      0   \n",
       "sandiaga bangun rumah dp simpel banding tol cip...      0      0      0   \n",
       "\n",
       "                                                    zarazettirazr  \\\n",
       "akun kloning dukung agussilvy serang paslon ani...              0   \n",
       "agussilvy bicara kasihan lap air mata wkwkwkwk                  0   \n",
       "enggak memenunggu qc memenunggu motif cuit sbyu...              0   \n",
       "kasihh oh kasihh peluru rw agussilvy mempan men...              0   \n",
       "dukung agussilvy hayo dukung aniessandi putar r...              0   \n",
       "...                                                           ...   \n",
       "bpk aniesbaswedan sandiuno lihat rspun selfie o...              0   \n",
       "rangkul batas usia kelamin okeoce ok hand salam...              0   \n",
       "jago bidang digital smiling face with sunglasse...              0   \n",
       "pesanbijak okeoce                                               0   \n",
       "sandiaga bangun rumah dp simpel banding tol cip...              0   \n",
       "\n",
       "                                                    zarazettirazz  zipper  \\\n",
       "akun kloning dukung agussilvy serang paslon ani...              0       0   \n",
       "agussilvy bicara kasihan lap air mata wkwkwkwk                  0       0   \n",
       "enggak memenunggu qc memenunggu motif cuit sbyu...              0       0   \n",
       "kasihh oh kasihh peluru rw agussilvy mempan men...              0       0   \n",
       "dukung agussilvy hayo dukung aniessandi putar r...              0       0   \n",
       "...                                                           ...     ...   \n",
       "bpk aniesbaswedan sandiuno lihat rspun selfie o...              0       0   \n",
       "rangkul batas usia kelamin okeoce ok hand salam...              0       0   \n",
       "jago bidang digital smiling face with sunglasse...              0       0   \n",
       "pesanbijak okeoce                                               0       0   \n",
       "sandiaga bangun rumah dp simpel banding tol cip...              0       0   \n",
       "\n",
       "                                                    zona  \n",
       "akun kloning dukung agussilvy serang paslon ani...     0  \n",
       "agussilvy bicara kasihan lap air mata wkwkwkwk         0  \n",
       "enggak memenunggu qc memenunggu motif cuit sbyu...     0  \n",
       "kasihh oh kasihh peluru rw agussilvy mempan men...     0  \n",
       "dukung agussilvy hayo dukung aniessandi putar r...     0  \n",
       "...                                                  ...  \n",
       "bpk aniesbaswedan sandiuno lihat rspun selfie o...     0  \n",
       "rangkul batas usia kelamin okeoce ok hand salam...     0  \n",
       "jago bidang digital smiling face with sunglasse...     0  \n",
       "pesanbijak okeoce                                      0  \n",
       "sandiaga bangun rumah dp simpel banding tol cip...     0  \n",
       "\n",
       "[900 rows x 2458 columns]"
      ]
     },
     "execution_count": 38,
     "metadata": {},
     "output_type": "execute_result"
    }
   ],
   "source": [
    "df_BoW = Bag_Of_Words(df_teks)\n",
    "df_BoW"
   ]
  },
  {
   "cell_type": "code",
   "execution_count": 39,
   "metadata": {
    "id": "99LOssmKcjd2"
   },
   "outputs": [],
   "source": [
    "df_BoW.to_csv('Pilkada_DKI_BoW.csv', index=False)"
   ]
  },
  {
   "cell_type": "code",
   "execution_count": 40,
   "metadata": {
    "colab": {
     "base_uri": "https://localhost:8080/"
    },
    "id": "ydp5T6Zqcles",
    "outputId": "08397013-8487-4ef5-e67b-e1842f1905c9"
   },
   "outputs": [
    {
     "name": "stdout",
     "output_type": "stream",
     "text": [
      "<class 'pandas.core.frame.DataFrame'>\n",
      "Index: 900 entries, akun kloning dukung agussilvy serang paslon aniessandi opini argumen pmbenaran kecoh to sandiaga bangun rumah dp simpel banding tol cipali aniessandijawarajakarta okeoce\n",
      "Columns: 2458 entries, a to zona\n",
      "dtypes: int32(2458)\n",
      "memory usage: 8.4+ MB\n"
     ]
    }
   ],
   "source": [
    "df_BoW.info()"
   ]
  },
  {
   "cell_type": "markdown",
   "metadata": {
    "id": "WqWCMlE4coCV"
   },
   "source": [
    "**Perbandingan dengan Scikit Learn Library**"
   ]
  },
  {
   "cell_type": "markdown",
   "metadata": {
    "id": "nc4J2W95csEy"
   },
   "source": [
    "Sebenarnya, kita bisa menghasilkan matriks BoW dengan menggunakan Library Scikit Learn pada Class CountVectorizer"
   ]
  },
  {
   "cell_type": "code",
   "execution_count": 41,
   "metadata": {
    "colab": {
     "base_uri": "https://localhost:8080/",
     "height": 1000
    },
    "id": "NvYbEMCocuhu",
    "outputId": "06a42853-b506-4b3b-f9ab-7f2a3ba4e48a"
   },
   "outputs": [
    {
     "data": {
      "text/html": [
       "<div>\n",
       "<style scoped>\n",
       "    .dataframe tbody tr th:only-of-type {\n",
       "        vertical-align: middle;\n",
       "    }\n",
       "\n",
       "    .dataframe tbody tr th {\n",
       "        vertical-align: top;\n",
       "    }\n",
       "\n",
       "    .dataframe thead th {\n",
       "        text-align: right;\n",
       "    }\n",
       "</style>\n",
       "<table border=\"1\" class=\"dataframe\">\n",
       "  <thead>\n",
       "    <tr style=\"text-align: right;\">\n",
       "      <th></th>\n",
       "      <th>aa</th>\n",
       "      <th>aagym</th>\n",
       "      <th>abaaah</th>\n",
       "      <th>abal</th>\n",
       "      <th>abang</th>\n",
       "      <th>abdi</th>\n",
       "      <th>absurd</th>\n",
       "      <th>abunawas</th>\n",
       "      <th>aburizal</th>\n",
       "      <th>abused</th>\n",
       "      <th>...</th>\n",
       "      <th>yra</th>\n",
       "      <th>yudhoyono</th>\n",
       "      <th>yuk</th>\n",
       "      <th>yusuf</th>\n",
       "      <th>zalim</th>\n",
       "      <th>zaraz</th>\n",
       "      <th>zarazettirazr</th>\n",
       "      <th>zarazettirazz</th>\n",
       "      <th>zipper</th>\n",
       "      <th>zona</th>\n",
       "    </tr>\n",
       "    <tr>\n",
       "      <th>content_processed</th>\n",
       "      <th></th>\n",
       "      <th></th>\n",
       "      <th></th>\n",
       "      <th></th>\n",
       "      <th></th>\n",
       "      <th></th>\n",
       "      <th></th>\n",
       "      <th></th>\n",
       "      <th></th>\n",
       "      <th></th>\n",
       "      <th></th>\n",
       "      <th></th>\n",
       "      <th></th>\n",
       "      <th></th>\n",
       "      <th></th>\n",
       "      <th></th>\n",
       "      <th></th>\n",
       "      <th></th>\n",
       "      <th></th>\n",
       "      <th></th>\n",
       "      <th></th>\n",
       "    </tr>\n",
       "  </thead>\n",
       "  <tbody>\n",
       "    <tr>\n",
       "      <td>akun kloning dukung agussilvy serang paslon aniessandi opini argumen pmbenaran kecoh</td>\n",
       "      <td>0</td>\n",
       "      <td>0</td>\n",
       "      <td>0</td>\n",
       "      <td>0</td>\n",
       "      <td>0</td>\n",
       "      <td>0</td>\n",
       "      <td>0</td>\n",
       "      <td>0</td>\n",
       "      <td>0</td>\n",
       "      <td>0</td>\n",
       "      <td>...</td>\n",
       "      <td>0</td>\n",
       "      <td>0</td>\n",
       "      <td>0</td>\n",
       "      <td>0</td>\n",
       "      <td>0</td>\n",
       "      <td>0</td>\n",
       "      <td>0</td>\n",
       "      <td>0</td>\n",
       "      <td>0</td>\n",
       "      <td>0</td>\n",
       "    </tr>\n",
       "    <tr>\n",
       "      <td>agussilvy bicara kasihan lap air mata wkwkwkwk</td>\n",
       "      <td>0</td>\n",
       "      <td>0</td>\n",
       "      <td>0</td>\n",
       "      <td>0</td>\n",
       "      <td>0</td>\n",
       "      <td>0</td>\n",
       "      <td>0</td>\n",
       "      <td>0</td>\n",
       "      <td>0</td>\n",
       "      <td>0</td>\n",
       "      <td>...</td>\n",
       "      <td>0</td>\n",
       "      <td>0</td>\n",
       "      <td>0</td>\n",
       "      <td>0</td>\n",
       "      <td>0</td>\n",
       "      <td>0</td>\n",
       "      <td>0</td>\n",
       "      <td>0</td>\n",
       "      <td>0</td>\n",
       "      <td>0</td>\n",
       "    </tr>\n",
       "    <tr>\n",
       "      <td>enggak memenunggu qc memenunggu motif cuit sbyudhoyono pasca agussilvy nyungsep</td>\n",
       "      <td>0</td>\n",
       "      <td>0</td>\n",
       "      <td>0</td>\n",
       "      <td>0</td>\n",
       "      <td>0</td>\n",
       "      <td>0</td>\n",
       "      <td>0</td>\n",
       "      <td>0</td>\n",
       "      <td>0</td>\n",
       "      <td>0</td>\n",
       "      <td>...</td>\n",
       "      <td>0</td>\n",
       "      <td>0</td>\n",
       "      <td>0</td>\n",
       "      <td>0</td>\n",
       "      <td>0</td>\n",
       "      <td>0</td>\n",
       "      <td>0</td>\n",
       "      <td>0</td>\n",
       "      <td>0</td>\n",
       "      <td>0</td>\n",
       "    </tr>\n",
       "    <tr>\n",
       "      <td>kasihh oh kasihh peluru rw agussilvy mempan menangin pilkada quickcount</td>\n",
       "      <td>0</td>\n",
       "      <td>0</td>\n",
       "      <td>0</td>\n",
       "      <td>0</td>\n",
       "      <td>0</td>\n",
       "      <td>0</td>\n",
       "      <td>0</td>\n",
       "      <td>0</td>\n",
       "      <td>0</td>\n",
       "      <td>0</td>\n",
       "      <td>...</td>\n",
       "      <td>0</td>\n",
       "      <td>0</td>\n",
       "      <td>0</td>\n",
       "      <td>0</td>\n",
       "      <td>0</td>\n",
       "      <td>0</td>\n",
       "      <td>0</td>\n",
       "      <td>0</td>\n",
       "      <td>0</td>\n",
       "      <td>0</td>\n",
       "    </tr>\n",
       "    <tr>\n",
       "      <td>dukung agussilvy hayo dukung aniessandi putar ronavioleta netizentofa</td>\n",
       "      <td>0</td>\n",
       "      <td>0</td>\n",
       "      <td>0</td>\n",
       "      <td>0</td>\n",
       "      <td>0</td>\n",
       "      <td>0</td>\n",
       "      <td>0</td>\n",
       "      <td>0</td>\n",
       "      <td>0</td>\n",
       "      <td>0</td>\n",
       "      <td>...</td>\n",
       "      <td>0</td>\n",
       "      <td>0</td>\n",
       "      <td>0</td>\n",
       "      <td>0</td>\n",
       "      <td>0</td>\n",
       "      <td>0</td>\n",
       "      <td>0</td>\n",
       "      <td>0</td>\n",
       "      <td>0</td>\n",
       "      <td>0</td>\n",
       "    </tr>\n",
       "    <tr>\n",
       "      <td>...</td>\n",
       "      <td>...</td>\n",
       "      <td>...</td>\n",
       "      <td>...</td>\n",
       "      <td>...</td>\n",
       "      <td>...</td>\n",
       "      <td>...</td>\n",
       "      <td>...</td>\n",
       "      <td>...</td>\n",
       "      <td>...</td>\n",
       "      <td>...</td>\n",
       "      <td>...</td>\n",
       "      <td>...</td>\n",
       "      <td>...</td>\n",
       "      <td>...</td>\n",
       "      <td>...</td>\n",
       "      <td>...</td>\n",
       "      <td>...</td>\n",
       "      <td>...</td>\n",
       "      <td>...</td>\n",
       "      <td>...</td>\n",
       "      <td>...</td>\n",
       "    </tr>\n",
       "    <tr>\n",
       "      <td>bpk aniesbaswedan sandiuno lihat rspun selfie okeoce ok hand debatpilkadadki ahokpanikahokkalah</td>\n",
       "      <td>0</td>\n",
       "      <td>0</td>\n",
       "      <td>0</td>\n",
       "      <td>0</td>\n",
       "      <td>0</td>\n",
       "      <td>0</td>\n",
       "      <td>0</td>\n",
       "      <td>0</td>\n",
       "      <td>0</td>\n",
       "      <td>0</td>\n",
       "      <td>...</td>\n",
       "      <td>0</td>\n",
       "      <td>0</td>\n",
       "      <td>0</td>\n",
       "      <td>0</td>\n",
       "      <td>0</td>\n",
       "      <td>0</td>\n",
       "      <td>0</td>\n",
       "      <td>0</td>\n",
       "      <td>0</td>\n",
       "      <td>0</td>\n",
       "    </tr>\n",
       "    <tr>\n",
       "      <td>rangkul batas usia kelamin okeoce ok hand salambersama pks temanahok victory hand</td>\n",
       "      <td>0</td>\n",
       "      <td>0</td>\n",
       "      <td>0</td>\n",
       "      <td>0</td>\n",
       "      <td>0</td>\n",
       "      <td>0</td>\n",
       "      <td>0</td>\n",
       "      <td>0</td>\n",
       "      <td>0</td>\n",
       "      <td>0</td>\n",
       "      <td>...</td>\n",
       "      <td>0</td>\n",
       "      <td>0</td>\n",
       "      <td>0</td>\n",
       "      <td>0</td>\n",
       "      <td>0</td>\n",
       "      <td>0</td>\n",
       "      <td>0</td>\n",
       "      <td>0</td>\n",
       "      <td>0</td>\n",
       "      <td>0</td>\n",
       "    </tr>\n",
       "    <tr>\n",
       "      <td>jago bidang digital smiling face with sunglasses ok hand thonyleong okeoce salambersama</td>\n",
       "      <td>0</td>\n",
       "      <td>0</td>\n",
       "      <td>0</td>\n",
       "      <td>0</td>\n",
       "      <td>0</td>\n",
       "      <td>0</td>\n",
       "      <td>0</td>\n",
       "      <td>0</td>\n",
       "      <td>0</td>\n",
       "      <td>0</td>\n",
       "      <td>...</td>\n",
       "      <td>0</td>\n",
       "      <td>0</td>\n",
       "      <td>0</td>\n",
       "      <td>0</td>\n",
       "      <td>0</td>\n",
       "      <td>0</td>\n",
       "      <td>0</td>\n",
       "      <td>0</td>\n",
       "      <td>0</td>\n",
       "      <td>0</td>\n",
       "    </tr>\n",
       "    <tr>\n",
       "      <td>pesanbijak okeoce</td>\n",
       "      <td>0</td>\n",
       "      <td>0</td>\n",
       "      <td>0</td>\n",
       "      <td>0</td>\n",
       "      <td>0</td>\n",
       "      <td>0</td>\n",
       "      <td>0</td>\n",
       "      <td>0</td>\n",
       "      <td>0</td>\n",
       "      <td>0</td>\n",
       "      <td>...</td>\n",
       "      <td>0</td>\n",
       "      <td>0</td>\n",
       "      <td>0</td>\n",
       "      <td>0</td>\n",
       "      <td>0</td>\n",
       "      <td>0</td>\n",
       "      <td>0</td>\n",
       "      <td>0</td>\n",
       "      <td>0</td>\n",
       "      <td>0</td>\n",
       "    </tr>\n",
       "    <tr>\n",
       "      <td>sandiaga bangun rumah dp simpel banding tol cipali aniessandijawarajakarta okeoce</td>\n",
       "      <td>0</td>\n",
       "      <td>0</td>\n",
       "      <td>0</td>\n",
       "      <td>0</td>\n",
       "      <td>0</td>\n",
       "      <td>0</td>\n",
       "      <td>0</td>\n",
       "      <td>0</td>\n",
       "      <td>0</td>\n",
       "      <td>0</td>\n",
       "      <td>...</td>\n",
       "      <td>0</td>\n",
       "      <td>0</td>\n",
       "      <td>0</td>\n",
       "      <td>0</td>\n",
       "      <td>0</td>\n",
       "      <td>0</td>\n",
       "      <td>0</td>\n",
       "      <td>0</td>\n",
       "      <td>0</td>\n",
       "      <td>0</td>\n",
       "    </tr>\n",
       "  </tbody>\n",
       "</table>\n",
       "<p>900 rows × 2451 columns</p>\n",
       "</div>"
      ],
      "text/plain": [
       "                                                    aa  aagym  abaaah  abal  \\\n",
       "content_processed                                                             \n",
       "akun kloning dukung agussilvy serang paslon ani...   0      0       0     0   \n",
       "agussilvy bicara kasihan lap air mata wkwkwkwk       0      0       0     0   \n",
       "enggak memenunggu qc memenunggu motif cuit sbyu...   0      0       0     0   \n",
       "kasihh oh kasihh peluru rw agussilvy mempan men...   0      0       0     0   \n",
       "dukung agussilvy hayo dukung aniessandi putar r...   0      0       0     0   \n",
       "...                                                 ..    ...     ...   ...   \n",
       "bpk aniesbaswedan sandiuno lihat rspun selfie o...   0      0       0     0   \n",
       "rangkul batas usia kelamin okeoce ok hand salam...   0      0       0     0   \n",
       "jago bidang digital smiling face with sunglasse...   0      0       0     0   \n",
       "pesanbijak okeoce                                    0      0       0     0   \n",
       "sandiaga bangun rumah dp simpel banding tol cip...   0      0       0     0   \n",
       "\n",
       "                                                    abang  abdi  absurd  \\\n",
       "content_processed                                                         \n",
       "akun kloning dukung agussilvy serang paslon ani...      0     0       0   \n",
       "agussilvy bicara kasihan lap air mata wkwkwkwk          0     0       0   \n",
       "enggak memenunggu qc memenunggu motif cuit sbyu...      0     0       0   \n",
       "kasihh oh kasihh peluru rw agussilvy mempan men...      0     0       0   \n",
       "dukung agussilvy hayo dukung aniessandi putar r...      0     0       0   \n",
       "...                                                   ...   ...     ...   \n",
       "bpk aniesbaswedan sandiuno lihat rspun selfie o...      0     0       0   \n",
       "rangkul batas usia kelamin okeoce ok hand salam...      0     0       0   \n",
       "jago bidang digital smiling face with sunglasse...      0     0       0   \n",
       "pesanbijak okeoce                                       0     0       0   \n",
       "sandiaga bangun rumah dp simpel banding tol cip...      0     0       0   \n",
       "\n",
       "                                                    abunawas  aburizal  \\\n",
       "content_processed                                                        \n",
       "akun kloning dukung agussilvy serang paslon ani...         0         0   \n",
       "agussilvy bicara kasihan lap air mata wkwkwkwk             0         0   \n",
       "enggak memenunggu qc memenunggu motif cuit sbyu...         0         0   \n",
       "kasihh oh kasihh peluru rw agussilvy mempan men...         0         0   \n",
       "dukung agussilvy hayo dukung aniessandi putar r...         0         0   \n",
       "...                                                      ...       ...   \n",
       "bpk aniesbaswedan sandiuno lihat rspun selfie o...         0         0   \n",
       "rangkul batas usia kelamin okeoce ok hand salam...         0         0   \n",
       "jago bidang digital smiling face with sunglasse...         0         0   \n",
       "pesanbijak okeoce                                          0         0   \n",
       "sandiaga bangun rumah dp simpel banding tol cip...         0         0   \n",
       "\n",
       "                                                    abused  ...  yra  \\\n",
       "content_processed                                           ...        \n",
       "akun kloning dukung agussilvy serang paslon ani...       0  ...    0   \n",
       "agussilvy bicara kasihan lap air mata wkwkwkwk           0  ...    0   \n",
       "enggak memenunggu qc memenunggu motif cuit sbyu...       0  ...    0   \n",
       "kasihh oh kasihh peluru rw agussilvy mempan men...       0  ...    0   \n",
       "dukung agussilvy hayo dukung aniessandi putar r...       0  ...    0   \n",
       "...                                                    ...  ...  ...   \n",
       "bpk aniesbaswedan sandiuno lihat rspun selfie o...       0  ...    0   \n",
       "rangkul batas usia kelamin okeoce ok hand salam...       0  ...    0   \n",
       "jago bidang digital smiling face with sunglasse...       0  ...    0   \n",
       "pesanbijak okeoce                                        0  ...    0   \n",
       "sandiaga bangun rumah dp simpel banding tol cip...       0  ...    0   \n",
       "\n",
       "                                                    yudhoyono  yuk  yusuf  \\\n",
       "content_processed                                                           \n",
       "akun kloning dukung agussilvy serang paslon ani...          0    0      0   \n",
       "agussilvy bicara kasihan lap air mata wkwkwkwk              0    0      0   \n",
       "enggak memenunggu qc memenunggu motif cuit sbyu...          0    0      0   \n",
       "kasihh oh kasihh peluru rw agussilvy mempan men...          0    0      0   \n",
       "dukung agussilvy hayo dukung aniessandi putar r...          0    0      0   \n",
       "...                                                       ...  ...    ...   \n",
       "bpk aniesbaswedan sandiuno lihat rspun selfie o...          0    0      0   \n",
       "rangkul batas usia kelamin okeoce ok hand salam...          0    0      0   \n",
       "jago bidang digital smiling face with sunglasse...          0    0      0   \n",
       "pesanbijak okeoce                                           0    0      0   \n",
       "sandiaga bangun rumah dp simpel banding tol cip...          0    0      0   \n",
       "\n",
       "                                                    zalim  zaraz  \\\n",
       "content_processed                                                  \n",
       "akun kloning dukung agussilvy serang paslon ani...      0      0   \n",
       "agussilvy bicara kasihan lap air mata wkwkwkwk          0      0   \n",
       "enggak memenunggu qc memenunggu motif cuit sbyu...      0      0   \n",
       "kasihh oh kasihh peluru rw agussilvy mempan men...      0      0   \n",
       "dukung agussilvy hayo dukung aniessandi putar r...      0      0   \n",
       "...                                                   ...    ...   \n",
       "bpk aniesbaswedan sandiuno lihat rspun selfie o...      0      0   \n",
       "rangkul batas usia kelamin okeoce ok hand salam...      0      0   \n",
       "jago bidang digital smiling face with sunglasse...      0      0   \n",
       "pesanbijak okeoce                                       0      0   \n",
       "sandiaga bangun rumah dp simpel banding tol cip...      0      0   \n",
       "\n",
       "                                                    zarazettirazr  \\\n",
       "content_processed                                                   \n",
       "akun kloning dukung agussilvy serang paslon ani...              0   \n",
       "agussilvy bicara kasihan lap air mata wkwkwkwk                  0   \n",
       "enggak memenunggu qc memenunggu motif cuit sbyu...              0   \n",
       "kasihh oh kasihh peluru rw agussilvy mempan men...              0   \n",
       "dukung agussilvy hayo dukung aniessandi putar r...              0   \n",
       "...                                                           ...   \n",
       "bpk aniesbaswedan sandiuno lihat rspun selfie o...              0   \n",
       "rangkul batas usia kelamin okeoce ok hand salam...              0   \n",
       "jago bidang digital smiling face with sunglasse...              0   \n",
       "pesanbijak okeoce                                               0   \n",
       "sandiaga bangun rumah dp simpel banding tol cip...              0   \n",
       "\n",
       "                                                    zarazettirazz  zipper  \\\n",
       "content_processed                                                           \n",
       "akun kloning dukung agussilvy serang paslon ani...              0       0   \n",
       "agussilvy bicara kasihan lap air mata wkwkwkwk                  0       0   \n",
       "enggak memenunggu qc memenunggu motif cuit sbyu...              0       0   \n",
       "kasihh oh kasihh peluru rw agussilvy mempan men...              0       0   \n",
       "dukung agussilvy hayo dukung aniessandi putar r...              0       0   \n",
       "...                                                           ...     ...   \n",
       "bpk aniesbaswedan sandiuno lihat rspun selfie o...              0       0   \n",
       "rangkul batas usia kelamin okeoce ok hand salam...              0       0   \n",
       "jago bidang digital smiling face with sunglasse...              0       0   \n",
       "pesanbijak okeoce                                               0       0   \n",
       "sandiaga bangun rumah dp simpel banding tol cip...              0       0   \n",
       "\n",
       "                                                    zona  \n",
       "content_processed                                         \n",
       "akun kloning dukung agussilvy serang paslon ani...     0  \n",
       "agussilvy bicara kasihan lap air mata wkwkwkwk         0  \n",
       "enggak memenunggu qc memenunggu motif cuit sbyu...     0  \n",
       "kasihh oh kasihh peluru rw agussilvy mempan men...     0  \n",
       "dukung agussilvy hayo dukung aniessandi putar r...     0  \n",
       "...                                                  ...  \n",
       "bpk aniesbaswedan sandiuno lihat rspun selfie o...     0  \n",
       "rangkul batas usia kelamin okeoce ok hand salam...     0  \n",
       "jago bidang digital smiling face with sunglasse...     0  \n",
       "pesanbijak okeoce                                      0  \n",
       "sandiaga bangun rumah dp simpel banding tol cip...     0  \n",
       "\n",
       "[900 rows x 2451 columns]"
      ]
     },
     "execution_count": 41,
     "metadata": {},
     "output_type": "execute_result"
    }
   ],
   "source": [
    "from sklearn.feature_extraction.text import CountVectorizer\n",
    "\n",
    "vectorizer = CountVectorizer()\n",
    "corpus = df_teks['content_processed']\n",
    "\n",
    "X = vectorizer.fit_transform(corpus)\n",
    "\n",
    "df_BoW_SL = pd.DataFrame(X.toarray(), columns=vectorizer.get_feature_names(), index=corpus)\n",
    "df_BoW_SL"
   ]
  },
  {
   "cell_type": "markdown",
   "metadata": {
    "id": "kVXAyVn4cyR1"
   },
   "source": [
    "\n",
    "Hasil fungsi yang kita buat dari dasar sama dengan CountVectorizer dari Library Scikit Learn"
   ]
  },
  {
   "cell_type": "markdown",
   "metadata": {
    "id": "KEcDUfAyc1bQ"
   },
   "source": [
    "##**Kekurangan Bag-Of-Words**"
   ]
  },
  {
   "cell_type": "markdown",
   "metadata": {
    "id": "nuz41KyEc5Rb"
   },
   "source": [
    "Meskipun model ini sangat sederhana untuk diimplementasikan, namun model ini masih memiliki beberapa kekurangan:"
   ]
  },
  {
   "cell_type": "markdown",
   "metadata": {
    "id": "61qCpuzMc8Hh"
   },
   "source": [
    "\n",
    "*   **Ketersebaran (Sparsity)**: Model BOW membuat vektor sparce yang meningkatkan kompleksitas ruang dan juga mempersulit algoritma prediksi kami untuk dipelajari\n",
    "*   **Arti Kata**: Kata hanya direpresentasikan keberadaannya namun tidak sampai pada makna dan konteksnya dalam sebuah kalimat\n",
    "\n"
   ]
  },
  {
   "cell_type": "markdown",
   "metadata": {
    "id": "tm-GjuqydIX5"
   },
   "source": [
    "#**TF-IDF**"
   ]
  },
  {
   "cell_type": "markdown",
   "metadata": {
    "id": "4WsTZF0VdMGT"
   },
   "source": [
    "TF-IDF adalah metode untuk merepresentasikan kata-kata dalam angka. TF-IDF merupakan gabungan dari Term Frequency (TF) dan Inverse Document Frequency (IDF)"
   ]
  },
  {
   "cell_type": "markdown",
   "metadata": {
    "id": "MKETrMzndODL"
   },
   "source": [
    "##**Term Frequency (TF)**"
   ]
  },
  {
   "cell_type": "markdown",
   "metadata": {
    "id": "T8Xn-V4fdR7w"
   },
   "source": [
    "Term Frequency (TF) merupakan frekuensi kemunculan kata i pada kalimat j dibagi dengan total kata pada kalimat j. TF mengukur seberapa sering kata muncul dalam sebuah kalimat. Masing-masing kalimat memiliki panjang (jumlah kata) yang berbeda-beda, maka pada kalimat yang lebih panjang sebuah kata bisa muncul lebih banyak dari pada kalimat yang pendek.\n",
    "\n",
    "![Capture1.PNG](data:image/png;base64,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)"
   ]
  },
  {
   "cell_type": "markdown",
   "metadata": {
    "id": "hdQgY4E-doM7"
   },
   "source": [
    "##**Inverse Document Frequency (IDF)**"
   ]
  },
  {
   "cell_type": "markdown",
   "metadata": {
    "id": "txFyxbjWdvvL"
   },
   "source": [
    "Inverse Document Frequency (IDF) mengukur seberapa penting kata tersebut. Saat menghitung TF kita menganggap semua kata sama penting. Bagaimanapun kita tahu bahwa ada beberapa kata yang sering muncul namun sebenarnya tidak penting seperti \"adalah, pada, ini, dll.\" Maka semakin tinggi nilai IDF dari sebuah kata, semakin tidak penting pula kata tersebut dalam sebuah kalimat. Pada dasarnya IDF (kata) dihitung sebagai berikut:\n",
    "\n",
    "![Capture1.PNG](data:image/png;base64,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)"
   ]
  },
  {
   "cell_type": "markdown",
   "metadata": {
    "id": "avJv908Cd6Ez"
   },
   "source": [
    "##**Contoh Penghitungan Manual TF-IDF**"
   ]
  },
  {
   "cell_type": "markdown",
   "metadata": {
    "id": "uzKipFsVeL5M"
   },
   "source": [
    "![Capture1.PNG](data:image/png;base64,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)"
   ]
  },
  {
   "cell_type": "markdown",
   "metadata": {
    "id": "Knu5Ho3IeOKv"
   },
   "source": [
    "##**Membuat Matriks TF-IDF Scratch**"
   ]
  },
  {
   "cell_type": "markdown",
   "metadata": {
    "id": "c6PcB7FFeYBL"
   },
   "source": [
    "Import modul yang diperlukan"
   ]
  },
  {
   "cell_type": "code",
   "execution_count": 42,
   "metadata": {
    "id": "omtiuxpceZ2o"
   },
   "outputs": [],
   "source": [
    "# Import modul yang diperlukan\n",
    "import pandas as pd\n",
    "import numpy as np\n",
    "from nltk.tokenize import word_tokenize\n",
    "import math\n",
    "from sklearn.preprocessing import normalize"
   ]
  },
  {
   "cell_type": "code",
   "execution_count": 43,
   "metadata": {
    "colab": {
     "base_uri": "https://localhost:8080/",
     "height": 112
    },
    "id": "rFYzlQDIecjV",
    "outputId": "b904ff11-2296-4eb2-e21f-536d0680e0cc"
   },
   "outputs": [
    {
     "data": {
      "text/html": [
       "<div>\n",
       "<style scoped>\n",
       "    .dataframe tbody tr th:only-of-type {\n",
       "        vertical-align: middle;\n",
       "    }\n",
       "\n",
       "    .dataframe tbody tr th {\n",
       "        vertical-align: top;\n",
       "    }\n",
       "\n",
       "    .dataframe thead th {\n",
       "        text-align: right;\n",
       "    }\n",
       "</style>\n",
       "<table border=\"1\" class=\"dataframe\">\n",
       "  <thead>\n",
       "    <tr style=\"text-align: right;\">\n",
       "      <th></th>\n",
       "      <th>Selamat</th>\n",
       "      <th>Pagi</th>\n",
       "      <th>Matematika</th>\n",
       "      <th>UAD</th>\n",
       "      <th>Indonesia</th>\n",
       "    </tr>\n",
       "  </thead>\n",
       "  <tbody>\n",
       "    <tr>\n",
       "      <td>Selamat Pagi Matematika UAD</td>\n",
       "      <td>1</td>\n",
       "      <td>1</td>\n",
       "      <td>1</td>\n",
       "      <td>1</td>\n",
       "      <td>0</td>\n",
       "    </tr>\n",
       "    <tr>\n",
       "      <td>Selamat Pagi Indonesia</td>\n",
       "      <td>1</td>\n",
       "      <td>1</td>\n",
       "      <td>0</td>\n",
       "      <td>0</td>\n",
       "      <td>1</td>\n",
       "    </tr>\n",
       "  </tbody>\n",
       "</table>\n",
       "</div>"
      ],
      "text/plain": [
       "                             Selamat  Pagi  Matematika  UAD  Indonesia\n",
       "Selamat Pagi Matematika UAD        1     1           1    1          0\n",
       "Selamat Pagi Indonesia             1     1           0    0          1"
      ]
     },
     "execution_count": 43,
     "metadata": {},
     "output_type": "execute_result"
    }
   ],
   "source": [
    "df = pd.DataFrame({\"Selamat\":[1,1],\n",
    "                  \"Pagi\": [1,1],\n",
    "                  \"Matematika\":[1,0],\n",
    "                  \"UAD\":[1,0],\n",
    "                  \"Indonesia\": [0,1]}, index=['Selamat Pagi Matematika UAD', 'Selamat Pagi Indonesia'])\n",
    "df"
   ]
  },
  {
   "cell_type": "markdown",
   "metadata": {
    "id": "6rLV6BaZefp2"
   },
   "source": [
    "DataFrame Teks Input"
   ]
  },
  {
   "cell_type": "code",
   "execution_count": 44,
   "metadata": {
    "colab": {
     "base_uri": "https://localhost:8080/",
     "height": 112
    },
    "id": "xeaM33_6eiov",
    "outputId": "d7035a68-8a45-45d8-b518-3b2bc9c87ea3"
   },
   "outputs": [
    {
     "data": {
      "text/html": [
       "<div>\n",
       "<style scoped>\n",
       "    .dataframe tbody tr th:only-of-type {\n",
       "        vertical-align: middle;\n",
       "    }\n",
       "\n",
       "    .dataframe tbody tr th {\n",
       "        vertical-align: top;\n",
       "    }\n",
       "\n",
       "    .dataframe thead th {\n",
       "        text-align: right;\n",
       "    }\n",
       "</style>\n",
       "<table border=\"1\" class=\"dataframe\">\n",
       "  <thead>\n",
       "    <tr style=\"text-align: right;\">\n",
       "      <th></th>\n",
       "      <th>Text</th>\n",
       "    </tr>\n",
       "  </thead>\n",
       "  <tbody>\n",
       "    <tr>\n",
       "      <td>0</td>\n",
       "      <td>Selamat Pagi Matematika UAD</td>\n",
       "    </tr>\n",
       "    <tr>\n",
       "      <td>1</td>\n",
       "      <td>Selamat Pagi Indonesia</td>\n",
       "    </tr>\n",
       "  </tbody>\n",
       "</table>\n",
       "</div>"
      ],
      "text/plain": [
       "                          Text\n",
       "0  Selamat Pagi Matematika UAD\n",
       "1       Selamat Pagi Indonesia"
      ]
     },
     "execution_count": 44,
     "metadata": {},
     "output_type": "execute_result"
    }
   ],
   "source": [
    "df_teks = pd.DataFrame({\"Text\": ['Selamat Pagi Matematika UAD', 'Selamat Pagi Indonesia']})\n",
    "df_teks"
   ]
  },
  {
   "cell_type": "markdown",
   "metadata": {
    "id": "jIJyNA2Kekk0"
   },
   "source": [
    "Membuat list kosa kata"
   ]
  },
  {
   "cell_type": "code",
   "execution_count": 45,
   "metadata": {
    "colab": {
     "base_uri": "https://localhost:8080/"
    },
    "id": "W3_M11GZemtU",
    "outputId": "3b12299f-a81b-4a9d-a940-48cabb6365db"
   },
   "outputs": [
    {
     "name": "stdout",
     "output_type": "stream",
     "text": [
      "['indonesia', 'matematika', 'pagi', 'selamat', 'uad']\n",
      "5\n"
     ]
    }
   ],
   "source": [
    "kosa_kata = set()\n",
    "for i in df_teks.Text:\n",
    "    token_kal=set(word_tokenize(i.lower()))\n",
    "    kosa_kata=set.union(kosa_kata, token_kal)\n",
    "\n",
    "# print(kosa_kata)\n",
    "kosa_kata = sorted(kosa_kata)\n",
    "print(kosa_kata)\n",
    "\n",
    "# Jumlah kata-kata pada list vocab\n",
    "jumlah_kosa_kata = len(kosa_kata)\n",
    "print(jumlah_kosa_kata)"
   ]
  },
  {
   "cell_type": "code",
   "execution_count": 46,
   "metadata": {
    "colab": {
     "base_uri": "https://localhost:8080/"
    },
    "id": "8icqDF25epAf",
    "outputId": "349caa02-7fe8-4c54-b337-00c3bfc8adc6"
   },
   "outputs": [
    {
     "name": "stdout",
     "output_type": "stream",
     "text": [
      "{'indonesia': 0, 'matematika': 0, 'pagi': 0, 'selamat': 0, 'uad': 0}\n"
     ]
    }
   ],
   "source": [
    "indeks_kata = {}\n",
    "for kata in kosa_kata:\n",
    "    indeks_kata[kata]=0\n",
    "\n",
    "print(indeks_kata)"
   ]
  },
  {
   "cell_type": "markdown",
   "metadata": {
    "id": "41lajvw2erQo"
   },
   "source": [
    "Membuat matriks TF"
   ]
  },
  {
   "cell_type": "code",
   "execution_count": 47,
   "metadata": {
    "colab": {
     "base_uri": "https://localhost:8080/"
    },
    "id": "N5cSSlcAetun",
    "outputId": "9f96d610-9d2b-4a2c-f144-6f03b729e90d"
   },
   "outputs": [
    {
     "name": "stdout",
     "output_type": "stream",
     "text": [
      "Selamat Pagi Matematika UAD\n",
      "baris_kata {'indonesia': 0, 'matematika': 0, 'pagi': 0, 'selamat': 0, 'uad': 0}\n",
      "{'indonesia': 0, 'matematika': 0, 'pagi': 0, 'selamat': 1, 'uad': 0}\n",
      "{'indonesia': 0, 'matematika': 0, 'pagi': 1, 'selamat': 1, 'uad': 0}\n",
      "{'indonesia': 0, 'matematika': 1, 'pagi': 1, 'selamat': 1, 'uad': 0}\n",
      "{'indonesia': 0, 'matematika': 1, 'pagi': 1, 'selamat': 1, 'uad': 1}\n",
      "[0.   0.25 0.25 0.25 0.25]\n",
      "Selamat Pagi Indonesia\n",
      "baris_kata {'indonesia': 0, 'matematika': 0, 'pagi': 0, 'selamat': 0, 'uad': 0}\n",
      "{'indonesia': 0, 'matematika': 0, 'pagi': 0, 'selamat': 1, 'uad': 0}\n",
      "{'indonesia': 0, 'matematika': 0, 'pagi': 1, 'selamat': 1, 'uad': 0}\n",
      "{'indonesia': 1, 'matematika': 0, 'pagi': 1, 'selamat': 1, 'uad': 0}\n",
      "[0.         0.25       0.25       0.25       0.25       0.33333333\n",
      " 0.         0.33333333 0.33333333 0.        ]\n"
     ]
    }
   ],
   "source": [
    "vektor_TF=np.array([])\n",
    "for baris_teks in df_teks.Text:\n",
    "    print(baris_teks)\n",
    "    baris_kata = indeks_kata.copy()\n",
    "    print('baris_kata', baris_kata)\n",
    "    split_baris = baris_teks.lower().split()\n",
    "    for kata in baris_teks.lower().split():\n",
    "        baris_kata[kata]=+1\n",
    "        print(baris_kata)\n",
    "    baris_kata = np.array(list(baris_kata.values()))\n",
    "    baris_kata = baris_kata/len(split_baris)\n",
    "    vektor_TF = np.concatenate((vektor_TF, baris_kata), axis=0)\n",
    "    print(vektor_TF)\n",
    "matriks_TF = vektor_TF.reshape(df.shape[0], jumlah_kosa_kata)"
   ]
  },
  {
   "cell_type": "code",
   "execution_count": 48,
   "metadata": {
    "colab": {
     "base_uri": "https://localhost:8080/"
    },
    "id": "aYNkSBT7ewOR",
    "outputId": "60be0fd4-2c15-479f-b85a-ee827af13695"
   },
   "outputs": [
    {
     "name": "stdout",
     "output_type": "stream",
     "text": [
      "[[0.         0.25       0.25       0.25       0.25      ]\n",
      " [0.33333333 0.         0.33333333 0.33333333 0.        ]]\n"
     ]
    }
   ],
   "source": [
    "print(matriks_TF)"
   ]
  },
  {
   "cell_type": "code",
   "execution_count": 49,
   "metadata": {
    "colab": {
     "base_uri": "https://localhost:8080/",
     "height": 112
    },
    "id": "hKZwE7NqeyLf",
    "outputId": "3340a872-4794-4d54-c02d-7581e7e3a290"
   },
   "outputs": [
    {
     "data": {
      "text/html": [
       "<div>\n",
       "<style scoped>\n",
       "    .dataframe tbody tr th:only-of-type {\n",
       "        vertical-align: middle;\n",
       "    }\n",
       "\n",
       "    .dataframe tbody tr th {\n",
       "        vertical-align: top;\n",
       "    }\n",
       "\n",
       "    .dataframe thead th {\n",
       "        text-align: right;\n",
       "    }\n",
       "</style>\n",
       "<table border=\"1\" class=\"dataframe\">\n",
       "  <thead>\n",
       "    <tr style=\"text-align: right;\">\n",
       "      <th></th>\n",
       "      <th>indonesia</th>\n",
       "      <th>matematika</th>\n",
       "      <th>pagi</th>\n",
       "      <th>selamat</th>\n",
       "      <th>uad</th>\n",
       "    </tr>\n",
       "  </thead>\n",
       "  <tbody>\n",
       "    <tr>\n",
       "      <td>Selamat Pagi Matematika UAD</td>\n",
       "      <td>0.000000</td>\n",
       "      <td>0.25</td>\n",
       "      <td>0.250000</td>\n",
       "      <td>0.250000</td>\n",
       "      <td>0.25</td>\n",
       "    </tr>\n",
       "    <tr>\n",
       "      <td>Selamat Pagi Indonesia</td>\n",
       "      <td>0.333333</td>\n",
       "      <td>0.00</td>\n",
       "      <td>0.333333</td>\n",
       "      <td>0.333333</td>\n",
       "      <td>0.00</td>\n",
       "    </tr>\n",
       "  </tbody>\n",
       "</table>\n",
       "</div>"
      ],
      "text/plain": [
       "                             indonesia  matematika      pagi   selamat   uad\n",
       "Selamat Pagi Matematika UAD   0.000000        0.25  0.250000  0.250000  0.25\n",
       "Selamat Pagi Indonesia        0.333333        0.00  0.333333  0.333333  0.00"
      ]
     },
     "execution_count": 49,
     "metadata": {},
     "output_type": "execute_result"
    }
   ],
   "source": [
    "df_TF = pd.DataFrame(matriks_TF, columns=kosa_kata, index=df_teks.Text.tolist())\n",
    "df_TF"
   ]
  },
  {
   "cell_type": "markdown",
   "metadata": {
    "id": "w3UD9RNoe0Z3"
   },
   "source": [
    "Membuat Baris IDF"
   ]
  },
  {
   "cell_type": "code",
   "execution_count": 50,
   "metadata": {
    "colab": {
     "base_uri": "https://localhost:8080/"
    },
    "id": "aKirntGQe2n0",
    "outputId": "32f959f5-0589-4fe5-f9ad-60896767c44a"
   },
   "outputs": [
    {
     "data": {
      "text/plain": [
       "[1.4054651081081644, 1.4054651081081644, 1.0, 1.0, 1.4054651081081644]"
      ]
     },
     "execution_count": 50,
     "metadata": {},
     "output_type": "execute_result"
    }
   ],
   "source": [
    "baris_IDF=[]\n",
    "for kolom in df_TF.columns:\n",
    "    N=len(df_teks.Text)\n",
    "    kal_kata = len(df_TF[df_TF[kolom]>0])\n",
    "    baris_idf = (math.log((1+N)/(1+kal_kata)))+1\n",
    "    baris_IDF.append(baris_idf)\n",
    "baris_IDF"
   ]
  },
  {
   "cell_type": "markdown",
   "metadata": {
    "id": "bli1y9jKe4wC"
   },
   "source": [
    "Membuat Matriks TFIDF"
   ]
  },
  {
   "cell_type": "code",
   "execution_count": 51,
   "metadata": {
    "id": "LAf5lsUse8Lx"
   },
   "outputs": [],
   "source": [
    "vektor_TFIDF = np.array([])\n",
    "for baris in matriks_TF:\n",
    "    baris_tfidf=np.multiply(baris, baris_IDF)\n",
    "    vektor_TFIDF=np.concatenate((vektor_TFIDF, baris_tfidf), axis=0)\n",
    "\n",
    "    \n",
    "matriks_TFIDF = vektor_TFIDF.reshape(df_teks.shape[0], jumlah_kosa_kata)\n",
    "matriks_TFIDF = normalize(matriks_TFIDF)"
   ]
  },
  {
   "cell_type": "markdown",
   "metadata": {
    "id": "I8sFg23Pe-MF"
   },
   "source": [
    "Membuat DataFrame TFIDF"
   ]
  },
  {
   "cell_type": "code",
   "execution_count": 52,
   "metadata": {
    "colab": {
     "base_uri": "https://localhost:8080/",
     "height": 112
    },
    "id": "CUEHG525fAH-",
    "outputId": "b6287edc-583b-43e4-9a3c-baaeb7162b96"
   },
   "outputs": [
    {
     "data": {
      "text/html": [
       "<div>\n",
       "<style scoped>\n",
       "    .dataframe tbody tr th:only-of-type {\n",
       "        vertical-align: middle;\n",
       "    }\n",
       "\n",
       "    .dataframe tbody tr th {\n",
       "        vertical-align: top;\n",
       "    }\n",
       "\n",
       "    .dataframe thead th {\n",
       "        text-align: right;\n",
       "    }\n",
       "</style>\n",
       "<table border=\"1\" class=\"dataframe\">\n",
       "  <thead>\n",
       "    <tr style=\"text-align: right;\">\n",
       "      <th></th>\n",
       "      <th>indonesia</th>\n",
       "      <th>matematika</th>\n",
       "      <th>pagi</th>\n",
       "      <th>selamat</th>\n",
       "      <th>uad</th>\n",
       "    </tr>\n",
       "  </thead>\n",
       "  <tbody>\n",
       "    <tr>\n",
       "      <td>Selamat Pagi Matematika UAD</td>\n",
       "      <td>0.000000</td>\n",
       "      <td>0.576152</td>\n",
       "      <td>0.409937</td>\n",
       "      <td>0.409937</td>\n",
       "      <td>0.576152</td>\n",
       "    </tr>\n",
       "    <tr>\n",
       "      <td>Selamat Pagi Indonesia</td>\n",
       "      <td>0.704909</td>\n",
       "      <td>0.000000</td>\n",
       "      <td>0.501549</td>\n",
       "      <td>0.501549</td>\n",
       "      <td>0.000000</td>\n",
       "    </tr>\n",
       "  </tbody>\n",
       "</table>\n",
       "</div>"
      ],
      "text/plain": [
       "                             indonesia  matematika      pagi   selamat  \\\n",
       "Selamat Pagi Matematika UAD   0.000000    0.576152  0.409937  0.409937   \n",
       "Selamat Pagi Indonesia        0.704909    0.000000  0.501549  0.501549   \n",
       "\n",
       "                                  uad  \n",
       "Selamat Pagi Matematika UAD  0.576152  \n",
       "Selamat Pagi Indonesia       0.000000  "
      ]
     },
     "execution_count": 52,
     "metadata": {},
     "output_type": "execute_result"
    }
   ],
   "source": [
    "df_TF_IDF = pd.DataFrame(matriks_TFIDF,columns=kosa_kata, index=df_teks.Text.tolist())\n",
    "df_TF_IDF"
   ]
  },
  {
   "cell_type": "markdown",
   "metadata": {
    "id": "mJUieQGMfCPt"
   },
   "source": [
    "Membuat Fungsi TFIDF()"
   ]
  },
  {
   "cell_type": "code",
   "execution_count": 53,
   "metadata": {
    "id": "Z06jXSSkfJSC"
   },
   "outputs": [],
   "source": [
    "# Import Modul yang diperlukan\n",
    "import pandas as pd\n",
    "import numpy as np\n",
    "from nltk.tokenize import word_tokenize\n",
    "import math\n",
    "from sklearn.preprocessing import normalize\n",
    "\n",
    "def TF_IDF(df_teks):\n",
    "    # Membuat list kosa kata dari seluruh teks input\n",
    "    kosa_kata = set()\n",
    "    for i in df_teks.Text:\n",
    "        token_kal=set(word_tokenize(i.lower()))\n",
    "        kosa_kata=set.union(kosa_kata, token_kal)\n",
    "    kosa_kata = sorted(kosa_kata)\n",
    "    \n",
    "    # Membuat dictionary kata-kata\n",
    "    indeks_kata = {}\n",
    "    for kata in kosa_kata:\n",
    "        indeks_kata[kata]=0\n",
    "        \n",
    "    # Jumlah kosa kata (untuk kolom)\n",
    "    jumlah_kosa_kata=len(kosa_kata)\n",
    "    \n",
    "    # Membangun matriks kata TF\n",
    "    vektor_TF=np.array([])\n",
    "    for baris_teks in df_teks.Text:\n",
    "        baris_kata = indeks_kata.copy()\n",
    "        split_baris = baris_teks.lower().split()\n",
    "        for kata in baris_teks.lower().split():\n",
    "            baris_kata[kata]=+1\n",
    "        print(baris_kata)\n",
    "        baris_kata = np.array(list(baris_kata.values()))\n",
    "        baris_kata = baris_kata / len(split_baris)\n",
    "        vektor_TF = np.concatenate((vektor_TF, baris_kata), axis=0)\n",
    "    matriks_TF = vektor_TF.reshape(df.shape[0], jumlah_kosa_kata)\n",
    "    \n",
    "    # Membangun DataFrame kata TF\n",
    "    df_TF = pd.DataFrame(matriks_TF, columns=kosa_kata, index=df_teks.Text.tolist())\n",
    "    \n",
    "    # Menghitung baris IDF\n",
    "    baris_IDF=[]\n",
    "    for kolom in df_TF.columns:\n",
    "        N=len(df_teks.Text)\n",
    "        kal_kata = len(df_TF[df_TF[kolom]>0])\n",
    "        baris_idf = (math.log((1+N)/(1+kal_kata)))+1\n",
    "        baris_IDF.append(baris_idf)\n",
    "    \n",
    "    # Membuat matriks TF-ID\n",
    "    vektor_TFIDF = np.array([])\n",
    "    for baris in matriks_TF:\n",
    "        baris_tfidf=np.multiply(baris, baris_IDF)\n",
    "        vektor_TFIDF=np.concatenate((vektor_TFIDF, baris_tfidf), axis=0)    \n",
    "    matriks_TFIDF = vektor_TFIDF.reshape(df_teks.shape[0], jumlah_kosa_kata)\n",
    "    matriks_TFIDF = normalize(matriks_TFIDF)\n",
    "    \n",
    "    # Membuat DataFrame TF-IDF\n",
    "    df_TF_IDF = pd.DataFrame(matriks_TFIDF,columns=kosa_kata, index=df_teks.Text.tolist())\n",
    "    return df_TF_IDF"
   ]
  },
  {
   "cell_type": "markdown",
   "metadata": {
    "id": "af0Agc7SfNZa"
   },
   "source": [
    "**Contoh Implementasi Fungsi TF_IDF()**"
   ]
  },
  {
   "cell_type": "code",
   "execution_count": 55,
   "metadata": {
    "colab": {
     "base_uri": "https://localhost:8080/",
     "height": 595
    },
    "id": "19YQOPGYfQnS",
    "outputId": "e4925b30-3e53-4098-f389-3a84525ab1fe"
   },
   "outputs": [
    {
     "data": {
      "text/html": [
       "<div>\n",
       "<style scoped>\n",
       "    .dataframe tbody tr th:only-of-type {\n",
       "        vertical-align: middle;\n",
       "    }\n",
       "\n",
       "    .dataframe tbody tr th {\n",
       "        vertical-align: top;\n",
       "    }\n",
       "\n",
       "    .dataframe thead th {\n",
       "        text-align: right;\n",
       "    }\n",
       "</style>\n",
       "<table border=\"1\" class=\"dataframe\">\n",
       "  <thead>\n",
       "    <tr style=\"text-align: right;\">\n",
       "      <th></th>\n",
       "      <th>Id</th>\n",
       "      <th>Sentiment</th>\n",
       "      <th>Pasangan Calon</th>\n",
       "      <th>Text Tweet</th>\n",
       "      <th>content_processed</th>\n",
       "    </tr>\n",
       "  </thead>\n",
       "  <tbody>\n",
       "    <tr>\n",
       "      <td>0</td>\n",
       "      <td>1</td>\n",
       "      <td>negative</td>\n",
       "      <td>Agus-Sylvi</td>\n",
       "      <td>Banyak akun kloning seolah2 pendukung # agussi...</td>\n",
       "      <td>akun kloning dukung agussilvy serang paslon an...</td>\n",
       "    </tr>\n",
       "    <tr>\n",
       "      <td>1</td>\n",
       "      <td>2</td>\n",
       "      <td>negative</td>\n",
       "      <td>Agus-Sylvi</td>\n",
       "      <td>#agussilvy bicara apa kasihan yaa...lap itu ai...</td>\n",
       "      <td>agussilvy bicara kasihan lap air mata wkwkwkwk</td>\n",
       "    </tr>\n",
       "    <tr>\n",
       "      <td>2</td>\n",
       "      <td>3</td>\n",
       "      <td>negative</td>\n",
       "      <td>Agus-Sylvi</td>\n",
       "      <td>Kalau aku sih gak nunggu hasil akhir QC tp lag...</td>\n",
       "      <td>enggak memenunggu qc memenunggu motif cuit sby...</td>\n",
       "    </tr>\n",
       "    <tr>\n",
       "      <td>3</td>\n",
       "      <td>4</td>\n",
       "      <td>negative</td>\n",
       "      <td>Agus-Sylvi</td>\n",
       "      <td>Kasian oh kasian dengan peluru 1milyar untuk t...</td>\n",
       "      <td>kasihh oh kasihh peluru rw agussilvy mempan me...</td>\n",
       "    </tr>\n",
       "    <tr>\n",
       "      <td>4</td>\n",
       "      <td>5</td>\n",
       "      <td>negative</td>\n",
       "      <td>Agus-Sylvi</td>\n",
       "      <td>Maaf ya pendukung #AgusSilvy..hayo dukung #Ani...</td>\n",
       "      <td>dukung agussilvy hayo dukung aniessandi putar ...</td>\n",
       "    </tr>\n",
       "    <tr>\n",
       "      <td>...</td>\n",
       "      <td>...</td>\n",
       "      <td>...</td>\n",
       "      <td>...</td>\n",
       "      <td>...</td>\n",
       "      <td>...</td>\n",
       "    </tr>\n",
       "    <tr>\n",
       "      <td>895</td>\n",
       "      <td>896</td>\n",
       "      <td>positive</td>\n",
       "      <td>Anies-Sandi</td>\n",
       "      <td>Kali saja bpk @aniesbaswedan @sandiuno lihat, ...</td>\n",
       "      <td>bpk aniesbaswedan sandiuno lihat rspun selfie ...</td>\n",
       "    </tr>\n",
       "    <tr>\n",
       "      <td>896</td>\n",
       "      <td>897</td>\n",
       "      <td>positive</td>\n",
       "      <td>Anies-Sandi</td>\n",
       "      <td>Kita harus dapat merangkul semua orang tanpa b...</td>\n",
       "      <td>rangkul batas usia kelamin okeoce ok hand sala...</td>\n",
       "    </tr>\n",
       "    <tr>\n",
       "      <td>897</td>\n",
       "      <td>898</td>\n",
       "      <td>positive</td>\n",
       "      <td>Anies-Sandi</td>\n",
       "      <td>Ini jagoanku dibidang digital &lt;Smiling Face Wi...</td>\n",
       "      <td>jago bidang digital smiling face with sunglass...</td>\n",
       "    </tr>\n",
       "    <tr>\n",
       "      <td>898</td>\n",
       "      <td>899</td>\n",
       "      <td>positive</td>\n",
       "      <td>Anies-Sandi</td>\n",
       "      <td>#PesanBijak #OkeOce #GubernurGu3 ...</td>\n",
       "      <td>pesanbijak okeoce</td>\n",
       "    </tr>\n",
       "    <tr>\n",
       "      <td>899</td>\n",
       "      <td>900</td>\n",
       "      <td>positive</td>\n",
       "      <td>Anies-Sandi</td>\n",
       "      <td>Sandiaga: Bangun Rumah DP  Lebih Simpel Diband...</td>\n",
       "      <td>sandiaga bangun rumah dp simpel banding tol ci...</td>\n",
       "    </tr>\n",
       "  </tbody>\n",
       "</table>\n",
       "<p>900 rows × 5 columns</p>\n",
       "</div>"
      ],
      "text/plain": [
       "      Id Sentiment Pasangan Calon  \\\n",
       "0      1  negative     Agus-Sylvi   \n",
       "1      2  negative     Agus-Sylvi   \n",
       "2      3  negative     Agus-Sylvi   \n",
       "3      4  negative     Agus-Sylvi   \n",
       "4      5  negative     Agus-Sylvi   \n",
       "..   ...       ...            ...   \n",
       "895  896  positive    Anies-Sandi   \n",
       "896  897  positive    Anies-Sandi   \n",
       "897  898  positive    Anies-Sandi   \n",
       "898  899  positive    Anies-Sandi   \n",
       "899  900  positive    Anies-Sandi   \n",
       "\n",
       "                                            Text Tweet  \\\n",
       "0    Banyak akun kloning seolah2 pendukung # agussi...   \n",
       "1    #agussilvy bicara apa kasihan yaa...lap itu ai...   \n",
       "2    Kalau aku sih gak nunggu hasil akhir QC tp lag...   \n",
       "3    Kasian oh kasian dengan peluru 1milyar untuk t...   \n",
       "4    Maaf ya pendukung #AgusSilvy..hayo dukung #Ani...   \n",
       "..                                                 ...   \n",
       "895  Kali saja bpk @aniesbaswedan @sandiuno lihat, ...   \n",
       "896  Kita harus dapat merangkul semua orang tanpa b...   \n",
       "897  Ini jagoanku dibidang digital <Smiling Face Wi...   \n",
       "898               #PesanBijak #OkeOce #GubernurGu3 ...   \n",
       "899  Sandiaga: Bangun Rumah DP  Lebih Simpel Diband...   \n",
       "\n",
       "                                     content_processed  \n",
       "0    akun kloning dukung agussilvy serang paslon an...  \n",
       "1       agussilvy bicara kasihan lap air mata wkwkwkwk  \n",
       "2    enggak memenunggu qc memenunggu motif cuit sby...  \n",
       "3    kasihh oh kasihh peluru rw agussilvy mempan me...  \n",
       "4    dukung agussilvy hayo dukung aniessandi putar ...  \n",
       "..                                                 ...  \n",
       "895  bpk aniesbaswedan sandiuno lihat rspun selfie ...  \n",
       "896  rangkul batas usia kelamin okeoce ok hand sala...  \n",
       "897  jago bidang digital smiling face with sunglass...  \n",
       "898                                  pesanbijak okeoce  \n",
       "899  sandiaga bangun rumah dp simpel banding tol ci...  \n",
       "\n",
       "[900 rows x 5 columns]"
      ]
     },
     "execution_count": 55,
     "metadata": {},
     "output_type": "execute_result"
    }
   ],
   "source": [
    "import pandas as pd\n",
    "df = pd.read_csv('Pilkada_DKI.csv')\n",
    "df"
   ]
  },
  {
   "cell_type": "code",
   "execution_count": 56,
   "metadata": {
    "colab": {
     "base_uri": "https://localhost:8080/",
     "height": 422
    },
    "id": "CMvVCES3fT_d",
    "outputId": "fcddd880-7c1d-4eeb-e77b-4dfc0ddbbf69"
   },
   "outputs": [
    {
     "data": {
      "text/html": [
       "<div>\n",
       "<style scoped>\n",
       "    .dataframe tbody tr th:only-of-type {\n",
       "        vertical-align: middle;\n",
       "    }\n",
       "\n",
       "    .dataframe tbody tr th {\n",
       "        vertical-align: top;\n",
       "    }\n",
       "\n",
       "    .dataframe thead th {\n",
       "        text-align: right;\n",
       "    }\n",
       "</style>\n",
       "<table border=\"1\" class=\"dataframe\">\n",
       "  <thead>\n",
       "    <tr style=\"text-align: right;\">\n",
       "      <th></th>\n",
       "      <th>content_processed</th>\n",
       "    </tr>\n",
       "  </thead>\n",
       "  <tbody>\n",
       "    <tr>\n",
       "      <td>0</td>\n",
       "      <td>akun kloning dukung agussilvy serang paslon an...</td>\n",
       "    </tr>\n",
       "    <tr>\n",
       "      <td>1</td>\n",
       "      <td>agussilvy bicara kasihan lap air mata wkwkwkwk</td>\n",
       "    </tr>\n",
       "    <tr>\n",
       "      <td>2</td>\n",
       "      <td>enggak memenunggu qc memenunggu motif cuit sby...</td>\n",
       "    </tr>\n",
       "    <tr>\n",
       "      <td>3</td>\n",
       "      <td>kasihh oh kasihh peluru rw agussilvy mempan me...</td>\n",
       "    </tr>\n",
       "    <tr>\n",
       "      <td>4</td>\n",
       "      <td>dukung agussilvy hayo dukung aniessandi putar ...</td>\n",
       "    </tr>\n",
       "    <tr>\n",
       "      <td>...</td>\n",
       "      <td>...</td>\n",
       "    </tr>\n",
       "    <tr>\n",
       "      <td>895</td>\n",
       "      <td>bpk aniesbaswedan sandiuno lihat rspun selfie ...</td>\n",
       "    </tr>\n",
       "    <tr>\n",
       "      <td>896</td>\n",
       "      <td>rangkul batas usia kelamin okeoce ok hand sala...</td>\n",
       "    </tr>\n",
       "    <tr>\n",
       "      <td>897</td>\n",
       "      <td>jago bidang digital smiling face with sunglass...</td>\n",
       "    </tr>\n",
       "    <tr>\n",
       "      <td>898</td>\n",
       "      <td>pesanbijak okeoce</td>\n",
       "    </tr>\n",
       "    <tr>\n",
       "      <td>899</td>\n",
       "      <td>sandiaga bangun rumah dp simpel banding tol ci...</td>\n",
       "    </tr>\n",
       "  </tbody>\n",
       "</table>\n",
       "<p>900 rows × 1 columns</p>\n",
       "</div>"
      ],
      "text/plain": [
       "                                     content_processed\n",
       "0    akun kloning dukung agussilvy serang paslon an...\n",
       "1       agussilvy bicara kasihan lap air mata wkwkwkwk\n",
       "2    enggak memenunggu qc memenunggu motif cuit sby...\n",
       "3    kasihh oh kasihh peluru rw agussilvy mempan me...\n",
       "4    dukung agussilvy hayo dukung aniessandi putar ...\n",
       "..                                                 ...\n",
       "895  bpk aniesbaswedan sandiuno lihat rspun selfie ...\n",
       "896  rangkul batas usia kelamin okeoce ok hand sala...\n",
       "897  jago bidang digital smiling face with sunglass...\n",
       "898                                  pesanbijak okeoce\n",
       "899  sandiaga bangun rumah dp simpel banding tol ci...\n",
       "\n",
       "[900 rows x 1 columns]"
      ]
     },
     "execution_count": 56,
     "metadata": {},
     "output_type": "execute_result"
    }
   ],
   "source": [
    "df_teks = pd.DataFrame(df['content_processed'])\n",
    "df_teks"
   ]
  },
  {
   "cell_type": "code",
   "execution_count": 57,
   "metadata": {
    "id": "oZPc3ig8faZH"
   },
   "outputs": [],
   "source": [
    "# Import Modul yang diperlukan\n",
    "import pandas as pd\n",
    "import numpy as np\n",
    "from nltk.tokenize import word_tokenize\n",
    "import math\n",
    "from sklearn.preprocessing import normalize\n",
    "\n",
    "def TF_IDF(df_teks):\n",
    "    # Membuat list kosa kata dari seluruh teks input\n",
    "    kosa_kata = set()\n",
    "    for i in df_teks.content_processed:\n",
    "        token_kal=set(word_tokenize(i.lower()))\n",
    "        kosa_kata=set.union(kosa_kata, token_kal)\n",
    "    kosa_kata = sorted(kosa_kata)\n",
    "    \n",
    "    # Membuat dictionary kata-kata\n",
    "    indeks_kata = {}\n",
    "    for kata in kosa_kata:\n",
    "        indeks_kata[kata]=0\n",
    "        \n",
    "    # Jumlah kosa kata (untuk kolom)\n",
    "    jumlah_kosa_kata=len(kosa_kata)\n",
    "    \n",
    "    # Membangun matriks kata TF\n",
    "    vektor_TF=np.array([])\n",
    "    for baris_teks in df_teks.content_processed:\n",
    "        baris_kata = indeks_kata.copy()\n",
    "        split_baris = baris_teks.lower().split()\n",
    "        for kata in baris_teks.lower().split():\n",
    "            baris_kata[kata]=+1\n",
    "        baris_kata = np.array(list(baris_kata.values()))\n",
    "        baris_kata = baris_kata / len(split_baris)\n",
    "        vektor_TF = np.concatenate((vektor_TF, baris_kata), axis=0)\n",
    "    matriks_TF = vektor_TF.reshape(df.shape[0], jumlah_kosa_kata)\n",
    "    \n",
    "    # Membangun DataFrame kata TF\n",
    "    df_TF = pd.DataFrame(matriks_TF, columns=kosa_kata, index=df_teks.content_processed.tolist())\n",
    "    \n",
    "    # Menghitung baris IDF\n",
    "    baris_IDF=[]\n",
    "    for kolom in df_TF.columns:\n",
    "        N=len(df_teks.content_processed)\n",
    "        kal_kata = len(df_TF[df_TF[kolom]>0])\n",
    "        baris_idf = (math.log((1+N)/(1+kal_kata)))+1\n",
    "        baris_IDF.append(baris_idf)\n",
    "    \n",
    "    # Membuat matriks TF-ID\n",
    "    vektor_TFIDF = np.array([])\n",
    "    for baris in matriks_TF:\n",
    "        baris_tfidf=np.multiply(baris, baris_IDF)\n",
    "        vektor_TFIDF=np.concatenate((vektor_TFIDF, baris_tfidf), axis=0)    \n",
    "    matriks_TFIDF = vektor_TFIDF.reshape(df_teks.shape[0], jumlah_kosa_kata)\n",
    "    matriks_TFIDF = normalize(matriks_TFIDF)\n",
    "    \n",
    "    # Membuat DataFrame TF-IDF\n",
    "    df_TF_IDF = pd.DataFrame(matriks_TFIDF, columns=kosa_kata, index=df_teks.content_processed.tolist())\n",
    "    df_TF_IDF = df_TF_IDF.astype('int')\n",
    "    return df_TF_IDF"
   ]
  },
  {
   "cell_type": "code",
   "execution_count": 58,
   "metadata": {
    "colab": {
     "base_uri": "https://localhost:8080/",
     "height": 995
    },
    "id": "aYVpceZkfc6u",
    "outputId": "49aee64b-2616-4c37-e794-f298f0bff6d3"
   },
   "outputs": [
    {
     "data": {
      "text/html": [
       "<div>\n",
       "<style scoped>\n",
       "    .dataframe tbody tr th:only-of-type {\n",
       "        vertical-align: middle;\n",
       "    }\n",
       "\n",
       "    .dataframe tbody tr th {\n",
       "        vertical-align: top;\n",
       "    }\n",
       "\n",
       "    .dataframe thead th {\n",
       "        text-align: right;\n",
       "    }\n",
       "</style>\n",
       "<table border=\"1\" class=\"dataframe\">\n",
       "  <thead>\n",
       "    <tr style=\"text-align: right;\">\n",
       "      <th></th>\n",
       "      <th>a</th>\n",
       "      <th>aa</th>\n",
       "      <th>aagym</th>\n",
       "      <th>abaaah</th>\n",
       "      <th>abal</th>\n",
       "      <th>abang</th>\n",
       "      <th>abdi</th>\n",
       "      <th>absurd</th>\n",
       "      <th>abunawas</th>\n",
       "      <th>aburizal</th>\n",
       "      <th>...</th>\n",
       "      <th>yra</th>\n",
       "      <th>yudhoyono</th>\n",
       "      <th>yuk</th>\n",
       "      <th>yusuf</th>\n",
       "      <th>zalim</th>\n",
       "      <th>zaraz</th>\n",
       "      <th>zarazettirazr</th>\n",
       "      <th>zarazettirazz</th>\n",
       "      <th>zipper</th>\n",
       "      <th>zona</th>\n",
       "    </tr>\n",
       "  </thead>\n",
       "  <tbody>\n",
       "    <tr>\n",
       "      <td>akun kloning dukung agussilvy serang paslon aniessandi opini argumen pmbenaran kecoh</td>\n",
       "      <td>0</td>\n",
       "      <td>0</td>\n",
       "      <td>0</td>\n",
       "      <td>0</td>\n",
       "      <td>0</td>\n",
       "      <td>0</td>\n",
       "      <td>0</td>\n",
       "      <td>0</td>\n",
       "      <td>0</td>\n",
       "      <td>0</td>\n",
       "      <td>...</td>\n",
       "      <td>0</td>\n",
       "      <td>0</td>\n",
       "      <td>0</td>\n",
       "      <td>0</td>\n",
       "      <td>0</td>\n",
       "      <td>0</td>\n",
       "      <td>0</td>\n",
       "      <td>0</td>\n",
       "      <td>0</td>\n",
       "      <td>0</td>\n",
       "    </tr>\n",
       "    <tr>\n",
       "      <td>agussilvy bicara kasihan lap air mata wkwkwkwk</td>\n",
       "      <td>0</td>\n",
       "      <td>0</td>\n",
       "      <td>0</td>\n",
       "      <td>0</td>\n",
       "      <td>0</td>\n",
       "      <td>0</td>\n",
       "      <td>0</td>\n",
       "      <td>0</td>\n",
       "      <td>0</td>\n",
       "      <td>0</td>\n",
       "      <td>...</td>\n",
       "      <td>0</td>\n",
       "      <td>0</td>\n",
       "      <td>0</td>\n",
       "      <td>0</td>\n",
       "      <td>0</td>\n",
       "      <td>0</td>\n",
       "      <td>0</td>\n",
       "      <td>0</td>\n",
       "      <td>0</td>\n",
       "      <td>0</td>\n",
       "    </tr>\n",
       "    <tr>\n",
       "      <td>enggak memenunggu qc memenunggu motif cuit sbyudhoyono pasca agussilvy nyungsep</td>\n",
       "      <td>0</td>\n",
       "      <td>0</td>\n",
       "      <td>0</td>\n",
       "      <td>0</td>\n",
       "      <td>0</td>\n",
       "      <td>0</td>\n",
       "      <td>0</td>\n",
       "      <td>0</td>\n",
       "      <td>0</td>\n",
       "      <td>0</td>\n",
       "      <td>...</td>\n",
       "      <td>0</td>\n",
       "      <td>0</td>\n",
       "      <td>0</td>\n",
       "      <td>0</td>\n",
       "      <td>0</td>\n",
       "      <td>0</td>\n",
       "      <td>0</td>\n",
       "      <td>0</td>\n",
       "      <td>0</td>\n",
       "      <td>0</td>\n",
       "    </tr>\n",
       "    <tr>\n",
       "      <td>kasihh oh kasihh peluru rw agussilvy mempan menangin pilkada quickcount</td>\n",
       "      <td>0</td>\n",
       "      <td>0</td>\n",
       "      <td>0</td>\n",
       "      <td>0</td>\n",
       "      <td>0</td>\n",
       "      <td>0</td>\n",
       "      <td>0</td>\n",
       "      <td>0</td>\n",
       "      <td>0</td>\n",
       "      <td>0</td>\n",
       "      <td>...</td>\n",
       "      <td>0</td>\n",
       "      <td>0</td>\n",
       "      <td>0</td>\n",
       "      <td>0</td>\n",
       "      <td>0</td>\n",
       "      <td>0</td>\n",
       "      <td>0</td>\n",
       "      <td>0</td>\n",
       "      <td>0</td>\n",
       "      <td>0</td>\n",
       "    </tr>\n",
       "    <tr>\n",
       "      <td>dukung agussilvy hayo dukung aniessandi putar ronavioleta netizentofa</td>\n",
       "      <td>0</td>\n",
       "      <td>0</td>\n",
       "      <td>0</td>\n",
       "      <td>0</td>\n",
       "      <td>0</td>\n",
       "      <td>0</td>\n",
       "      <td>0</td>\n",
       "      <td>0</td>\n",
       "      <td>0</td>\n",
       "      <td>0</td>\n",
       "      <td>...</td>\n",
       "      <td>0</td>\n",
       "      <td>0</td>\n",
       "      <td>0</td>\n",
       "      <td>0</td>\n",
       "      <td>0</td>\n",
       "      <td>0</td>\n",
       "      <td>0</td>\n",
       "      <td>0</td>\n",
       "      <td>0</td>\n",
       "      <td>0</td>\n",
       "    </tr>\n",
       "    <tr>\n",
       "      <td>...</td>\n",
       "      <td>...</td>\n",
       "      <td>...</td>\n",
       "      <td>...</td>\n",
       "      <td>...</td>\n",
       "      <td>...</td>\n",
       "      <td>...</td>\n",
       "      <td>...</td>\n",
       "      <td>...</td>\n",
       "      <td>...</td>\n",
       "      <td>...</td>\n",
       "      <td>...</td>\n",
       "      <td>...</td>\n",
       "      <td>...</td>\n",
       "      <td>...</td>\n",
       "      <td>...</td>\n",
       "      <td>...</td>\n",
       "      <td>...</td>\n",
       "      <td>...</td>\n",
       "      <td>...</td>\n",
       "      <td>...</td>\n",
       "      <td>...</td>\n",
       "    </tr>\n",
       "    <tr>\n",
       "      <td>bpk aniesbaswedan sandiuno lihat rspun selfie okeoce ok hand debatpilkadadki ahokpanikahokkalah</td>\n",
       "      <td>0</td>\n",
       "      <td>0</td>\n",
       "      <td>0</td>\n",
       "      <td>0</td>\n",
       "      <td>0</td>\n",
       "      <td>0</td>\n",
       "      <td>0</td>\n",
       "      <td>0</td>\n",
       "      <td>0</td>\n",
       "      <td>0</td>\n",
       "      <td>...</td>\n",
       "      <td>0</td>\n",
       "      <td>0</td>\n",
       "      <td>0</td>\n",
       "      <td>0</td>\n",
       "      <td>0</td>\n",
       "      <td>0</td>\n",
       "      <td>0</td>\n",
       "      <td>0</td>\n",
       "      <td>0</td>\n",
       "      <td>0</td>\n",
       "    </tr>\n",
       "    <tr>\n",
       "      <td>rangkul batas usia kelamin okeoce ok hand salambersama pks temanahok victory hand</td>\n",
       "      <td>0</td>\n",
       "      <td>0</td>\n",
       "      <td>0</td>\n",
       "      <td>0</td>\n",
       "      <td>0</td>\n",
       "      <td>0</td>\n",
       "      <td>0</td>\n",
       "      <td>0</td>\n",
       "      <td>0</td>\n",
       "      <td>0</td>\n",
       "      <td>...</td>\n",
       "      <td>0</td>\n",
       "      <td>0</td>\n",
       "      <td>0</td>\n",
       "      <td>0</td>\n",
       "      <td>0</td>\n",
       "      <td>0</td>\n",
       "      <td>0</td>\n",
       "      <td>0</td>\n",
       "      <td>0</td>\n",
       "      <td>0</td>\n",
       "    </tr>\n",
       "    <tr>\n",
       "      <td>jago bidang digital smiling face with sunglasses ok hand thonyleong okeoce salambersama</td>\n",
       "      <td>0</td>\n",
       "      <td>0</td>\n",
       "      <td>0</td>\n",
       "      <td>0</td>\n",
       "      <td>0</td>\n",
       "      <td>0</td>\n",
       "      <td>0</td>\n",
       "      <td>0</td>\n",
       "      <td>0</td>\n",
       "      <td>0</td>\n",
       "      <td>...</td>\n",
       "      <td>0</td>\n",
       "      <td>0</td>\n",
       "      <td>0</td>\n",
       "      <td>0</td>\n",
       "      <td>0</td>\n",
       "      <td>0</td>\n",
       "      <td>0</td>\n",
       "      <td>0</td>\n",
       "      <td>0</td>\n",
       "      <td>0</td>\n",
       "    </tr>\n",
       "    <tr>\n",
       "      <td>pesanbijak okeoce</td>\n",
       "      <td>0</td>\n",
       "      <td>0</td>\n",
       "      <td>0</td>\n",
       "      <td>0</td>\n",
       "      <td>0</td>\n",
       "      <td>0</td>\n",
       "      <td>0</td>\n",
       "      <td>0</td>\n",
       "      <td>0</td>\n",
       "      <td>0</td>\n",
       "      <td>...</td>\n",
       "      <td>0</td>\n",
       "      <td>0</td>\n",
       "      <td>0</td>\n",
       "      <td>0</td>\n",
       "      <td>0</td>\n",
       "      <td>0</td>\n",
       "      <td>0</td>\n",
       "      <td>0</td>\n",
       "      <td>0</td>\n",
       "      <td>0</td>\n",
       "    </tr>\n",
       "    <tr>\n",
       "      <td>sandiaga bangun rumah dp simpel banding tol cipali aniessandijawarajakarta okeoce</td>\n",
       "      <td>0</td>\n",
       "      <td>0</td>\n",
       "      <td>0</td>\n",
       "      <td>0</td>\n",
       "      <td>0</td>\n",
       "      <td>0</td>\n",
       "      <td>0</td>\n",
       "      <td>0</td>\n",
       "      <td>0</td>\n",
       "      <td>0</td>\n",
       "      <td>...</td>\n",
       "      <td>0</td>\n",
       "      <td>0</td>\n",
       "      <td>0</td>\n",
       "      <td>0</td>\n",
       "      <td>0</td>\n",
       "      <td>0</td>\n",
       "      <td>0</td>\n",
       "      <td>0</td>\n",
       "      <td>0</td>\n",
       "      <td>0</td>\n",
       "    </tr>\n",
       "  </tbody>\n",
       "</table>\n",
       "<p>900 rows × 2458 columns</p>\n",
       "</div>"
      ],
      "text/plain": [
       "                                                    a  aa  aagym  abaaah  \\\n",
       "akun kloning dukung agussilvy serang paslon ani...  0   0      0       0   \n",
       "agussilvy bicara kasihan lap air mata wkwkwkwk      0   0      0       0   \n",
       "enggak memenunggu qc memenunggu motif cuit sbyu...  0   0      0       0   \n",
       "kasihh oh kasihh peluru rw agussilvy mempan men...  0   0      0       0   \n",
       "dukung agussilvy hayo dukung aniessandi putar r...  0   0      0       0   \n",
       "...                                                ..  ..    ...     ...   \n",
       "bpk aniesbaswedan sandiuno lihat rspun selfie o...  0   0      0       0   \n",
       "rangkul batas usia kelamin okeoce ok hand salam...  0   0      0       0   \n",
       "jago bidang digital smiling face with sunglasse...  0   0      0       0   \n",
       "pesanbijak okeoce                                   0   0      0       0   \n",
       "sandiaga bangun rumah dp simpel banding tol cip...  0   0      0       0   \n",
       "\n",
       "                                                    abal  abang  abdi  absurd  \\\n",
       "akun kloning dukung agussilvy serang paslon ani...     0      0     0       0   \n",
       "agussilvy bicara kasihan lap air mata wkwkwkwk         0      0     0       0   \n",
       "enggak memenunggu qc memenunggu motif cuit sbyu...     0      0     0       0   \n",
       "kasihh oh kasihh peluru rw agussilvy mempan men...     0      0     0       0   \n",
       "dukung agussilvy hayo dukung aniessandi putar r...     0      0     0       0   \n",
       "...                                                  ...    ...   ...     ...   \n",
       "bpk aniesbaswedan sandiuno lihat rspun selfie o...     0      0     0       0   \n",
       "rangkul batas usia kelamin okeoce ok hand salam...     0      0     0       0   \n",
       "jago bidang digital smiling face with sunglasse...     0      0     0       0   \n",
       "pesanbijak okeoce                                      0      0     0       0   \n",
       "sandiaga bangun rumah dp simpel banding tol cip...     0      0     0       0   \n",
       "\n",
       "                                                    abunawas  aburizal  ...  \\\n",
       "akun kloning dukung agussilvy serang paslon ani...         0         0  ...   \n",
       "agussilvy bicara kasihan lap air mata wkwkwkwk             0         0  ...   \n",
       "enggak memenunggu qc memenunggu motif cuit sbyu...         0         0  ...   \n",
       "kasihh oh kasihh peluru rw agussilvy mempan men...         0         0  ...   \n",
       "dukung agussilvy hayo dukung aniessandi putar r...         0         0  ...   \n",
       "...                                                      ...       ...  ...   \n",
       "bpk aniesbaswedan sandiuno lihat rspun selfie o...         0         0  ...   \n",
       "rangkul batas usia kelamin okeoce ok hand salam...         0         0  ...   \n",
       "jago bidang digital smiling face with sunglasse...         0         0  ...   \n",
       "pesanbijak okeoce                                          0         0  ...   \n",
       "sandiaga bangun rumah dp simpel banding tol cip...         0         0  ...   \n",
       "\n",
       "                                                    yra  yudhoyono  yuk  \\\n",
       "akun kloning dukung agussilvy serang paslon ani...    0          0    0   \n",
       "agussilvy bicara kasihan lap air mata wkwkwkwk        0          0    0   \n",
       "enggak memenunggu qc memenunggu motif cuit sbyu...    0          0    0   \n",
       "kasihh oh kasihh peluru rw agussilvy mempan men...    0          0    0   \n",
       "dukung agussilvy hayo dukung aniessandi putar r...    0          0    0   \n",
       "...                                                 ...        ...  ...   \n",
       "bpk aniesbaswedan sandiuno lihat rspun selfie o...    0          0    0   \n",
       "rangkul batas usia kelamin okeoce ok hand salam...    0          0    0   \n",
       "jago bidang digital smiling face with sunglasse...    0          0    0   \n",
       "pesanbijak okeoce                                     0          0    0   \n",
       "sandiaga bangun rumah dp simpel banding tol cip...    0          0    0   \n",
       "\n",
       "                                                    yusuf  zalim  zaraz  \\\n",
       "akun kloning dukung agussilvy serang paslon ani...      0      0      0   \n",
       "agussilvy bicara kasihan lap air mata wkwkwkwk          0      0      0   \n",
       "enggak memenunggu qc memenunggu motif cuit sbyu...      0      0      0   \n",
       "kasihh oh kasihh peluru rw agussilvy mempan men...      0      0      0   \n",
       "dukung agussilvy hayo dukung aniessandi putar r...      0      0      0   \n",
       "...                                                   ...    ...    ...   \n",
       "bpk aniesbaswedan sandiuno lihat rspun selfie o...      0      0      0   \n",
       "rangkul batas usia kelamin okeoce ok hand salam...      0      0      0   \n",
       "jago bidang digital smiling face with sunglasse...      0      0      0   \n",
       "pesanbijak okeoce                                       0      0      0   \n",
       "sandiaga bangun rumah dp simpel banding tol cip...      0      0      0   \n",
       "\n",
       "                                                    zarazettirazr  \\\n",
       "akun kloning dukung agussilvy serang paslon ani...              0   \n",
       "agussilvy bicara kasihan lap air mata wkwkwkwk                  0   \n",
       "enggak memenunggu qc memenunggu motif cuit sbyu...              0   \n",
       "kasihh oh kasihh peluru rw agussilvy mempan men...              0   \n",
       "dukung agussilvy hayo dukung aniessandi putar r...              0   \n",
       "...                                                           ...   \n",
       "bpk aniesbaswedan sandiuno lihat rspun selfie o...              0   \n",
       "rangkul batas usia kelamin okeoce ok hand salam...              0   \n",
       "jago bidang digital smiling face with sunglasse...              0   \n",
       "pesanbijak okeoce                                               0   \n",
       "sandiaga bangun rumah dp simpel banding tol cip...              0   \n",
       "\n",
       "                                                    zarazettirazz  zipper  \\\n",
       "akun kloning dukung agussilvy serang paslon ani...              0       0   \n",
       "agussilvy bicara kasihan lap air mata wkwkwkwk                  0       0   \n",
       "enggak memenunggu qc memenunggu motif cuit sbyu...              0       0   \n",
       "kasihh oh kasihh peluru rw agussilvy mempan men...              0       0   \n",
       "dukung agussilvy hayo dukung aniessandi putar r...              0       0   \n",
       "...                                                           ...     ...   \n",
       "bpk aniesbaswedan sandiuno lihat rspun selfie o...              0       0   \n",
       "rangkul batas usia kelamin okeoce ok hand salam...              0       0   \n",
       "jago bidang digital smiling face with sunglasse...              0       0   \n",
       "pesanbijak okeoce                                               0       0   \n",
       "sandiaga bangun rumah dp simpel banding tol cip...              0       0   \n",
       "\n",
       "                                                    zona  \n",
       "akun kloning dukung agussilvy serang paslon ani...     0  \n",
       "agussilvy bicara kasihan lap air mata wkwkwkwk         0  \n",
       "enggak memenunggu qc memenunggu motif cuit sbyu...     0  \n",
       "kasihh oh kasihh peluru rw agussilvy mempan men...     0  \n",
       "dukung agussilvy hayo dukung aniessandi putar r...     0  \n",
       "...                                                  ...  \n",
       "bpk aniesbaswedan sandiuno lihat rspun selfie o...     0  \n",
       "rangkul batas usia kelamin okeoce ok hand salam...     0  \n",
       "jago bidang digital smiling face with sunglasse...     0  \n",
       "pesanbijak okeoce                                      0  \n",
       "sandiaga bangun rumah dp simpel banding tol cip...     0  \n",
       "\n",
       "[900 rows x 2458 columns]"
      ]
     },
     "execution_count": 58,
     "metadata": {},
     "output_type": "execute_result"
    }
   ],
   "source": [
    "df_TF_IDF = TF_IDF(df_teks)\n",
    "df_TF_IDF"
   ]
  },
  {
   "cell_type": "code",
   "execution_count": 59,
   "metadata": {
    "id": "pBYogcD9ffOs"
   },
   "outputs": [],
   "source": [
    "df_TF_IDF.to_csv('Pilkada_DKI_TFIDF.csv', index=False)"
   ]
  },
  {
   "cell_type": "code",
   "execution_count": 60,
   "metadata": {
    "colab": {
     "base_uri": "https://localhost:8080/"
    },
    "id": "O04Ad052fg57",
    "outputId": "b2aa65d3-df67-46cf-9043-6157b9f1b067"
   },
   "outputs": [
    {
     "name": "stdout",
     "output_type": "stream",
     "text": [
      "<class 'pandas.core.frame.DataFrame'>\n",
      "Index: 900 entries, akun kloning dukung agussilvy serang paslon aniessandi opini argumen pmbenaran kecoh to sandiaga bangun rumah dp simpel banding tol cipali aniessandijawarajakarta okeoce\n",
      "Columns: 2458 entries, a to zona\n",
      "dtypes: int32(2458)\n",
      "memory usage: 8.4+ MB\n"
     ]
    }
   ],
   "source": [
    "df_TF_IDF.info()"
   ]
  },
  {
   "cell_type": "markdown",
   "metadata": {
    "id": "wMdRCl6AfjHG"
   },
   "source": [
    "##**Perbandingan dengan Scikit Learn Library**"
   ]
  },
  {
   "cell_type": "markdown",
   "metadata": {
    "id": "9U3SiRtKfnF3"
   },
   "source": [
    "Sebenarnya, kita bisa menghasilkan matriks TFIDF menggunakan Library Scikit Learn pada Class TfidfVectorizer\n",
    "\n"
   ]
  },
  {
   "cell_type": "code",
   "execution_count": 61,
   "metadata": {
    "colab": {
     "base_uri": "https://localhost:8080/",
     "height": 1000
    },
    "id": "amAQr2zbfo7h",
    "outputId": "3d0e563c-a419-4436-cab1-8976af3e741a"
   },
   "outputs": [
    {
     "data": {
      "text/html": [
       "<div>\n",
       "<style scoped>\n",
       "    .dataframe tbody tr th:only-of-type {\n",
       "        vertical-align: middle;\n",
       "    }\n",
       "\n",
       "    .dataframe tbody tr th {\n",
       "        vertical-align: top;\n",
       "    }\n",
       "\n",
       "    .dataframe thead th {\n",
       "        text-align: right;\n",
       "    }\n",
       "</style>\n",
       "<table border=\"1\" class=\"dataframe\">\n",
       "  <thead>\n",
       "    <tr style=\"text-align: right;\">\n",
       "      <th></th>\n",
       "      <th>aa</th>\n",
       "      <th>aagym</th>\n",
       "      <th>abaaah</th>\n",
       "      <th>abal</th>\n",
       "      <th>abang</th>\n",
       "      <th>abdi</th>\n",
       "      <th>absurd</th>\n",
       "      <th>abunawas</th>\n",
       "      <th>aburizal</th>\n",
       "      <th>abused</th>\n",
       "      <th>...</th>\n",
       "      <th>yra</th>\n",
       "      <th>yudhoyono</th>\n",
       "      <th>yuk</th>\n",
       "      <th>yusuf</th>\n",
       "      <th>zalim</th>\n",
       "      <th>zaraz</th>\n",
       "      <th>zarazettirazr</th>\n",
       "      <th>zarazettirazz</th>\n",
       "      <th>zipper</th>\n",
       "      <th>zona</th>\n",
       "    </tr>\n",
       "    <tr>\n",
       "      <th>content_processed</th>\n",
       "      <th></th>\n",
       "      <th></th>\n",
       "      <th></th>\n",
       "      <th></th>\n",
       "      <th></th>\n",
       "      <th></th>\n",
       "      <th></th>\n",
       "      <th></th>\n",
       "      <th></th>\n",
       "      <th></th>\n",
       "      <th></th>\n",
       "      <th></th>\n",
       "      <th></th>\n",
       "      <th></th>\n",
       "      <th></th>\n",
       "      <th></th>\n",
       "      <th></th>\n",
       "      <th></th>\n",
       "      <th></th>\n",
       "      <th></th>\n",
       "      <th></th>\n",
       "    </tr>\n",
       "  </thead>\n",
       "  <tbody>\n",
       "    <tr>\n",
       "      <td>akun kloning dukung agussilvy serang paslon aniessandi opini argumen pmbenaran kecoh</td>\n",
       "      <td>0.0</td>\n",
       "      <td>0.0</td>\n",
       "      <td>0.0</td>\n",
       "      <td>0.0</td>\n",
       "      <td>0.0</td>\n",
       "      <td>0.0</td>\n",
       "      <td>0.0</td>\n",
       "      <td>0.0</td>\n",
       "      <td>0.0</td>\n",
       "      <td>0.0</td>\n",
       "      <td>...</td>\n",
       "      <td>0.0</td>\n",
       "      <td>0.0</td>\n",
       "      <td>0.0</td>\n",
       "      <td>0.0</td>\n",
       "      <td>0.0</td>\n",
       "      <td>0.0</td>\n",
       "      <td>0.0</td>\n",
       "      <td>0.0</td>\n",
       "      <td>0.0</td>\n",
       "      <td>0.0</td>\n",
       "    </tr>\n",
       "    <tr>\n",
       "      <td>agussilvy bicara kasihan lap air mata wkwkwkwk</td>\n",
       "      <td>0.0</td>\n",
       "      <td>0.0</td>\n",
       "      <td>0.0</td>\n",
       "      <td>0.0</td>\n",
       "      <td>0.0</td>\n",
       "      <td>0.0</td>\n",
       "      <td>0.0</td>\n",
       "      <td>0.0</td>\n",
       "      <td>0.0</td>\n",
       "      <td>0.0</td>\n",
       "      <td>...</td>\n",
       "      <td>0.0</td>\n",
       "      <td>0.0</td>\n",
       "      <td>0.0</td>\n",
       "      <td>0.0</td>\n",
       "      <td>0.0</td>\n",
       "      <td>0.0</td>\n",
       "      <td>0.0</td>\n",
       "      <td>0.0</td>\n",
       "      <td>0.0</td>\n",
       "      <td>0.0</td>\n",
       "    </tr>\n",
       "    <tr>\n",
       "      <td>enggak memenunggu qc memenunggu motif cuit sbyudhoyono pasca agussilvy nyungsep</td>\n",
       "      <td>0.0</td>\n",
       "      <td>0.0</td>\n",
       "      <td>0.0</td>\n",
       "      <td>0.0</td>\n",
       "      <td>0.0</td>\n",
       "      <td>0.0</td>\n",
       "      <td>0.0</td>\n",
       "      <td>0.0</td>\n",
       "      <td>0.0</td>\n",
       "      <td>0.0</td>\n",
       "      <td>...</td>\n",
       "      <td>0.0</td>\n",
       "      <td>0.0</td>\n",
       "      <td>0.0</td>\n",
       "      <td>0.0</td>\n",
       "      <td>0.0</td>\n",
       "      <td>0.0</td>\n",
       "      <td>0.0</td>\n",
       "      <td>0.0</td>\n",
       "      <td>0.0</td>\n",
       "      <td>0.0</td>\n",
       "    </tr>\n",
       "    <tr>\n",
       "      <td>kasihh oh kasihh peluru rw agussilvy mempan menangin pilkada quickcount</td>\n",
       "      <td>0.0</td>\n",
       "      <td>0.0</td>\n",
       "      <td>0.0</td>\n",
       "      <td>0.0</td>\n",
       "      <td>0.0</td>\n",
       "      <td>0.0</td>\n",
       "      <td>0.0</td>\n",
       "      <td>0.0</td>\n",
       "      <td>0.0</td>\n",
       "      <td>0.0</td>\n",
       "      <td>...</td>\n",
       "      <td>0.0</td>\n",
       "      <td>0.0</td>\n",
       "      <td>0.0</td>\n",
       "      <td>0.0</td>\n",
       "      <td>0.0</td>\n",
       "      <td>0.0</td>\n",
       "      <td>0.0</td>\n",
       "      <td>0.0</td>\n",
       "      <td>0.0</td>\n",
       "      <td>0.0</td>\n",
       "    </tr>\n",
       "    <tr>\n",
       "      <td>dukung agussilvy hayo dukung aniessandi putar ronavioleta netizentofa</td>\n",
       "      <td>0.0</td>\n",
       "      <td>0.0</td>\n",
       "      <td>0.0</td>\n",
       "      <td>0.0</td>\n",
       "      <td>0.0</td>\n",
       "      <td>0.0</td>\n",
       "      <td>0.0</td>\n",
       "      <td>0.0</td>\n",
       "      <td>0.0</td>\n",
       "      <td>0.0</td>\n",
       "      <td>...</td>\n",
       "      <td>0.0</td>\n",
       "      <td>0.0</td>\n",
       "      <td>0.0</td>\n",
       "      <td>0.0</td>\n",
       "      <td>0.0</td>\n",
       "      <td>0.0</td>\n",
       "      <td>0.0</td>\n",
       "      <td>0.0</td>\n",
       "      <td>0.0</td>\n",
       "      <td>0.0</td>\n",
       "    </tr>\n",
       "    <tr>\n",
       "      <td>...</td>\n",
       "      <td>...</td>\n",
       "      <td>...</td>\n",
       "      <td>...</td>\n",
       "      <td>...</td>\n",
       "      <td>...</td>\n",
       "      <td>...</td>\n",
       "      <td>...</td>\n",
       "      <td>...</td>\n",
       "      <td>...</td>\n",
       "      <td>...</td>\n",
       "      <td>...</td>\n",
       "      <td>...</td>\n",
       "      <td>...</td>\n",
       "      <td>...</td>\n",
       "      <td>...</td>\n",
       "      <td>...</td>\n",
       "      <td>...</td>\n",
       "      <td>...</td>\n",
       "      <td>...</td>\n",
       "      <td>...</td>\n",
       "      <td>...</td>\n",
       "    </tr>\n",
       "    <tr>\n",
       "      <td>bpk aniesbaswedan sandiuno lihat rspun selfie okeoce ok hand debatpilkadadki ahokpanikahokkalah</td>\n",
       "      <td>0.0</td>\n",
       "      <td>0.0</td>\n",
       "      <td>0.0</td>\n",
       "      <td>0.0</td>\n",
       "      <td>0.0</td>\n",
       "      <td>0.0</td>\n",
       "      <td>0.0</td>\n",
       "      <td>0.0</td>\n",
       "      <td>0.0</td>\n",
       "      <td>0.0</td>\n",
       "      <td>...</td>\n",
       "      <td>0.0</td>\n",
       "      <td>0.0</td>\n",
       "      <td>0.0</td>\n",
       "      <td>0.0</td>\n",
       "      <td>0.0</td>\n",
       "      <td>0.0</td>\n",
       "      <td>0.0</td>\n",
       "      <td>0.0</td>\n",
       "      <td>0.0</td>\n",
       "      <td>0.0</td>\n",
       "    </tr>\n",
       "    <tr>\n",
       "      <td>rangkul batas usia kelamin okeoce ok hand salambersama pks temanahok victory hand</td>\n",
       "      <td>0.0</td>\n",
       "      <td>0.0</td>\n",
       "      <td>0.0</td>\n",
       "      <td>0.0</td>\n",
       "      <td>0.0</td>\n",
       "      <td>0.0</td>\n",
       "      <td>0.0</td>\n",
       "      <td>0.0</td>\n",
       "      <td>0.0</td>\n",
       "      <td>0.0</td>\n",
       "      <td>...</td>\n",
       "      <td>0.0</td>\n",
       "      <td>0.0</td>\n",
       "      <td>0.0</td>\n",
       "      <td>0.0</td>\n",
       "      <td>0.0</td>\n",
       "      <td>0.0</td>\n",
       "      <td>0.0</td>\n",
       "      <td>0.0</td>\n",
       "      <td>0.0</td>\n",
       "      <td>0.0</td>\n",
       "    </tr>\n",
       "    <tr>\n",
       "      <td>jago bidang digital smiling face with sunglasses ok hand thonyleong okeoce salambersama</td>\n",
       "      <td>0.0</td>\n",
       "      <td>0.0</td>\n",
       "      <td>0.0</td>\n",
       "      <td>0.0</td>\n",
       "      <td>0.0</td>\n",
       "      <td>0.0</td>\n",
       "      <td>0.0</td>\n",
       "      <td>0.0</td>\n",
       "      <td>0.0</td>\n",
       "      <td>0.0</td>\n",
       "      <td>...</td>\n",
       "      <td>0.0</td>\n",
       "      <td>0.0</td>\n",
       "      <td>0.0</td>\n",
       "      <td>0.0</td>\n",
       "      <td>0.0</td>\n",
       "      <td>0.0</td>\n",
       "      <td>0.0</td>\n",
       "      <td>0.0</td>\n",
       "      <td>0.0</td>\n",
       "      <td>0.0</td>\n",
       "    </tr>\n",
       "    <tr>\n",
       "      <td>pesanbijak okeoce</td>\n",
       "      <td>0.0</td>\n",
       "      <td>0.0</td>\n",
       "      <td>0.0</td>\n",
       "      <td>0.0</td>\n",
       "      <td>0.0</td>\n",
       "      <td>0.0</td>\n",
       "      <td>0.0</td>\n",
       "      <td>0.0</td>\n",
       "      <td>0.0</td>\n",
       "      <td>0.0</td>\n",
       "      <td>...</td>\n",
       "      <td>0.0</td>\n",
       "      <td>0.0</td>\n",
       "      <td>0.0</td>\n",
       "      <td>0.0</td>\n",
       "      <td>0.0</td>\n",
       "      <td>0.0</td>\n",
       "      <td>0.0</td>\n",
       "      <td>0.0</td>\n",
       "      <td>0.0</td>\n",
       "      <td>0.0</td>\n",
       "    </tr>\n",
       "    <tr>\n",
       "      <td>sandiaga bangun rumah dp simpel banding tol cipali aniessandijawarajakarta okeoce</td>\n",
       "      <td>0.0</td>\n",
       "      <td>0.0</td>\n",
       "      <td>0.0</td>\n",
       "      <td>0.0</td>\n",
       "      <td>0.0</td>\n",
       "      <td>0.0</td>\n",
       "      <td>0.0</td>\n",
       "      <td>0.0</td>\n",
       "      <td>0.0</td>\n",
       "      <td>0.0</td>\n",
       "      <td>...</td>\n",
       "      <td>0.0</td>\n",
       "      <td>0.0</td>\n",
       "      <td>0.0</td>\n",
       "      <td>0.0</td>\n",
       "      <td>0.0</td>\n",
       "      <td>0.0</td>\n",
       "      <td>0.0</td>\n",
       "      <td>0.0</td>\n",
       "      <td>0.0</td>\n",
       "      <td>0.0</td>\n",
       "    </tr>\n",
       "  </tbody>\n",
       "</table>\n",
       "<p>900 rows × 2451 columns</p>\n",
       "</div>"
      ],
      "text/plain": [
       "                                                     aa  aagym  abaaah  abal  \\\n",
       "content_processed                                                              \n",
       "akun kloning dukung agussilvy serang paslon ani...  0.0    0.0     0.0   0.0   \n",
       "agussilvy bicara kasihan lap air mata wkwkwkwk      0.0    0.0     0.0   0.0   \n",
       "enggak memenunggu qc memenunggu motif cuit sbyu...  0.0    0.0     0.0   0.0   \n",
       "kasihh oh kasihh peluru rw agussilvy mempan men...  0.0    0.0     0.0   0.0   \n",
       "dukung agussilvy hayo dukung aniessandi putar r...  0.0    0.0     0.0   0.0   \n",
       "...                                                 ...    ...     ...   ...   \n",
       "bpk aniesbaswedan sandiuno lihat rspun selfie o...  0.0    0.0     0.0   0.0   \n",
       "rangkul batas usia kelamin okeoce ok hand salam...  0.0    0.0     0.0   0.0   \n",
       "jago bidang digital smiling face with sunglasse...  0.0    0.0     0.0   0.0   \n",
       "pesanbijak okeoce                                   0.0    0.0     0.0   0.0   \n",
       "sandiaga bangun rumah dp simpel banding tol cip...  0.0    0.0     0.0   0.0   \n",
       "\n",
       "                                                    abang  abdi  absurd  \\\n",
       "content_processed                                                         \n",
       "akun kloning dukung agussilvy serang paslon ani...    0.0   0.0     0.0   \n",
       "agussilvy bicara kasihan lap air mata wkwkwkwk        0.0   0.0     0.0   \n",
       "enggak memenunggu qc memenunggu motif cuit sbyu...    0.0   0.0     0.0   \n",
       "kasihh oh kasihh peluru rw agussilvy mempan men...    0.0   0.0     0.0   \n",
       "dukung agussilvy hayo dukung aniessandi putar r...    0.0   0.0     0.0   \n",
       "...                                                   ...   ...     ...   \n",
       "bpk aniesbaswedan sandiuno lihat rspun selfie o...    0.0   0.0     0.0   \n",
       "rangkul batas usia kelamin okeoce ok hand salam...    0.0   0.0     0.0   \n",
       "jago bidang digital smiling face with sunglasse...    0.0   0.0     0.0   \n",
       "pesanbijak okeoce                                     0.0   0.0     0.0   \n",
       "sandiaga bangun rumah dp simpel banding tol cip...    0.0   0.0     0.0   \n",
       "\n",
       "                                                    abunawas  aburizal  \\\n",
       "content_processed                                                        \n",
       "akun kloning dukung agussilvy serang paslon ani...       0.0       0.0   \n",
       "agussilvy bicara kasihan lap air mata wkwkwkwk           0.0       0.0   \n",
       "enggak memenunggu qc memenunggu motif cuit sbyu...       0.0       0.0   \n",
       "kasihh oh kasihh peluru rw agussilvy mempan men...       0.0       0.0   \n",
       "dukung agussilvy hayo dukung aniessandi putar r...       0.0       0.0   \n",
       "...                                                      ...       ...   \n",
       "bpk aniesbaswedan sandiuno lihat rspun selfie o...       0.0       0.0   \n",
       "rangkul batas usia kelamin okeoce ok hand salam...       0.0       0.0   \n",
       "jago bidang digital smiling face with sunglasse...       0.0       0.0   \n",
       "pesanbijak okeoce                                        0.0       0.0   \n",
       "sandiaga bangun rumah dp simpel banding tol cip...       0.0       0.0   \n",
       "\n",
       "                                                    abused  ...  yra  \\\n",
       "content_processed                                           ...        \n",
       "akun kloning dukung agussilvy serang paslon ani...     0.0  ...  0.0   \n",
       "agussilvy bicara kasihan lap air mata wkwkwkwk         0.0  ...  0.0   \n",
       "enggak memenunggu qc memenunggu motif cuit sbyu...     0.0  ...  0.0   \n",
       "kasihh oh kasihh peluru rw agussilvy mempan men...     0.0  ...  0.0   \n",
       "dukung agussilvy hayo dukung aniessandi putar r...     0.0  ...  0.0   \n",
       "...                                                    ...  ...  ...   \n",
       "bpk aniesbaswedan sandiuno lihat rspun selfie o...     0.0  ...  0.0   \n",
       "rangkul batas usia kelamin okeoce ok hand salam...     0.0  ...  0.0   \n",
       "jago bidang digital smiling face with sunglasse...     0.0  ...  0.0   \n",
       "pesanbijak okeoce                                      0.0  ...  0.0   \n",
       "sandiaga bangun rumah dp simpel banding tol cip...     0.0  ...  0.0   \n",
       "\n",
       "                                                    yudhoyono  yuk  yusuf  \\\n",
       "content_processed                                                           \n",
       "akun kloning dukung agussilvy serang paslon ani...        0.0  0.0    0.0   \n",
       "agussilvy bicara kasihan lap air mata wkwkwkwk            0.0  0.0    0.0   \n",
       "enggak memenunggu qc memenunggu motif cuit sbyu...        0.0  0.0    0.0   \n",
       "kasihh oh kasihh peluru rw agussilvy mempan men...        0.0  0.0    0.0   \n",
       "dukung agussilvy hayo dukung aniessandi putar r...        0.0  0.0    0.0   \n",
       "...                                                       ...  ...    ...   \n",
       "bpk aniesbaswedan sandiuno lihat rspun selfie o...        0.0  0.0    0.0   \n",
       "rangkul batas usia kelamin okeoce ok hand salam...        0.0  0.0    0.0   \n",
       "jago bidang digital smiling face with sunglasse...        0.0  0.0    0.0   \n",
       "pesanbijak okeoce                                         0.0  0.0    0.0   \n",
       "sandiaga bangun rumah dp simpel banding tol cip...        0.0  0.0    0.0   \n",
       "\n",
       "                                                    zalim  zaraz  \\\n",
       "content_processed                                                  \n",
       "akun kloning dukung agussilvy serang paslon ani...    0.0    0.0   \n",
       "agussilvy bicara kasihan lap air mata wkwkwkwk        0.0    0.0   \n",
       "enggak memenunggu qc memenunggu motif cuit sbyu...    0.0    0.0   \n",
       "kasihh oh kasihh peluru rw agussilvy mempan men...    0.0    0.0   \n",
       "dukung agussilvy hayo dukung aniessandi putar r...    0.0    0.0   \n",
       "...                                                   ...    ...   \n",
       "bpk aniesbaswedan sandiuno lihat rspun selfie o...    0.0    0.0   \n",
       "rangkul batas usia kelamin okeoce ok hand salam...    0.0    0.0   \n",
       "jago bidang digital smiling face with sunglasse...    0.0    0.0   \n",
       "pesanbijak okeoce                                     0.0    0.0   \n",
       "sandiaga bangun rumah dp simpel banding tol cip...    0.0    0.0   \n",
       "\n",
       "                                                    zarazettirazr  \\\n",
       "content_processed                                                   \n",
       "akun kloning dukung agussilvy serang paslon ani...            0.0   \n",
       "agussilvy bicara kasihan lap air mata wkwkwkwk                0.0   \n",
       "enggak memenunggu qc memenunggu motif cuit sbyu...            0.0   \n",
       "kasihh oh kasihh peluru rw agussilvy mempan men...            0.0   \n",
       "dukung agussilvy hayo dukung aniessandi putar r...            0.0   \n",
       "...                                                           ...   \n",
       "bpk aniesbaswedan sandiuno lihat rspun selfie o...            0.0   \n",
       "rangkul batas usia kelamin okeoce ok hand salam...            0.0   \n",
       "jago bidang digital smiling face with sunglasse...            0.0   \n",
       "pesanbijak okeoce                                             0.0   \n",
       "sandiaga bangun rumah dp simpel banding tol cip...            0.0   \n",
       "\n",
       "                                                    zarazettirazz  zipper  \\\n",
       "content_processed                                                           \n",
       "akun kloning dukung agussilvy serang paslon ani...            0.0     0.0   \n",
       "agussilvy bicara kasihan lap air mata wkwkwkwk                0.0     0.0   \n",
       "enggak memenunggu qc memenunggu motif cuit sbyu...            0.0     0.0   \n",
       "kasihh oh kasihh peluru rw agussilvy mempan men...            0.0     0.0   \n",
       "dukung agussilvy hayo dukung aniessandi putar r...            0.0     0.0   \n",
       "...                                                           ...     ...   \n",
       "bpk aniesbaswedan sandiuno lihat rspun selfie o...            0.0     0.0   \n",
       "rangkul batas usia kelamin okeoce ok hand salam...            0.0     0.0   \n",
       "jago bidang digital smiling face with sunglasse...            0.0     0.0   \n",
       "pesanbijak okeoce                                             0.0     0.0   \n",
       "sandiaga bangun rumah dp simpel banding tol cip...            0.0     0.0   \n",
       "\n",
       "                                                    zona  \n",
       "content_processed                                         \n",
       "akun kloning dukung agussilvy serang paslon ani...   0.0  \n",
       "agussilvy bicara kasihan lap air mata wkwkwkwk       0.0  \n",
       "enggak memenunggu qc memenunggu motif cuit sbyu...   0.0  \n",
       "kasihh oh kasihh peluru rw agussilvy mempan men...   0.0  \n",
       "dukung agussilvy hayo dukung aniessandi putar r...   0.0  \n",
       "...                                                  ...  \n",
       "bpk aniesbaswedan sandiuno lihat rspun selfie o...   0.0  \n",
       "rangkul batas usia kelamin okeoce ok hand salam...   0.0  \n",
       "jago bidang digital smiling face with sunglasse...   0.0  \n",
       "pesanbijak okeoce                                    0.0  \n",
       "sandiaga bangun rumah dp simpel banding tol cip...   0.0  \n",
       "\n",
       "[900 rows x 2451 columns]"
      ]
     },
     "execution_count": 61,
     "metadata": {},
     "output_type": "execute_result"
    }
   ],
   "source": [
    "from sklearn.feature_extraction.text import TfidfVectorizer\n",
    "\n",
    "vectorizer = TfidfVectorizer()\n",
    "\n",
    "corpus = df_teks['content_processed']\n",
    "\n",
    "X = vectorizer.fit_transform(corpus)\n",
    "\n",
    "df_TFIDF_SL = pd.DataFrame(X.toarray(), columns=vectorizer.get_feature_names(), index=corpus)\n",
    "df_TFIDF_SL"
   ]
  },
  {
   "cell_type": "markdown",
   "metadata": {
    "id": "_L0ap_zsfrLS"
   },
   "source": [
    "\n",
    "Hasil fungsi yang kita buat dari dasar sama dengan TfidfVectorizer dari Library Scikit Learn"
   ]
  }
 ],
 "metadata": {
  "colab": {
   "name": "Text_Representation.ipynb",
   "provenance": []
  },
  "kernelspec": {
   "display_name": "Python 3",
   "language": "python",
   "name": "python3"
  },
  "language_info": {
   "codemirror_mode": {
    "name": "ipython",
    "version": 3
   },
   "file_extension": ".py",
   "mimetype": "text/x-python",
   "name": "python",
   "nbconvert_exporter": "python",
   "pygments_lexer": "ipython3",
   "version": "3.7.4"
  }
 },
 "nbformat": 4,
 "nbformat_minor": 1
}
